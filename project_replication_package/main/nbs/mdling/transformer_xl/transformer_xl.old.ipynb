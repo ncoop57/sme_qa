{
 "cells": [
  {
   "cell_type": "code",
   "execution_count": 1,
   "metadata": {},
   "outputs": [
    {
     "name": "stdout",
     "output_type": "stream",
     "text": [
      "Collecting sklearn\n",
      "  Downloading https://files.pythonhosted.org/packages/1e/7a/dbb3be0ce9bd5c8b7e3d87328e79063f8b263b2b1bfa4774cb1147bfcd3f/sklearn-0.0.tar.gz\n",
      "Collecting scikit-learn (from sklearn)\n",
      "\u001b[?25l  Downloading https://files.pythonhosted.org/packages/a0/c5/d2238762d780dde84a20b8c761f563fe882b88c5a5fb03c056547c442a19/scikit_learn-0.21.3-cp36-cp36m-manylinux1_x86_64.whl (6.7MB)\n",
      "\u001b[K     |████████████████████████████████| 6.7MB 3.6MB/s eta 0:00:01\n",
      "\u001b[?25hRequirement already satisfied: numpy>=1.11.0 in /usr/local/lib/python3.6/dist-packages (from scikit-learn->sklearn) (1.16.4)\n",
      "Collecting joblib>=0.11 (from scikit-learn->sklearn)\n",
      "\u001b[?25l  Downloading https://files.pythonhosted.org/packages/8f/42/155696f85f344c066e17af287359c9786b436b1bf86029bb3411283274f3/joblib-0.14.0-py2.py3-none-any.whl (294kB)\n",
      "\u001b[K     |████████████████████████████████| 296kB 14.6MB/s eta 0:00:01\n",
      "\u001b[?25hRequirement already satisfied: scipy>=0.17.0 in /usr/local/lib/python3.6/dist-packages (from scikit-learn->sklearn) (1.3.1)\n",
      "Building wheels for collected packages: sklearn\n",
      "  Building wheel for sklearn (setup.py) ... \u001b[?25ldone\n",
      "\u001b[?25h  Created wheel for sklearn: filename=sklearn-0.0-py2.py3-none-any.whl size=2397 sha256=14144337a2e44b7a9ea10a5b647dd87f8159237f342476ff3d3c4d050d971a56\n",
      "  Stored in directory: /root/.cache/pip/wheels/76/03/bb/589d421d27431bcd2c6da284d5f2286c8e3b2ea3cf1594c074\n",
      "Successfully built sklearn\n",
      "Installing collected packages: joblib, scikit-learn, sklearn\n",
      "Successfully installed joblib-0.14.0 scikit-learn-0.21.3 sklearn-0.0\n",
      "\u001b[33mWARNING: You are using pip version 19.2.3, however version 19.3.1 is available.\n",
      "You should consider upgrading via the 'pip install --upgrade pip' command.\u001b[0m\n"
     ]
    }
   ],
   "source": [
    "! pip install sklearn"
   ]
  },
  {
   "cell_type": "markdown",
   "metadata": {},
   "source": [
    "# Imports"
   ]
  },
  {
   "cell_type": "code",
   "execution_count": 1,
   "metadata": {},
   "outputs": [],
   "source": [
    "from fastai.text import *"
   ]
  },
  {
   "cell_type": "code",
   "execution_count": 2,
   "metadata": {},
   "outputs": [],
   "source": [
    "import sys\n",
    "\n",
    "sys.path.append(\"../../\")\n",
    "from eval.exp.nb_evaluation import *\n",
    "\n",
    "sys.path.append(\"../../../\")\n",
    "from src.proc.exp.nb_proc import *\n",
    "from src.prep.exp.nb_prep import *"
   ]
  },
  {
   "cell_type": "code",
   "execution_count": 3,
   "metadata": {},
   "outputs": [],
   "source": [
    "import warnings\n",
    "warnings.filterwarnings('ignore')"
   ]
  },
  {
   "cell_type": "code",
   "execution_count": 4,
   "metadata": {},
   "outputs": [],
   "source": [
    "# setup paths and model type\n",
    "model_path = Path(\"/tf/data/models\")\n",
    "data_path  = Path(\"/tf/data/datasets\")\n",
    "\n",
    "task_type = \"merged\""
   ]
  },
  {
   "cell_type": "markdown",
   "metadata": {},
   "source": [
    "# Load Data"
   ]
  },
  {
   "cell_type": "code",
   "execution_count": 5,
   "metadata": {},
   "outputs": [],
   "source": [
    "df_trn, df_val, df_tst = read_data(data_path/task_type)"
   ]
  },
  {
   "cell_type": "code",
   "execution_count": 6,
   "metadata": {},
   "outputs": [],
   "source": [
    "bs = 8"
   ]
  },
  {
   "cell_type": "markdown",
   "metadata": {},
   "source": [
    "Percentage of data to be used: sample "
   ]
  },
  {
   "cell_type": "code",
   "execution_count": 30,
   "metadata": {
    "scrolled": true
   },
   "outputs": [],
   "source": [
    "# data = gen_lm_data(df_trn, df_val, task_type, data_path, sample = 0.30, bs = bs)\n",
    "data = gen_lm_data(df_trn, df_val, task_type, data_path, bs = bs)\n",
    "# data.save(task_type + '/data_lm_10pct.pkl')\n",
    "data.save(task_type + '/data_lm_100pct.pkl')"
   ]
  },
  {
   "cell_type": "code",
   "execution_count": null,
   "metadata": {},
   "outputs": [],
   "source": [
    "# data.save(task_type + '/data_lm_30pct.pkl')"
   ]
  },
  {
   "cell_type": "code",
   "execution_count": 9,
   "metadata": {},
   "outputs": [
    {
     "data": {
      "text/plain": [
       "LabelLists;\n",
       "\n",
       "Train: LabelList (49290 items)\n",
       "x: LMTextList\n",
       "▁x x bo s ▁public ▁static ▁process context ▁create random context ( set < string > ▁ act iv ities , ▁int ▁origin ator count , ▁list < string > ▁role s ) ▁{ ▁validate . not null ( act iv ities ); ▁validate . no null elements ( act iv ities ); ▁validate . not negative ( origin ator count ); ▁validate . not null ( role s ); ▁validate . no null elements ( role s ); ▁process context ▁new context ▁= ▁new ▁process context (\" random ▁x x ma j ▁context \"); ▁new context . set act iv ities ( act iv ities ); ▁list < string > ▁c origin ator s ▁= ▁create subject list ( origin ator count ); ▁new context . set subject s ( new ▁hash set <>( c origin ator s )); ▁/ ▁/ ▁x x ma j ▁create ▁a ▁new ▁access ▁control ▁model . ▁new context . set ac model ( r b ac model . create random model ( c origin ator s , ▁ act iv ities , ▁role s )); ▁return ▁new context ; ▁}<$ comment $> create s ▁a ▁new ▁context ▁using ▁an ▁x x up ▁r b ac ▁access ▁control ▁model . < br > ▁x x ma j ▁users ▁and ▁permissions ▁to ▁execute ▁transaction s ▁are ▁random ly ▁assigned ▁to ▁the ▁given ▁role s . < br > ▁x x ma j ▁each ▁person ▁is ▁assigned ▁to ▁exactly ▁one ▁role . ▁@ param ▁ act iv ities ▁x x ma j ▁the ▁process ▁ act iv ities . ▁@ param ▁origin ator count ▁x x ma j ▁the ▁number ▁of ▁desired ▁origin ator s . ▁@ param ▁role s ▁x x ma j ▁the ▁role s ▁to ▁use . ▁@ return ▁a ▁new ▁random ly ▁generated ▁x x ma j ▁context .,▁x x bo s ▁public ▁static ▁x x ma j ▁report ▁error report ( string ▁key , ▁x x ma j ▁string ▁message ) ▁{ ▁return ▁build report (). error ( key , ▁message ) . build (); ▁}<$ comment $> return ▁a ▁report ▁for ▁a ▁single ▁error ▁item ▁@ param ▁key ▁key ▁@ param ▁message ▁message ▁@ return ▁report,▁x x bo s ▁@ override ▁protected ▁mapping jackson 2 http message convert er ▁get json message convert er () ▁{ ▁mapping jackson 2 http message convert er ▁converter ▁= ▁super . get json message convert er (); ▁converter . set object mapper ( new ▁object mapper (). register module ( new ▁t w itter module ())); ▁return ▁converter ; ▁}<$ comment $> abs tra c to auth 1 api binding ▁ ho ok s,▁x x bo s ▁public ▁method dec la ration ▁get method ( string ▁name , ▁x x ma j ▁string ▁signature ) ▁{ ▁for ▁( entity dec la ration ▁node ▁: ▁type . get member s ()) ▁{ ▁if ▁( node . get entity type () ▁== ▁entity type . method ) ▁{ ▁method dec la ration ▁method ▁= ▁( method dec la ration ) ▁node ; ▁if ▁( method . get name (). equals ( name ) ▁&& ▁signature . equals ( signature ( method ))) ▁{ ▁return ▁method ; ▁} ▁} ▁} ▁return ▁null ; ▁}<$ comment $> return s ▁the ▁x x ma j ▁proc y on ▁method ▁definition ▁for ▁a ▁specified ▁method , ▁or ▁null ▁if ▁not ▁found .,▁x x bo s ▁public ▁java . lang . string ▁save message ( java . lang . string ▁from , ▁java . lang . string ▁to , ▁java . lang . string ▁msg , ▁com . ch at sdk . org . j ive soft ware . s m ack . pack et . message ▁message , ▁byte ▁message type ) ▁{ ▁java . lang . string ▁name ▁= ▁\"\"; ▁java . lang . string ▁ caption tag ▁= ▁message . get media tag message (); ▁java . lang . string ▁filename ▁= ▁message . get media filename (); ▁java . lang . string ▁location msg ▁= ▁message . get location message (); ▁boolean ▁is _ s ent _ from _ console ▁= ▁false ; ▁if ▁( ( ( message . is console message ()) ▁!= ▁null ) ▁&& ▁( message . is console message (). equals ignore case (\" true \")) ) ▁is _ s ent _ from _ console ▁= ▁true ; ▁try ▁{ ▁android . content . content values ▁content values ▁= ▁new ▁android . content . content values (); ▁if ▁( is _ s ent _ from _ console ) ▁{ ▁content values . put ( ch at db const ant s . from _ user _ field , ▁to ); ▁java . lang . string ▁dest ▁= ▁message . get cu st dest (); ▁if ▁( ( dest ▁!= ▁null ) ▁&& ▁( ( dest . last index of (\" @ \")) ▁!= ▁( -1) )) ▁dest ▁= ▁dest . substring (0, ▁dest . last index of (\" @ \")); ▁from ▁= ▁to ; ▁to ▁= ▁dest ; ▁content values . put ( ch at db const ant s . to _ user _ field , ▁dest ); ▁} else ▁{ ▁content values . put ( ch at db const ant s . from _ user _ field , ▁from ); ▁content values . put ( ch at db const ant s . to _ user _ field , ▁to ); ▁} ▁if ▁( ( message . get status message type (). ordinal ()) ▁== ▁( message . status message type . shared id . ordinal ())) ▁{ ▁java . lang . string ▁shared id ▁= ▁message . get group id (); ▁java . lang . string ▁shared id _ display _ name ▁= ▁message . get group display name (); ▁content values . put ( ch at db const ant s . from _ group _ user _ field , ▁( ( ( shared id _ display _ name ▁+ ▁\" < \") ▁+ ▁shared id ) ▁+ ▁\" > \")); ▁} else ▁content values . put ( ch at db const ant s . from _ group _ user _ field , ▁\" \"); ▁if ▁( ( message . get status message type (). ordinal ()) ▁== ▁( message . status message type . broadcast to all . ordinal ())) ▁{ ▁content values . put ( ch at db const ant s . message _ type , ▁message . get status message type (). ordinal ()); ▁} else ▁if ▁( ( message . get status message type (). ordinal ()) ▁== ▁( message . status message type . shared id . ordinal ())) ▁{ ▁content values . put ( ch at db const ant s . message _ type , ▁message . get status message type (). ordinal ()); ▁} ▁if ▁x x re p ▁7 ▁( ▁message . get x mp p message type ()) ▁== ▁( com . ch at sdk . org . j ive soft ware . s m ack . pack et . message . x mp p message type . at m ex mp p message type image )) ▁|| ▁( ( message . get x mp p message type ()) ▁== ▁( com . ch at sdk . org . j ive soft ware . s m ack . pack et . message . x mp p message type . at m ex mp p message type video ))) ▁|| ▁( ( message . get x mp p message type ()) ▁== ▁( com . ch at sdk . org . j ive soft ware . s m ack . pack et . message . x mp p message type . at m ex mp p message type audio ))) ▁&& ▁( msg ▁!= ▁null )) ▁&& ▁(! ( from . equals ( com . super ch at . util s . shared p ref manager . get instance (). get username ( ▁x x re p ▁5 ▁ ) ▁&& ▁( caption tag ▁!= ▁null )) ▁content values . put ( ch at db const ant s . media _ caption _ tag , ▁msg ); ▁else ▁if ▁( ( caption tag ▁!= ▁null ) ▁&& ▁(! ( caption tag . equals (\" \" ▁x x re p ▁4 ▁ ) ▁content values . put ( ch at db const ant s . media _ caption _ tag , ▁ caption tag ); ▁if ▁( ( filename ▁!= ▁null ) ▁&& ▁(! ( filename . equals (\" \" ▁x x re p ▁4 ▁ ) ▁{ ▁content values . put ( ch at db const ant s . media _ caption _ tag , ▁filename ); ▁} ▁if ▁( ( message . get x mp p message type ()) ▁== ▁( com . ch at sdk . org . j ive soft ware . s m ack . pack et . message . x mp p message type . at m ex mp p message type location )) ▁{ ▁if ▁( ( location msg ▁!= ▁null ) ▁&& ▁(! ( location msg . equals (\" \" ▁x x re p ▁4 ▁ ) ▁content values . put ( ch at db const ant s . message _ type _ location , ▁location msg ); ▁} ▁content values . put ( ch at db const ant s . message _ type _ field , ▁message type ); ▁content values . put ( ch at db const ant s . un read _ count _ field , ▁new ▁java . lang . integer (1) ); ▁content values . put ( ch at db const ant s . see n _ field , ▁message . get message see n state (). ordinal ()); ▁if ▁( ( ( message . get x mp p message type ()) ▁== ▁( com . ch at sdk . org . j ive soft ware . s m ack . pack et . message . x mp p message type . at m ex mp p message type image )) ▁|| ▁( ( message . get x mp p message type ()) ▁== ▁( com . ch at sdk . org . j ive soft ware . s m ack . pack et . message . x mp p message type . at m ex mp p message type video ))) ▁{ ▁com . ch at sdk . org . j ive soft ware . s m ack . pack et . message . media body ▁media ▁= ▁message . get media body (); ▁if ▁( media ▁!= ▁null ) ▁{ ▁java . lang . string ▁type ▁= ▁media . get type (); ▁if ▁( type ▁!= ▁null ) ▁content values . put ( ch at db const ant s . message _ type _ field , ▁message . get x mp p message type (). ordinal ()); ▁java . lang . string ▁url image ▁= ▁media . get url (); ▁if ▁( ( message . get x mp p message type ()) ▁== ▁( com . ch at sdk . org . j ive soft ware . s m ack . pack et . message . x mp p message type . at m ex mp p message type video )) ▁{ ▁if ▁( ( ( url image ▁!= ▁null ) ▁&& ▁(! ( ( url image . end s with (\" . mp 4 \")) ▁|| ▁( url image . end s with (\" . 3 g p \" ▁x x re p ▁5 ▁ ) ▁|| ▁( url image . end s with (\" . 3 g p p \")) ) ▁url image ▁= ▁( url image . substring (0, ▁url image . last index of ('.') )) ▁+ ▁\" . mp 4 \"; ▁} ▁if ▁( url image ▁!= ▁null ) ▁content values . put ( ch at db const ant s . message _ media _ url _ field , ▁url image ); ▁java . lang . string ▁th umb image ▁= ▁media . get th umb _ data (); ▁if ▁( th umb image ▁!= ▁null ) ▁content values . put ( ch at db const ant s . message _ th umb _ field , ▁th umb image ); ▁} ▁} else ▁if ▁x x re p ▁5 ▁( ▁message . get x mp p message type ()) ▁== ▁( com . ch at sdk . org . j ive soft ware . s m ack . pack et . message . x mp p message type . at m ex mp p message type doc )) ▁|| ▁( ( message . get x mp p message type ()) ▁== ▁( com . ch at sdk . org . j ive soft ware . s m ack . pack et . message . x mp p message type . at m ex mp p message type pdf ))) ▁|| ▁( ( message . get x mp p message type ()) ▁== ▁( com . ch at sdk . org . j ive soft ware . s m ack . pack et . message . x mp p message type . at m ex mp p message type x ls ))) ▁|| ▁( ( message . get x mp p message type ()) ▁== ▁( com . ch at sdk . org . j ive soft ware . s m ack . pack et . message . x mp p message type . at m ex mp p message type p pt ))) ▁{ ▁com . ch at sdk . org . j ive soft ware . s m ack . pack et . message . media body ▁media ▁= ▁message . get media body (); ▁if ▁( media ▁!= ▁null ) ▁{ ▁java . lang . string ▁type ▁= ▁media . get type (); ▁if ▁( type ▁!= ▁null ) ▁content values . put ( ch at db const ant s . message _ type _ field , ▁message . get x mp p message type (). ordinal ()); ▁java . lang . string ▁url pdf ▁= ▁media . get url (); ▁if ▁( url pdf ▁!= ▁null ) ▁{ ▁content values . put ( ch at db const ant s . message _ media _ url _ field , ▁url pdf ); ▁} ▁} ▁} else ▁if ▁( ( message . get x mp p message type ()) ▁== ▁( com . ch at sdk . org . j ive soft ware . s m ack . pack et . message . x mp p message type . at m ex mp p message type audio )) ▁{ ▁com . ch at sdk . org . j ive soft ware . s m ack . pack et . message . media body ▁media ▁= ▁message . get media body (); ▁if ▁( media ▁!= ▁null ) ▁{ ▁java . lang . string ▁type ▁= ▁media . get type (); ▁if ▁( type ▁!= ▁null ) ▁content values . put ( ch at db const ant s . message _ type _ field , ▁message . get x mp p message type (). ordinal ()); ▁java . lang . string ▁url voice ▁= ▁media . get url (); ▁if ▁( url voice ▁!= ▁null ) ▁{ ▁if ▁( url voice . contains (\" . ca f \")) ▁{ ▁url voice ▁= ▁url voice . replace (\" . ca f \", ▁com . ch at . sdk . ch at service . media _ type ); ▁} ▁content values . put ( ch at db const ant s . message _ media _ url _ field , ▁url voice ); ▁} ▁if ▁( ( media . get audio length ()) ▁!= ▁null ) ▁content values . put ( ch at db const ant s . message _ media _ length , ▁media . get audio length ()); ▁} ▁} ▁content values . put ( ch at db const ant s . message info _ field , ▁msg ); ▁java . lang . string ▁my name ▁= ▁pre f manager . get username (); ▁java . lang . string ▁op p name ▁= ▁\"\"; ▁boolean ▁is broadcast ▁= ▁pre f manager . is broadcast ( from ); ▁if ▁( ( my name . equals ( from )) ▁|| ▁is broadcast ) ▁{ ▁name ▁= ▁com . super ch at . data . db . db wrap per . get instance ( com . ch at . sdk . ch at service . context ) . get ch at name ( to ); ▁if ▁( is _ s ent _ from _ console ) ▁{ ▁op p name ▁= ▁from ; ▁content values . put ( ch at db const ant s . message _ id , ▁message . get console pack et id ()); ▁} else ▁{ ▁op p name ▁= ▁to ; ▁content values . put ( ch at db const ant s . message _ id , ▁message . get pack et id ()); ▁} ▁content values . put ( ch at db const ant s . for e ig n _ message _ id _ field , ▁java . util . uuid . random uuid (). to string ()); ▁} else ▁{ ▁if ▁( is _ s ent _ from _ console ) ▁{ ▁op p name ▁= ▁to ; ▁name ▁= ▁com . super ch at . data . db . db wrap per . get instance ( com . ch at . sdk . ch at service . context ) . get ch at name ( to ); ▁} else ▁{ ▁op p name ▁= ▁from ; ▁name ▁= ▁com . super ch at . data . db . db wrap per . get instance ( com . ch at . sdk . ch at service . context ) . get ch at name ( from ); ▁} ▁if ▁(! ( name . contains (\" ▁# ▁7 86 ▁# ▁\" ))) ▁{ ▁java . lang . string ▁send er display name ▁= ▁message . get display name (); ▁if ▁( ( s ender display name ▁!= ▁null ) ▁&& ▁(! ( s ender display name . equals (\" \" ▁x x re p ▁4 ▁ ) ▁{ ▁name ▁= ▁( s ender display name ▁+ ▁\" ▁# ▁7 86 ▁# ▁\" ) ▁+ ▁from ; ▁java . lang . string ▁t mobile ▁= ▁\"\"; ▁if ▁( from . contains (\" _ \")) ▁t mobile ▁= ▁\" +\" ▁+ ▁( from . substring (0, ▁from . index of (\" _ \")) ); ▁add new contact entry ( s ender display name , ▁from , ▁t mobile ); ▁java . lang . string ▁t file id ▁= ▁message . get pic id (); ▁if ▁( ( t file id ▁!= ▁null ) ▁&& ▁(! ( t file id . equals (\" \" ▁x x re p ▁4 ▁ ) ▁pre f manager . save user file id ( from , ▁t file id ); ▁} ▁} ▁if ▁( is _ s ent _ from _ console ) ▁content values . put ( ch at db const ant s . message _ id , ▁message . get console pack et id ()); ▁else ▁content values . put ( ch at db const ant s . message _ id , ▁java . util . uuid . random uuid (). to string ()); ▁java . lang . string ▁for eg in ▁= ▁message . get pack et id (); ▁if ▁( ( for eg in ▁!= ▁null ) ▁&& ▁(! ( for eg in . equals (\" \" ▁x x re p ▁4 ▁ ) ▁content values . put ( ch at db const ant s . for e ig n _ message _ id _ field , ▁message . get pack et id ()); ▁else ▁content values . put ( ch at db const ant s . for e ig n _ message _ id _ field , ▁java . util . uuid . random uuid (). to string ()); ▁} ▁long ▁current time ▁= ▁java . lang . system . current time millis (); ▁cal ender . set time in millis ( current time ); ▁int ▁date ▁= ▁cal ender . get ( java . util . calendar . date ); ▁int ▁old date ▁= ▁date ; ▁long ▁m il is ▁= ▁ch at db wrap per . last message in db ( op p name ); ▁if ▁( mi li s ▁!= ▁( -1) ) ▁{ ▁cal ender . set time in millis ( mi li s ); ▁old date ▁= ▁cal ender . get ( java . util . calendar . date ); ▁} ▁if ▁x x re p ▁4 ▁( ▁old date ▁!= ▁date ) ▁|| ▁( ch at db wrap per . is first ch at ( op p name ))) ▁&& ▁( ( message . get status message type (). ordinal ()) ▁!= ▁( message . status message type . broadcast to all . ordinal ( ▁x x re p ▁4 ▁ ) ▁&& ▁(! ( p ref manager . is shared id contact ( to ▁x x re p ▁4 ▁ ) ▁{ ▁content values . put ( ch at db const ant s . is _ date _ change d _ field , ▁\" 1 \"); ▁content values . put ( ch at db const ant s . message _ type , ▁x mp p message type . at m ex mp p message type spec ial message . ordinal ()); ▁} else ▁{ ▁content values . put ( ch at db const ant s . is _ date _ change d _ field , ▁\" 0 \"); ▁} ▁content values . put ( ch at db const ant s . last _ update _ field , ▁current time ); ▁if ▁( com . super ch at . util s . shared p ref manager . get instance (). is broadcast ( to )) ▁{ ▁if ▁( ( com . super ch at . util s . shared p ref manager . get instance (). get broadcast first time name ( to )) ▁!= ▁null ) ▁content values . put ( ch at db const ant s . contact _ name s _ field , ▁com . super ch at . util s . shared p ref manager . get instance (). get broadcast first time name ( to )); ▁else ▁{ ▁com . super ch at . util s . shared p ref manager . get instance (). save broadcast first time name ( to , ▁name ); ▁content values . put ( ch at db const ant s . contact _ name s _ field , ▁name ); ▁} ▁} else ▁if ▁( ( message . get status message type (). ordinal ()) ▁== ▁( message . status message type . broadcast to all . ordinal ())) ▁content values . put ( ch at db const ant s . contact _ name s _ field , ▁( ( com . super ch at . util s . shared p ref manager . get instance (). get user domain ()) ▁+ ▁\" - all \")); ▁else ▁content values . put ( ch at db const ant s . contact _ name s _ field , ▁name ); ▁long ▁inserted info ▁= ▁ch at db wrap per . insert in db ( ch at db const ant s . table _ name _ message _ info , ▁content values ); ▁com . super ch at . util s . log . d ( tag , ▁( ( (\" insert ed info ▁during ▁message ▁save : ▁\" ▁+ ▁inserted info ) ▁+ ▁\" ▁ , ▁\" ) ▁+ ▁( content values . value set (). to array ( ▁x x re p ▁4 ▁ ) ▁ ; ▁if ▁( ( com . ch at . sdk . ch at service . ch at listener ) ▁!= ▁null ) ▁com . ch at . sdk . ch at service . ch at listener . notify ch at rec ie ve ( from , ▁msg ); ▁} ▁catch ▁( java . lang . exception ▁e ) ▁{ ▁com . super ch at . util s . log . d ( tag , ▁x x re p ▁5 ▁( ▁\" exception ▁during ▁save ▁message \" ▁+ ▁from ) ▁+ ▁\"-\" ) ▁+ ▁to ) ▁+ ▁\"-\" ) ▁+ ▁msg )); ▁} ▁return ▁name ; ▁}<$ b ug $> yes\n",
       "y: LMLabelList\n",
       ",,,,\n",
       "Path: /tf/data/datasets;\n",
       "\n",
       "Valid: LabelList (10536 items)\n",
       "x: LMTextList\n",
       "▁x x bo s ▁@ java . lang . override ▁public ▁void ▁run () ▁{ ▁try ▁{ ▁get activity (). run on ui thread ( new ▁java . lang . run n able () ▁{ ▁public ▁void ▁run () ▁{ ▁ rotate rec ie ve button (); ▁} ▁} ); ▁} ▁catch ▁( java . lang . exception ▁e ) ▁{ ▁} ▁}<$ b ug $> yes,▁x x bo s ▁private ▁void ▁initialize port ra it list listener () ▁{ ▁in struct ion layout . set on click listener ( new ▁on click listener () ▁{ ▁@ override ▁public ▁void ▁on click ( view ▁in struct ion view ) ▁{ ▁boolean ▁in struct ion s visible ▁= ▁in struct ion list layout . get visibility () ▁== ▁x x up ▁visible ; ▁if ▁(! in struct ion s visible ) ▁{ ▁show in struct ion list (); ▁} ▁else ▁{ ▁ hide in struct ion list (); ▁} ▁} ▁} ); ▁}<$ comment $> for ▁port ra it ▁ orientation , ▁ attach ▁the ▁listener ▁to ▁the ▁whole ▁layout ▁and ▁use ▁custom ▁animation s ▁to ▁ hide ▁and ▁show ▁the ▁in struct ion s ▁/ ▁sound ▁layout,▁x x bo s ▁public ▁final ▁void ▁delete metric descriptor ( string ▁name ) ▁{ ▁delete metric descriptor request ▁request ▁= ▁delete metric descriptor request . new builder (). set name ( name ) . build (); ▁delete metric descriptor ( request ); ▁}<$ comment $> delete s ▁a ▁metric ▁descriptor . ▁x x ma j ▁only ▁user - create d ▁[ custom ▁metrics ] ( ▁/ ▁monitor ing ▁/ ▁custom - metric s ) ▁can ▁be ▁deleted . ▁< p > sample ▁code : ▁< pre >< code > ▁try ▁( metric service client ▁metric service client ▁= ▁metric service client . create ()) ▁{ ▁metric descriptor name ▁name ▁= ▁metric descriptor name . of (\"[ project ]\", ▁x x up ▁\"[ metric _ descriptor ]\"); ▁metric service client . delete metric descriptor ( name . to string ()); ▁} ▁< ▁/ ▁code >< ▁/ ▁pre > ▁@ param ▁name ▁x x ma j ▁the ▁metric ▁descriptor ▁on ▁which ▁to ▁execute ▁the ▁request . ▁x x ma j ▁the ▁format ▁is ▁` \" project s ▁/ ▁{ project _ id _ or _ number } ▁/ ▁metric descriptor s ▁/ ▁{ metric _ id } \" ` . ▁x x ma j ▁an ▁example ▁of ▁` { metric _ id } ` ▁is : ▁` \" custom . google api s . com ▁/ ▁my _ test _ metric \" ` . ▁@ throws ▁com . google . api . gax . rpc . api exception ▁if ▁the ▁remote ▁call ▁fails,▁x x bo s ▁@ java . lang . override ▁public ▁void ▁widget selected ( org . eclipse . s w t . event s . select ion event ▁e ) ▁{ ▁for ▁( org . ns ch mi dt . ld part editor . open gl . open gl render er ▁renderer ▁: ▁org . ns ch mi dt . ld part editor . sh ell s . editor 3 d . editor 3 d window . render s ) ▁{ ▁org . ns ch mi dt . ld part editor . com pos ite s . com pos ite 3 d ▁c 3 d ▁= ▁renderer . get c 3 d (); ▁org . ns ch mi dt . ld part editor . data . d at file ▁ df ▁= ▁c 3 d . get lock able d at file reference (); ▁if ▁( ( df . equals ( org . ns ch mi dt . ld part editor . project . project . get file to edit ())) ▁&& ▁(! ( org . ns ch mi dt . ld part editor . project . project . get file to edit (). is read only ( ▁x x re p ▁4 ▁ ) ▁{ ▁org . ns ch mi dt . ld part editor . data . vertex manager ▁v m ▁= ▁ df . get vertex manager (); ▁org . ns ch mi dt . ld part editor . data . g data png ▁sp ▁= ▁v m . get selected b g pic t ure (); ▁boolean ▁no b g pic t ure s ▁= ▁ df . has no background pic t ure s (); ▁v m . set selected b g pic t ure index ( ( ( v m . get selected b g pic t ure index ()) ▁- ▁1) ); ▁boolean ▁index out of bound s ▁= ▁( v m . get selected b g pic t ure index ()) ▁< ▁0; ▁boolean ▁no real data ▁= ▁( df . get draw per line _ no clone (). get key ( s p )) ▁== ▁null ; ▁if ▁( no b g pic t ure s ) ▁{ ▁for ▁( org . ns ch mi dt . ld part editor . open gl . open gl render er ▁renderer 2 ▁: ▁org . ns ch mi dt . ld part editor . sh ell s . editor 3 d . editor 3 d window . render s ) ▁{ ▁renderer 2. dispose all text ure s (); ▁} ▁v m . add background pic t ure (\" \", ▁new ▁org . ns ch mi dt . ld part editor . data . vertex ( java . math . big decimal . zero , ▁java . math . big decimal . zero , ▁java . math . big decimal . zero ) , ▁java . math . big decimal . zero , ▁java . math . big decimal . zero , ▁java . math . big decimal . zero , ▁new ▁org . ns ch mi dt . ld part editor . data . vertex ( java . math . big decimal . one , ▁java . math . big decimal . one , ▁java . math . big decimal . one ) , ▁( ( ( org . ns ch mi dt . ld part editor . project . project . get project path ()) ▁+ ▁( java . io . file . separator )) ▁+ ▁\" . png \")); ▁} else ▁{ ▁if ▁( index out of bound s ) ▁v m . set selected b g pic t ure index ( ( ( df . get background pic t ure count ()) ▁- ▁1) ); ▁if ▁( no real data ) ▁{ ▁v m . set selected b g pic t ure index (0); ▁v m . set selected b g pic t ure ( df . get background pic t ure (0) ); ▁} else ▁{ ▁v m . set selected b g pic t ure ( df . get background pic t ure ( v m . get selected b g pic t ure index ())); ▁} ▁} ▁update b g pic t ure tab (); ▁} ▁} ▁}<$ b ug $> yes,▁x x bo s ▁void ▁start validation () ▁{ ▁m _ old report . set visible ( false ); ▁m _ thread report . remove all component s (); ▁cms external link s validator thread ▁thread ▁= ▁new ▁cms external link s validator thread ( ▁a _ cms ui . get cms object (), ▁new ▁x x ma j ▁runnable () ▁{ ▁public ▁void ▁run () ▁{ ▁enable button (); ▁} ▁} ); ▁thread . start (); ▁cms report widget ▁report widget ▁= ▁new ▁cms report widget ( thread ); ▁report widget . set height (\" 500 px \"); ▁m _ thread report . add component ( report widget ); ▁m _ exec . set enabled ( false ); ▁}<$ comment $> start s ▁the ▁validation . < p >\n",
       "y: LMLabelList\n",
       ",,,,\n",
       "Path: /tf/data/datasets;\n",
       "\n",
       "Test: None"
      ]
     },
     "execution_count": 9,
     "metadata": {},
     "output_type": "execute_result"
    }
   ],
   "source": [
    "data.label_list"
   ]
  },
  {
   "cell_type": "code",
   "execution_count": null,
   "metadata": {
    "scrolled": true
   },
   "outputs": [],
   "source": [
    "data = load_data(data_path/task_type, 'data_lm_30pct.pkl', bs=bs)"
   ]
  },
  {
   "cell_type": "code",
   "execution_count": null,
   "metadata": {
    "scrolled": true
   },
   "outputs": [],
   "source": [
    "data = load_data(data_path/task_type, 'data_lm_100pct.pkl', bs=bs)"
   ]
  },
  {
   "cell_type": "code",
   "execution_count": 31,
   "metadata": {},
   "outputs": [
    {
     "data": {
      "text/plain": [
       "(4929, 1054)"
      ]
     },
     "execution_count": 31,
     "metadata": {},
     "output_type": "execute_result"
    }
   ],
   "source": [
    "len(data.train_ds), len(data.valid_ds)"
   ]
  },
  {
   "cell_type": "markdown",
   "metadata": {},
   "source": [
    "# Model Setup"
   ]
  },
  {
   "cell_type": "code",
   "execution_count": 32,
   "metadata": {},
   "outputs": [],
   "source": [
    "pretrained = False"
   ]
  },
  {
   "cell_type": "code",
   "execution_count": 33,
   "metadata": {},
   "outputs": [],
   "source": [
    "language_model_learner?"
   ]
  },
  {
   "cell_type": "code",
   "execution_count": 34,
   "metadata": {},
   "outputs": [],
   "source": [
    "learn = language_model_learner(data, AWD_LSTM, drop_mult = 0.3, pretrained = pretrained)"
   ]
  },
  {
   "cell_type": "code",
   "execution_count": 35,
   "metadata": {},
   "outputs": [],
   "source": [
    "# amit experiments\n",
    "learn = language_model_learner(data, TransformerXL, drop_mult = 0.3, pretrained = pretrained, metrics=[accuracy])"
   ]
  },
  {
   "cell_type": "code",
   "execution_count": 36,
   "metadata": {},
   "outputs": [
    {
     "data": {
      "text/html": [],
      "text/plain": [
       "<IPython.core.display.HTML object>"
      ]
     },
     "metadata": {},
     "output_type": "display_data"
    },
    {
     "name": "stdout",
     "output_type": "stream",
     "text": [
      "LR Finder is complete, type {learner_name}.recorder.plot() to see the graph.\n"
     ]
    },
    {
     "data": {
      "image/png": "[encoded data removed]",
      "text/plain": [
       "<Figure size 432x288 with 1 Axes>"
      ]
     },
     "metadata": {
      "needs_background": "light"
     },
     "output_type": "display_data"
    }
   ],
   "source": [
    "learn.lr_find()\n",
    "learn.recorder.plot()"
   ]
  },
  {
   "cell_type": "markdown",
   "metadata": {},
   "source": [
    "# Model Training"
   ]
  },
  {
   "cell_type": "code",
   "execution_count": 41,
   "metadata": {},
   "outputs": [],
   "source": [
    "# Set hyperparameters\n",
    "max_lr = 1e-2\n",
    "moms = (0.5, .75)\n",
    "pct_strt = 0.02\n",
    "a_epochs=20"
   ]
  },
  {
   "cell_type": "code",
   "execution_count": 38,
   "metadata": {},
   "outputs": [
    {
     "data": {
      "text/html": [
       "\n",
       "    <div>\n",
       "        <style>\n",
       "            /* Turns off some styling */\n",
       "            progress {\n",
       "                /* gets rid of default border in Firefox and Opera. */\n",
       "                border: none;\n",
       "                /* Needs to be in here for Safari polyfill so background images work as expected. */\n",
       "                background-size: auto;\n",
       "            }\n",
       "            .progress-bar-interrupted, .progress-bar-interrupted::-webkit-progress-bar {\n",
       "                background: #F44336;\n",
       "            }\n",
       "        </style>\n",
       "      <progress value='0' class='' max='10', style='width:300px; height:20px; vertical-align: middle;'></progress>\n",
       "      0.00% [0/10 00:00<00:00]\n",
       "    </div>\n",
       "    \n",
       "<table border=\"1\" class=\"dataframe\">\n",
       "  <thead>\n",
       "    <tr style=\"text-align: left;\">\n",
       "      <th>epoch</th>\n",
       "      <th>train_loss</th>\n",
       "      <th>valid_loss</th>\n",
       "      <th>accuracy</th>\n",
       "      <th>time</th>\n",
       "    </tr>\n",
       "  </thead>\n",
       "  <tbody>\n",
       "  </tbody>\n",
       "</table><p>\n",
       "\n",
       "    <div>\n",
       "        <style>\n",
       "            /* Turns off some styling */\n",
       "            progress {\n",
       "                /* gets rid of default border in Firefox and Opera. */\n",
       "                border: none;\n",
       "                /* Needs to be in here for Safari polyfill so background images work as expected. */\n",
       "                background-size: auto;\n",
       "            }\n",
       "            .progress-bar-interrupted, .progress-bar-interrupted::-webkit-progress-bar {\n",
       "                background: #F44336;\n",
       "            }\n",
       "        </style>\n",
       "      <progress value='0' class='progress-bar-interrupted' max='2684', style='width:300px; height:20px; vertical-align: middle;'></progress>\n",
       "      Interrupted\n",
       "    </div>\n",
       "    "
      ],
      "text/plain": [
       "<IPython.core.display.HTML object>"
      ]
     },
     "metadata": {},
     "output_type": "display_data"
    },
    {
     "ename": "KeyboardInterrupt",
     "evalue": "",
     "output_type": "error",
     "traceback": [
      "\u001b[0;31m---------------------------------------------------------------------------\u001b[0m",
      "\u001b[0;31mKeyboardInterrupt\u001b[0m                         Traceback (most recent call last)",
      "\u001b[0;32m<ipython-input-38-261b2870a6e9>\u001b[0m in \u001b[0;36m<module>\u001b[0;34m\u001b[0m\n\u001b[0;32m----> 1\u001b[0;31m \u001b[0mlearn\u001b[0m\u001b[0;34m.\u001b[0m\u001b[0mfit_one_cycle\u001b[0m\u001b[0;34m(\u001b[0m\u001b[0;36m10\u001b[0m\u001b[0;34m,\u001b[0m \u001b[0mmax_lr\u001b[0m\u001b[0;34m)\u001b[0m \u001b[0;31m#, moms=moms, pct_start = pct_strt)\u001b[0m\u001b[0;34m\u001b[0m\u001b[0;34m\u001b[0m\u001b[0m\n\u001b[0m",
      "\u001b[0;32m/usr/local/lib/python3.6/dist-packages/fastai/train.py\u001b[0m in \u001b[0;36mfit_one_cycle\u001b[0;34m(learn, cyc_len, max_lr, moms, div_factor, pct_start, final_div, wd, callbacks, tot_epochs, start_epoch)\u001b[0m\n\u001b[1;32m     20\u001b[0m     callbacks.append(OneCycleScheduler(learn, max_lr, moms=moms, div_factor=div_factor, pct_start=pct_start,\n\u001b[1;32m     21\u001b[0m                                        final_div=final_div, tot_epochs=tot_epochs, start_epoch=start_epoch))\n\u001b[0;32m---> 22\u001b[0;31m     \u001b[0mlearn\u001b[0m\u001b[0;34m.\u001b[0m\u001b[0mfit\u001b[0m\u001b[0;34m(\u001b[0m\u001b[0mcyc_len\u001b[0m\u001b[0;34m,\u001b[0m \u001b[0mmax_lr\u001b[0m\u001b[0;34m,\u001b[0m \u001b[0mwd\u001b[0m\u001b[0;34m=\u001b[0m\u001b[0mwd\u001b[0m\u001b[0;34m,\u001b[0m \u001b[0mcallbacks\u001b[0m\u001b[0;34m=\u001b[0m\u001b[0mcallbacks\u001b[0m\u001b[0;34m)\u001b[0m\u001b[0;34m\u001b[0m\u001b[0;34m\u001b[0m\u001b[0m\n\u001b[0m\u001b[1;32m     23\u001b[0m \u001b[0;34m\u001b[0m\u001b[0m\n\u001b[1;32m     24\u001b[0m \u001b[0;32mdef\u001b[0m \u001b[0mlr_find\u001b[0m\u001b[0;34m(\u001b[0m\u001b[0mlearn\u001b[0m\u001b[0;34m:\u001b[0m\u001b[0mLearner\u001b[0m\u001b[0;34m,\u001b[0m \u001b[0mstart_lr\u001b[0m\u001b[0;34m:\u001b[0m\u001b[0mFloats\u001b[0m\u001b[0;34m=\u001b[0m\u001b[0;36m1e-7\u001b[0m\u001b[0;34m,\u001b[0m \u001b[0mend_lr\u001b[0m\u001b[0;34m:\u001b[0m\u001b[0mFloats\u001b[0m\u001b[0;34m=\u001b[0m\u001b[0;36m10\u001b[0m\u001b[0;34m,\u001b[0m \u001b[0mnum_it\u001b[0m\u001b[0;34m:\u001b[0m\u001b[0mint\u001b[0m\u001b[0;34m=\u001b[0m\u001b[0;36m100\u001b[0m\u001b[0;34m,\u001b[0m \u001b[0mstop_div\u001b[0m\u001b[0;34m:\u001b[0m\u001b[0mbool\u001b[0m\u001b[0;34m=\u001b[0m\u001b[0;32mTrue\u001b[0m\u001b[0;34m,\u001b[0m \u001b[0mwd\u001b[0m\u001b[0;34m:\u001b[0m\u001b[0mfloat\u001b[0m\u001b[0;34m=\u001b[0m\u001b[0;32mNone\u001b[0m\u001b[0;34m)\u001b[0m\u001b[0;34m:\u001b[0m\u001b[0;34m\u001b[0m\u001b[0;34m\u001b[0m\u001b[0m\n",
      "\u001b[0;32m/usr/local/lib/python3.6/dist-packages/fastai/basic_train.py\u001b[0m in \u001b[0;36mfit\u001b[0;34m(self, epochs, lr, wd, callbacks)\u001b[0m\n\u001b[1;32m    200\u001b[0m         \u001b[0mcallbacks\u001b[0m \u001b[0;34m=\u001b[0m \u001b[0;34m[\u001b[0m\u001b[0mcb\u001b[0m\u001b[0;34m(\u001b[0m\u001b[0mself\u001b[0m\u001b[0;34m)\u001b[0m \u001b[0;32mfor\u001b[0m \u001b[0mcb\u001b[0m \u001b[0;32min\u001b[0m \u001b[0mself\u001b[0m\u001b[0;34m.\u001b[0m\u001b[0mcallback_fns\u001b[0m \u001b[0;34m+\u001b[0m \u001b[0mlistify\u001b[0m\u001b[0;34m(\u001b[0m\u001b[0mdefaults\u001b[0m\u001b[0;34m.\u001b[0m\u001b[0mextra_callback_fns\u001b[0m\u001b[0;34m)\u001b[0m\u001b[0;34m]\u001b[0m \u001b[0;34m+\u001b[0m \u001b[0mlistify\u001b[0m\u001b[0;34m(\u001b[0m\u001b[0mcallbacks\u001b[0m\u001b[0;34m)\u001b[0m\u001b[0;34m\u001b[0m\u001b[0;34m\u001b[0m\u001b[0m\n\u001b[1;32m    201\u001b[0m         \u001b[0mself\u001b[0m\u001b[0;34m.\u001b[0m\u001b[0mcb_fns_registered\u001b[0m \u001b[0;34m=\u001b[0m \u001b[0;32mTrue\u001b[0m\u001b[0;34m\u001b[0m\u001b[0;34m\u001b[0m\u001b[0m\n\u001b[0;32m--> 202\u001b[0;31m         \u001b[0mfit\u001b[0m\u001b[0;34m(\u001b[0m\u001b[0mepochs\u001b[0m\u001b[0;34m,\u001b[0m \u001b[0mself\u001b[0m\u001b[0;34m,\u001b[0m \u001b[0mmetrics\u001b[0m\u001b[0;34m=\u001b[0m\u001b[0mself\u001b[0m\u001b[0;34m.\u001b[0m\u001b[0mmetrics\u001b[0m\u001b[0;34m,\u001b[0m \u001b[0mcallbacks\u001b[0m\u001b[0;34m=\u001b[0m\u001b[0mself\u001b[0m\u001b[0;34m.\u001b[0m\u001b[0mcallbacks\u001b[0m\u001b[0;34m+\u001b[0m\u001b[0mcallbacks\u001b[0m\u001b[0;34m)\u001b[0m\u001b[0;34m\u001b[0m\u001b[0;34m\u001b[0m\u001b[0m\n\u001b[0m\u001b[1;32m    203\u001b[0m \u001b[0;34m\u001b[0m\u001b[0m\n\u001b[1;32m    204\u001b[0m     \u001b[0;32mdef\u001b[0m \u001b[0mcreate_opt\u001b[0m\u001b[0;34m(\u001b[0m\u001b[0mself\u001b[0m\u001b[0;34m,\u001b[0m \u001b[0mlr\u001b[0m\u001b[0;34m:\u001b[0m\u001b[0mFloats\u001b[0m\u001b[0;34m,\u001b[0m \u001b[0mwd\u001b[0m\u001b[0;34m:\u001b[0m\u001b[0mFloats\u001b[0m\u001b[0;34m=\u001b[0m\u001b[0;36m0.\u001b[0m\u001b[0;34m)\u001b[0m\u001b[0;34m->\u001b[0m\u001b[0;32mNone\u001b[0m\u001b[0;34m:\u001b[0m\u001b[0;34m\u001b[0m\u001b[0;34m\u001b[0m\u001b[0m\n",
      "\u001b[0;32m/usr/local/lib/python3.6/dist-packages/fastai/basic_train.py\u001b[0m in \u001b[0;36mfit\u001b[0;34m(epochs, learn, callbacks, metrics)\u001b[0m\n\u001b[1;32m    100\u001b[0m                 \u001b[0mxb\u001b[0m\u001b[0;34m,\u001b[0m \u001b[0myb\u001b[0m \u001b[0;34m=\u001b[0m \u001b[0mcb_handler\u001b[0m\u001b[0;34m.\u001b[0m\u001b[0mon_batch_begin\u001b[0m\u001b[0;34m(\u001b[0m\u001b[0mxb\u001b[0m\u001b[0;34m,\u001b[0m \u001b[0myb\u001b[0m\u001b[0;34m)\u001b[0m\u001b[0;34m\u001b[0m\u001b[0;34m\u001b[0m\u001b[0m\n\u001b[1;32m    101\u001b[0m                 \u001b[0mloss\u001b[0m \u001b[0;34m=\u001b[0m \u001b[0mloss_batch\u001b[0m\u001b[0;34m(\u001b[0m\u001b[0mlearn\u001b[0m\u001b[0;34m.\u001b[0m\u001b[0mmodel\u001b[0m\u001b[0;34m,\u001b[0m \u001b[0mxb\u001b[0m\u001b[0;34m,\u001b[0m \u001b[0myb\u001b[0m\u001b[0;34m,\u001b[0m \u001b[0mlearn\u001b[0m\u001b[0;34m.\u001b[0m\u001b[0mloss_func\u001b[0m\u001b[0;34m,\u001b[0m \u001b[0mlearn\u001b[0m\u001b[0;34m.\u001b[0m\u001b[0mopt\u001b[0m\u001b[0;34m,\u001b[0m \u001b[0mcb_handler\u001b[0m\u001b[0;34m)\u001b[0m\u001b[0;34m\u001b[0m\u001b[0;34m\u001b[0m\u001b[0m\n\u001b[0;32m--> 102\u001b[0;31m                 \u001b[0;32mif\u001b[0m \u001b[0mcb_handler\u001b[0m\u001b[0;34m.\u001b[0m\u001b[0mon_batch_end\u001b[0m\u001b[0;34m(\u001b[0m\u001b[0mloss\u001b[0m\u001b[0;34m)\u001b[0m\u001b[0;34m:\u001b[0m \u001b[0;32mbreak\u001b[0m\u001b[0;34m\u001b[0m\u001b[0;34m\u001b[0m\u001b[0m\n\u001b[0m\u001b[1;32m    103\u001b[0m \u001b[0;34m\u001b[0m\u001b[0m\n\u001b[1;32m    104\u001b[0m             \u001b[0;32mif\u001b[0m \u001b[0;32mnot\u001b[0m \u001b[0mcb_handler\u001b[0m\u001b[0;34m.\u001b[0m\u001b[0mskip_validate\u001b[0m \u001b[0;32mand\u001b[0m \u001b[0;32mnot\u001b[0m \u001b[0mlearn\u001b[0m\u001b[0;34m.\u001b[0m\u001b[0mdata\u001b[0m\u001b[0;34m.\u001b[0m\u001b[0mempty_val\u001b[0m\u001b[0;34m:\u001b[0m\u001b[0;34m\u001b[0m\u001b[0;34m\u001b[0m\u001b[0m\n",
      "\u001b[0;32m/usr/local/lib/python3.6/dist-packages/fastai/callback.py\u001b[0m in \u001b[0;36mon_batch_end\u001b[0;34m(self, loss)\u001b[0m\n\u001b[1;32m    306\u001b[0m         \u001b[0;34m\"Handle end of processing one batch with `loss`.\"\u001b[0m\u001b[0;34m\u001b[0m\u001b[0;34m\u001b[0m\u001b[0m\n\u001b[1;32m    307\u001b[0m         \u001b[0mself\u001b[0m\u001b[0;34m.\u001b[0m\u001b[0mstate_dict\u001b[0m\u001b[0;34m[\u001b[0m\u001b[0;34m'last_loss'\u001b[0m\u001b[0;34m]\u001b[0m \u001b[0;34m=\u001b[0m \u001b[0mloss\u001b[0m\u001b[0;34m\u001b[0m\u001b[0;34m\u001b[0m\u001b[0m\n\u001b[0;32m--> 308\u001b[0;31m         \u001b[0mself\u001b[0m\u001b[0;34m(\u001b[0m\u001b[0;34m'batch_end'\u001b[0m\u001b[0;34m,\u001b[0m \u001b[0mcall_mets\u001b[0m \u001b[0;34m=\u001b[0m \u001b[0;32mnot\u001b[0m \u001b[0mself\u001b[0m\u001b[0;34m.\u001b[0m\u001b[0mstate_dict\u001b[0m\u001b[0;34m[\u001b[0m\u001b[0;34m'train'\u001b[0m\u001b[0;34m]\u001b[0m\u001b[0;34m)\u001b[0m\u001b[0;34m\u001b[0m\u001b[0;34m\u001b[0m\u001b[0m\n\u001b[0m\u001b[1;32m    309\u001b[0m         \u001b[0;32mif\u001b[0m \u001b[0mself\u001b[0m\u001b[0;34m.\u001b[0m\u001b[0mstate_dict\u001b[0m\u001b[0;34m[\u001b[0m\u001b[0;34m'train'\u001b[0m\u001b[0;34m]\u001b[0m\u001b[0;34m:\u001b[0m\u001b[0;34m\u001b[0m\u001b[0;34m\u001b[0m\u001b[0m\n\u001b[1;32m    310\u001b[0m             \u001b[0mself\u001b[0m\u001b[0;34m.\u001b[0m\u001b[0mstate_dict\u001b[0m\u001b[0;34m[\u001b[0m\u001b[0;34m'iteration'\u001b[0m\u001b[0;34m]\u001b[0m \u001b[0;34m+=\u001b[0m \u001b[0;36m1\u001b[0m\u001b[0;34m\u001b[0m\u001b[0;34m\u001b[0m\u001b[0m\n",
      "\u001b[0;32m/usr/local/lib/python3.6/dist-packages/fastai/callback.py\u001b[0m in \u001b[0;36m__call__\u001b[0;34m(self, cb_name, call_mets, **kwargs)\u001b[0m\n\u001b[1;32m    249\u001b[0m         \u001b[0;32mif\u001b[0m \u001b[0mcall_mets\u001b[0m\u001b[0;34m:\u001b[0m\u001b[0;34m\u001b[0m\u001b[0;34m\u001b[0m\u001b[0m\n\u001b[1;32m    250\u001b[0m             \u001b[0;32mfor\u001b[0m \u001b[0mmet\u001b[0m \u001b[0;32min\u001b[0m \u001b[0mself\u001b[0m\u001b[0;34m.\u001b[0m\u001b[0mmetrics\u001b[0m\u001b[0;34m:\u001b[0m \u001b[0mself\u001b[0m\u001b[0;34m.\u001b[0m\u001b[0m_call_and_update\u001b[0m\u001b[0;34m(\u001b[0m\u001b[0mmet\u001b[0m\u001b[0;34m,\u001b[0m \u001b[0mcb_name\u001b[0m\u001b[0;34m,\u001b[0m \u001b[0;34m**\u001b[0m\u001b[0mkwargs\u001b[0m\u001b[0;34m)\u001b[0m\u001b[0;34m\u001b[0m\u001b[0;34m\u001b[0m\u001b[0m\n\u001b[0;32m--> 251\u001b[0;31m         \u001b[0;32mfor\u001b[0m \u001b[0mcb\u001b[0m \u001b[0;32min\u001b[0m \u001b[0mself\u001b[0m\u001b[0;34m.\u001b[0m\u001b[0mcallbacks\u001b[0m\u001b[0;34m:\u001b[0m \u001b[0mself\u001b[0m\u001b[0;34m.\u001b[0m\u001b[0m_call_and_update\u001b[0m\u001b[0;34m(\u001b[0m\u001b[0mcb\u001b[0m\u001b[0;34m,\u001b[0m \u001b[0mcb_name\u001b[0m\u001b[0;34m,\u001b[0m \u001b[0;34m**\u001b[0m\u001b[0mkwargs\u001b[0m\u001b[0;34m)\u001b[0m\u001b[0;34m\u001b[0m\u001b[0;34m\u001b[0m\u001b[0m\n\u001b[0m\u001b[1;32m    252\u001b[0m \u001b[0;34m\u001b[0m\u001b[0m\n\u001b[1;32m    253\u001b[0m     \u001b[0;32mdef\u001b[0m \u001b[0mset_dl\u001b[0m\u001b[0;34m(\u001b[0m\u001b[0mself\u001b[0m\u001b[0;34m,\u001b[0m \u001b[0mdl\u001b[0m\u001b[0;34m:\u001b[0m\u001b[0mDataLoader\u001b[0m\u001b[0;34m)\u001b[0m\u001b[0;34m:\u001b[0m\u001b[0;34m\u001b[0m\u001b[0;34m\u001b[0m\u001b[0m\n",
      "\u001b[0;32m/usr/local/lib/python3.6/dist-packages/fastai/callback.py\u001b[0m in \u001b[0;36m_call_and_update\u001b[0;34m(self, cb, cb_name, **kwargs)\u001b[0m\n\u001b[1;32m    239\u001b[0m     \u001b[0;32mdef\u001b[0m \u001b[0m_call_and_update\u001b[0m\u001b[0;34m(\u001b[0m\u001b[0mself\u001b[0m\u001b[0;34m,\u001b[0m \u001b[0mcb\u001b[0m\u001b[0;34m,\u001b[0m \u001b[0mcb_name\u001b[0m\u001b[0;34m,\u001b[0m \u001b[0;34m**\u001b[0m\u001b[0mkwargs\u001b[0m\u001b[0;34m)\u001b[0m\u001b[0;34m->\u001b[0m\u001b[0;32mNone\u001b[0m\u001b[0;34m:\u001b[0m\u001b[0;34m\u001b[0m\u001b[0;34m\u001b[0m\u001b[0m\n\u001b[1;32m    240\u001b[0m         \u001b[0;34m\"Call `cb_name` on `cb` and update the inner state.\"\u001b[0m\u001b[0;34m\u001b[0m\u001b[0;34m\u001b[0m\u001b[0m\n\u001b[0;32m--> 241\u001b[0;31m         \u001b[0mnew\u001b[0m \u001b[0;34m=\u001b[0m \u001b[0mifnone\u001b[0m\u001b[0;34m(\u001b[0m\u001b[0mgetattr\u001b[0m\u001b[0;34m(\u001b[0m\u001b[0mcb\u001b[0m\u001b[0;34m,\u001b[0m \u001b[0;34mf'on_{cb_name}'\u001b[0m\u001b[0;34m)\u001b[0m\u001b[0;34m(\u001b[0m\u001b[0;34m**\u001b[0m\u001b[0mself\u001b[0m\u001b[0;34m.\u001b[0m\u001b[0mstate_dict\u001b[0m\u001b[0;34m,\u001b[0m \u001b[0;34m**\u001b[0m\u001b[0mkwargs\u001b[0m\u001b[0;34m)\u001b[0m\u001b[0;34m,\u001b[0m \u001b[0mdict\u001b[0m\u001b[0;34m(\u001b[0m\u001b[0;34m)\u001b[0m\u001b[0;34m)\u001b[0m\u001b[0;34m\u001b[0m\u001b[0;34m\u001b[0m\u001b[0m\n\u001b[0m\u001b[1;32m    242\u001b[0m         \u001b[0;32mfor\u001b[0m \u001b[0mk\u001b[0m\u001b[0;34m,\u001b[0m\u001b[0mv\u001b[0m \u001b[0;32min\u001b[0m \u001b[0mnew\u001b[0m\u001b[0;34m.\u001b[0m\u001b[0mitems\u001b[0m\u001b[0;34m(\u001b[0m\u001b[0;34m)\u001b[0m\u001b[0;34m:\u001b[0m\u001b[0;34m\u001b[0m\u001b[0;34m\u001b[0m\u001b[0m\n\u001b[1;32m    243\u001b[0m             \u001b[0;32mif\u001b[0m \u001b[0mk\u001b[0m \u001b[0;32mnot\u001b[0m \u001b[0;32min\u001b[0m \u001b[0mself\u001b[0m\u001b[0;34m.\u001b[0m\u001b[0mstate_dict\u001b[0m\u001b[0;34m:\u001b[0m\u001b[0;34m\u001b[0m\u001b[0;34m\u001b[0m\u001b[0m\n",
      "\u001b[0;32m/usr/local/lib/python3.6/dist-packages/fastai/callbacks/one_cycle.py\u001b[0m in \u001b[0;36mon_batch_end\u001b[0;34m(self, train, **kwargs)\u001b[0m\n\u001b[1;32m     48\u001b[0m             \u001b[0;32mif\u001b[0m \u001b[0mself\u001b[0m\u001b[0;34m.\u001b[0m\u001b[0midx_s\u001b[0m \u001b[0;34m>=\u001b[0m \u001b[0mlen\u001b[0m\u001b[0;34m(\u001b[0m\u001b[0mself\u001b[0m\u001b[0;34m.\u001b[0m\u001b[0mlr_scheds\u001b[0m\u001b[0;34m)\u001b[0m\u001b[0;34m:\u001b[0m \u001b[0;32mreturn\u001b[0m \u001b[0;34m{\u001b[0m\u001b[0;34m'stop_training'\u001b[0m\u001b[0;34m:\u001b[0m \u001b[0;32mTrue\u001b[0m\u001b[0;34m,\u001b[0m \u001b[0;34m'stop_epoch'\u001b[0m\u001b[0;34m:\u001b[0m \u001b[0;32mTrue\u001b[0m\u001b[0;34m}\u001b[0m\u001b[0;34m\u001b[0m\u001b[0;34m\u001b[0m\u001b[0m\n\u001b[1;32m     49\u001b[0m             \u001b[0mself\u001b[0m\u001b[0;34m.\u001b[0m\u001b[0mopt\u001b[0m\u001b[0;34m.\u001b[0m\u001b[0mlr\u001b[0m \u001b[0;34m=\u001b[0m \u001b[0mself\u001b[0m\u001b[0;34m.\u001b[0m\u001b[0mlr_scheds\u001b[0m\u001b[0;34m[\u001b[0m\u001b[0mself\u001b[0m\u001b[0;34m.\u001b[0m\u001b[0midx_s\u001b[0m\u001b[0;34m]\u001b[0m\u001b[0;34m.\u001b[0m\u001b[0mstep\u001b[0m\u001b[0;34m(\u001b[0m\u001b[0;34m)\u001b[0m\u001b[0;34m\u001b[0m\u001b[0;34m\u001b[0m\u001b[0m\n\u001b[0;32m---> 50\u001b[0;31m             \u001b[0mself\u001b[0m\u001b[0;34m.\u001b[0m\u001b[0mopt\u001b[0m\u001b[0;34m.\u001b[0m\u001b[0mmom\u001b[0m \u001b[0;34m=\u001b[0m \u001b[0mself\u001b[0m\u001b[0;34m.\u001b[0m\u001b[0mmom_scheds\u001b[0m\u001b[0;34m[\u001b[0m\u001b[0mself\u001b[0m\u001b[0;34m.\u001b[0m\u001b[0midx_s\u001b[0m\u001b[0;34m]\u001b[0m\u001b[0;34m.\u001b[0m\u001b[0mstep\u001b[0m\u001b[0;34m(\u001b[0m\u001b[0;34m)\u001b[0m\u001b[0;34m\u001b[0m\u001b[0;34m\u001b[0m\u001b[0m\n\u001b[0m\u001b[1;32m     51\u001b[0m             \u001b[0;31m# when the current schedule is complete we move onto the next\u001b[0m\u001b[0;34m\u001b[0m\u001b[0;34m\u001b[0m\u001b[0;34m\u001b[0m\u001b[0m\n\u001b[1;32m     52\u001b[0m             \u001b[0;31m# schedule. (in 1-cycle there are two schedules)\u001b[0m\u001b[0;34m\u001b[0m\u001b[0;34m\u001b[0m\u001b[0;34m\u001b[0m\u001b[0m\n",
      "\u001b[0;32m/usr/local/lib/python3.6/dist-packages/fastai/callback.py\u001b[0m in \u001b[0;36mmom\u001b[0;34m(self, val)\u001b[0m\n\u001b[1;32m     87\u001b[0m         \u001b[0;32mif\u001b[0m \u001b[0;34m'momentum'\u001b[0m \u001b[0;32min\u001b[0m \u001b[0mself\u001b[0m\u001b[0;34m.\u001b[0m\u001b[0mopt_keys\u001b[0m\u001b[0;34m:\u001b[0m \u001b[0mself\u001b[0m\u001b[0;34m.\u001b[0m\u001b[0mset_val\u001b[0m\u001b[0;34m(\u001b[0m\u001b[0;34m'momentum'\u001b[0m\u001b[0;34m,\u001b[0m \u001b[0mlistify\u001b[0m\u001b[0;34m(\u001b[0m\u001b[0mval\u001b[0m\u001b[0;34m,\u001b[0m \u001b[0mself\u001b[0m\u001b[0;34m.\u001b[0m\u001b[0m_mom\u001b[0m\u001b[0;34m)\u001b[0m\u001b[0;34m)\u001b[0m\u001b[0;34m\u001b[0m\u001b[0;34m\u001b[0m\u001b[0m\n\u001b[1;32m     88\u001b[0m         \u001b[0;32melif\u001b[0m \u001b[0;34m'betas'\u001b[0m \u001b[0;32min\u001b[0m \u001b[0mself\u001b[0m\u001b[0;34m.\u001b[0m\u001b[0mopt_keys\u001b[0m\u001b[0;34m:\u001b[0m  \u001b[0mself\u001b[0m\u001b[0;34m.\u001b[0m\u001b[0mset_val\u001b[0m\u001b[0;34m(\u001b[0m\u001b[0;34m'betas'\u001b[0m\u001b[0;34m,\u001b[0m \u001b[0;34m(\u001b[0m\u001b[0mlistify\u001b[0m\u001b[0;34m(\u001b[0m\u001b[0mval\u001b[0m\u001b[0;34m,\u001b[0m \u001b[0mself\u001b[0m\u001b[0;34m.\u001b[0m\u001b[0m_mom\u001b[0m\u001b[0;34m)\u001b[0m\u001b[0;34m,\u001b[0m \u001b[0mself\u001b[0m\u001b[0;34m.\u001b[0m\u001b[0m_beta\u001b[0m\u001b[0;34m)\u001b[0m\u001b[0;34m)\u001b[0m\u001b[0;34m\u001b[0m\u001b[0;34m\u001b[0m\u001b[0m\n\u001b[0;32m---> 89\u001b[0;31m         \u001b[0mself\u001b[0m\u001b[0;34m.\u001b[0m\u001b[0m_mom\u001b[0m \u001b[0;34m=\u001b[0m \u001b[0mlistify\u001b[0m\u001b[0;34m(\u001b[0m\u001b[0mval\u001b[0m\u001b[0;34m,\u001b[0m \u001b[0mself\u001b[0m\u001b[0;34m.\u001b[0m\u001b[0m_mom\u001b[0m\u001b[0;34m)\u001b[0m\u001b[0;34m\u001b[0m\u001b[0;34m\u001b[0m\u001b[0m\n\u001b[0m\u001b[1;32m     90\u001b[0m \u001b[0;34m\u001b[0m\u001b[0m\n\u001b[1;32m     91\u001b[0m     \u001b[0;34m@\u001b[0m\u001b[0mproperty\u001b[0m\u001b[0;34m\u001b[0m\u001b[0;34m\u001b[0m\u001b[0m\n",
      "\u001b[0;31mKeyboardInterrupt\u001b[0m: "
     ]
    }
   ],
   "source": [
    "learn.fit_one_cycle(10, max_lr) #, moms=moms, pct_start = pct_strt)"
   ]
  },
  {
   "cell_type": "code",
   "execution_count": 43,
   "metadata": {},
   "outputs": [
    {
     "data": {
      "text/html": [
       "\n",
       "    <div>\n",
       "        <style>\n",
       "            /* Turns off some styling */\n",
       "            progress {\n",
       "                /* gets rid of default border in Firefox and Opera. */\n",
       "                border: none;\n",
       "                /* Needs to be in here for Safari polyfill so background images work as expected. */\n",
       "                background-size: auto;\n",
       "            }\n",
       "            .progress-bar-interrupted, .progress-bar-interrupted::-webkit-progress-bar {\n",
       "                background: #F44336;\n",
       "            }\n",
       "        </style>\n",
       "      <progress value='12' class='' max='20', style='width:300px; height:20px; vertical-align: middle;'></progress>\n",
       "      60.00% [12/20 29:04<19:22]\n",
       "    </div>\n",
       "    \n",
       "<table border=\"1\" class=\"dataframe\">\n",
       "  <thead>\n",
       "    <tr style=\"text-align: left;\">\n",
       "      <th>epoch</th>\n",
       "      <th>train_loss</th>\n",
       "      <th>valid_loss</th>\n",
       "      <th>accuracy</th>\n",
       "      <th>time</th>\n",
       "    </tr>\n",
       "  </thead>\n",
       "  <tbody>\n",
       "    <tr>\n",
       "      <td>0</td>\n",
       "      <td>2.964769</td>\n",
       "      <td>3.650502</td>\n",
       "      <td>0.395736</td>\n",
       "      <td>02:18</td>\n",
       "    </tr>\n",
       "    <tr>\n",
       "      <td>1</td>\n",
       "      <td>3.138553</td>\n",
       "      <td>3.638187</td>\n",
       "      <td>0.395307</td>\n",
       "      <td>02:17</td>\n",
       "    </tr>\n",
       "    <tr>\n",
       "      <td>2</td>\n",
       "      <td>3.130731</td>\n",
       "      <td>3.717107</td>\n",
       "      <td>0.385282</td>\n",
       "      <td>02:18</td>\n",
       "    </tr>\n",
       "    <tr>\n",
       "      <td>3</td>\n",
       "      <td>3.095216</td>\n",
       "      <td>3.854066</td>\n",
       "      <td>0.368470</td>\n",
       "      <td>02:17</td>\n",
       "    </tr>\n",
       "    <tr>\n",
       "      <td>4</td>\n",
       "      <td>3.508951</td>\n",
       "      <td>3.906379</td>\n",
       "      <td>0.363530</td>\n",
       "      <td>02:18</td>\n",
       "    </tr>\n",
       "    <tr>\n",
       "      <td>5</td>\n",
       "      <td>3.405083</td>\n",
       "      <td>3.856971</td>\n",
       "      <td>0.365313</td>\n",
       "      <td>02:18</td>\n",
       "    </tr>\n",
       "    <tr>\n",
       "      <td>6</td>\n",
       "      <td>3.046027</td>\n",
       "      <td>3.852652</td>\n",
       "      <td>0.367032</td>\n",
       "      <td>02:18</td>\n",
       "    </tr>\n",
       "    <tr>\n",
       "      <td>7</td>\n",
       "      <td>3.186579</td>\n",
       "      <td>3.829911</td>\n",
       "      <td>0.369599</td>\n",
       "      <td>02:17</td>\n",
       "    </tr>\n",
       "    <tr>\n",
       "      <td>8</td>\n",
       "      <td>3.391921</td>\n",
       "      <td>3.750638</td>\n",
       "      <td>0.383264</td>\n",
       "      <td>02:18</td>\n",
       "    </tr>\n",
       "    <tr>\n",
       "      <td>9</td>\n",
       "      <td>3.295695</td>\n",
       "      <td>3.725010</td>\n",
       "      <td>0.382945</td>\n",
       "      <td>02:18</td>\n",
       "    </tr>\n",
       "    <tr>\n",
       "      <td>10</td>\n",
       "      <td>3.201892</td>\n",
       "      <td>3.652851</td>\n",
       "      <td>0.394709</td>\n",
       "      <td>02:18</td>\n",
       "    </tr>\n",
       "    <tr>\n",
       "      <td>11</td>\n",
       "      <td>2.947230</td>\n",
       "      <td>3.596590</td>\n",
       "      <td>0.398133</td>\n",
       "      <td>02:18</td>\n",
       "    </tr>\n",
       "  </tbody>\n",
       "</table><p>\n",
       "\n",
       "    <div>\n",
       "        <style>\n",
       "            /* Turns off some styling */\n",
       "            progress {\n",
       "                /* gets rid of default border in Firefox and Opera. */\n",
       "                border: none;\n",
       "                /* Needs to be in here for Safari polyfill so background images work as expected. */\n",
       "                background-size: auto;\n",
       "            }\n",
       "            .progress-bar-interrupted, .progress-bar-interrupted::-webkit-progress-bar {\n",
       "                background: #F44336;\n",
       "            }\n",
       "        </style>\n",
       "      <progress value='0' class='progress-bar-interrupted' max='2684', style='width:300px; height:20px; vertical-align: middle;'></progress>\n",
       "      Interrupted\n",
       "    </div>\n",
       "    "
      ],
      "text/plain": [
       "<IPython.core.display.HTML object>"
      ]
     },
     "metadata": {},
     "output_type": "display_data"
    },
    {
     "name": "stdout",
     "output_type": "stream",
     "text": [
      "Better model found at epoch 0 with valid_loss value: 3.6505024433135986.\n",
      "Better model found at epoch 1 with valid_loss value: 3.6381871700286865.\n",
      "Better model found at epoch 11 with valid_loss value: 3.5965895652770996.\n"
     ]
    },
    {
     "ename": "KeyboardInterrupt",
     "evalue": "",
     "output_type": "error",
     "traceback": [
      "\u001b[0;31m---------------------------------------------------------------------------\u001b[0m",
      "\u001b[0;31mKeyboardInterrupt\u001b[0m                         Traceback (most recent call last)",
      "\u001b[0;32m<ipython-input-43-6a165283829c>\u001b[0m in \u001b[0;36m<module>\u001b[0;34m\u001b[0m\n\u001b[1;32m      2\u001b[0m \u001b[0;31m# from fastai.vision import *\u001b[0m\u001b[0;34m\u001b[0m\u001b[0;34m\u001b[0m\u001b[0;34m\u001b[0m\u001b[0m\n\u001b[1;32m      3\u001b[0m \u001b[0;34m\u001b[0m\u001b[0m\n\u001b[0;32m----> 4\u001b[0;31m \u001b[0mlearn\u001b[0m\u001b[0;34m.\u001b[0m\u001b[0mfit_one_cycle\u001b[0m\u001b[0;34m(\u001b[0m\u001b[0ma_epochs\u001b[0m\u001b[0;34m,\u001b[0m \u001b[0mmax_lr\u001b[0m\u001b[0;34m,\u001b[0m \u001b[0mcallbacks\u001b[0m\u001b[0;34m=\u001b[0m\u001b[0;34m[\u001b[0m\u001b[0mcallbacks\u001b[0m\u001b[0;34m.\u001b[0m\u001b[0mSaveModelCallback\u001b[0m\u001b[0;34m(\u001b[0m\u001b[0mlearn\u001b[0m\u001b[0;34m,\u001b[0m \u001b[0mevery\u001b[0m\u001b[0;34m=\u001b[0m\u001b[0;34m'improvement'\u001b[0m\u001b[0;34m,\u001b[0m \u001b[0mmonitor\u001b[0m\u001b[0;34m=\u001b[0m\u001b[0;34m'valid_loss'\u001b[0m\u001b[0;34m,\u001b[0m \u001b[0mname\u001b[0m\u001b[0;34m=\u001b[0m\u001b[0;34m'awd_lstm_save_model'\u001b[0m\u001b[0;34m)\u001b[0m\u001b[0;34m]\u001b[0m\u001b[0;34m)\u001b[0m \u001b[0;31m#, moms=moms, pct_start = pct_strt)\u001b[0m\u001b[0;34m\u001b[0m\u001b[0;34m\u001b[0m\u001b[0m\n\u001b[0m",
      "\u001b[0;32m/usr/local/lib/python3.6/dist-packages/fastai/train.py\u001b[0m in \u001b[0;36mfit_one_cycle\u001b[0;34m(learn, cyc_len, max_lr, moms, div_factor, pct_start, final_div, wd, callbacks, tot_epochs, start_epoch)\u001b[0m\n\u001b[1;32m     20\u001b[0m     callbacks.append(OneCycleScheduler(learn, max_lr, moms=moms, div_factor=div_factor, pct_start=pct_start,\n\u001b[1;32m     21\u001b[0m                                        final_div=final_div, tot_epochs=tot_epochs, start_epoch=start_epoch))\n\u001b[0;32m---> 22\u001b[0;31m     \u001b[0mlearn\u001b[0m\u001b[0;34m.\u001b[0m\u001b[0mfit\u001b[0m\u001b[0;34m(\u001b[0m\u001b[0mcyc_len\u001b[0m\u001b[0;34m,\u001b[0m \u001b[0mmax_lr\u001b[0m\u001b[0;34m,\u001b[0m \u001b[0mwd\u001b[0m\u001b[0;34m=\u001b[0m\u001b[0mwd\u001b[0m\u001b[0;34m,\u001b[0m \u001b[0mcallbacks\u001b[0m\u001b[0;34m=\u001b[0m\u001b[0mcallbacks\u001b[0m\u001b[0;34m)\u001b[0m\u001b[0;34m\u001b[0m\u001b[0;34m\u001b[0m\u001b[0m\n\u001b[0m\u001b[1;32m     23\u001b[0m \u001b[0;34m\u001b[0m\u001b[0m\n\u001b[1;32m     24\u001b[0m \u001b[0;32mdef\u001b[0m \u001b[0mlr_find\u001b[0m\u001b[0;34m(\u001b[0m\u001b[0mlearn\u001b[0m\u001b[0;34m:\u001b[0m\u001b[0mLearner\u001b[0m\u001b[0;34m,\u001b[0m \u001b[0mstart_lr\u001b[0m\u001b[0;34m:\u001b[0m\u001b[0mFloats\u001b[0m\u001b[0;34m=\u001b[0m\u001b[0;36m1e-7\u001b[0m\u001b[0;34m,\u001b[0m \u001b[0mend_lr\u001b[0m\u001b[0;34m:\u001b[0m\u001b[0mFloats\u001b[0m\u001b[0;34m=\u001b[0m\u001b[0;36m10\u001b[0m\u001b[0;34m,\u001b[0m \u001b[0mnum_it\u001b[0m\u001b[0;34m:\u001b[0m\u001b[0mint\u001b[0m\u001b[0;34m=\u001b[0m\u001b[0;36m100\u001b[0m\u001b[0;34m,\u001b[0m \u001b[0mstop_div\u001b[0m\u001b[0;34m:\u001b[0m\u001b[0mbool\u001b[0m\u001b[0;34m=\u001b[0m\u001b[0;32mTrue\u001b[0m\u001b[0;34m,\u001b[0m \u001b[0mwd\u001b[0m\u001b[0;34m:\u001b[0m\u001b[0mfloat\u001b[0m\u001b[0;34m=\u001b[0m\u001b[0;32mNone\u001b[0m\u001b[0;34m)\u001b[0m\u001b[0;34m:\u001b[0m\u001b[0;34m\u001b[0m\u001b[0;34m\u001b[0m\u001b[0m\n",
      "\u001b[0;32m/usr/local/lib/python3.6/dist-packages/fastai/basic_train.py\u001b[0m in \u001b[0;36mfit\u001b[0;34m(self, epochs, lr, wd, callbacks)\u001b[0m\n\u001b[1;32m    200\u001b[0m         \u001b[0mcallbacks\u001b[0m \u001b[0;34m=\u001b[0m \u001b[0;34m[\u001b[0m\u001b[0mcb\u001b[0m\u001b[0;34m(\u001b[0m\u001b[0mself\u001b[0m\u001b[0;34m)\u001b[0m \u001b[0;32mfor\u001b[0m \u001b[0mcb\u001b[0m \u001b[0;32min\u001b[0m \u001b[0mself\u001b[0m\u001b[0;34m.\u001b[0m\u001b[0mcallback_fns\u001b[0m \u001b[0;34m+\u001b[0m \u001b[0mlistify\u001b[0m\u001b[0;34m(\u001b[0m\u001b[0mdefaults\u001b[0m\u001b[0;34m.\u001b[0m\u001b[0mextra_callback_fns\u001b[0m\u001b[0;34m)\u001b[0m\u001b[0;34m]\u001b[0m \u001b[0;34m+\u001b[0m \u001b[0mlistify\u001b[0m\u001b[0;34m(\u001b[0m\u001b[0mcallbacks\u001b[0m\u001b[0;34m)\u001b[0m\u001b[0;34m\u001b[0m\u001b[0;34m\u001b[0m\u001b[0m\n\u001b[1;32m    201\u001b[0m         \u001b[0mself\u001b[0m\u001b[0;34m.\u001b[0m\u001b[0mcb_fns_registered\u001b[0m \u001b[0;34m=\u001b[0m \u001b[0;32mTrue\u001b[0m\u001b[0;34m\u001b[0m\u001b[0;34m\u001b[0m\u001b[0m\n\u001b[0;32m--> 202\u001b[0;31m         \u001b[0mfit\u001b[0m\u001b[0;34m(\u001b[0m\u001b[0mepochs\u001b[0m\u001b[0;34m,\u001b[0m \u001b[0mself\u001b[0m\u001b[0;34m,\u001b[0m \u001b[0mmetrics\u001b[0m\u001b[0;34m=\u001b[0m\u001b[0mself\u001b[0m\u001b[0;34m.\u001b[0m\u001b[0mmetrics\u001b[0m\u001b[0;34m,\u001b[0m \u001b[0mcallbacks\u001b[0m\u001b[0;34m=\u001b[0m\u001b[0mself\u001b[0m\u001b[0;34m.\u001b[0m\u001b[0mcallbacks\u001b[0m\u001b[0;34m+\u001b[0m\u001b[0mcallbacks\u001b[0m\u001b[0;34m)\u001b[0m\u001b[0;34m\u001b[0m\u001b[0;34m\u001b[0m\u001b[0m\n\u001b[0m\u001b[1;32m    203\u001b[0m \u001b[0;34m\u001b[0m\u001b[0m\n\u001b[1;32m    204\u001b[0m     \u001b[0;32mdef\u001b[0m \u001b[0mcreate_opt\u001b[0m\u001b[0;34m(\u001b[0m\u001b[0mself\u001b[0m\u001b[0;34m,\u001b[0m \u001b[0mlr\u001b[0m\u001b[0;34m:\u001b[0m\u001b[0mFloats\u001b[0m\u001b[0;34m,\u001b[0m \u001b[0mwd\u001b[0m\u001b[0;34m:\u001b[0m\u001b[0mFloats\u001b[0m\u001b[0;34m=\u001b[0m\u001b[0;36m0.\u001b[0m\u001b[0;34m)\u001b[0m\u001b[0;34m->\u001b[0m\u001b[0;32mNone\u001b[0m\u001b[0;34m:\u001b[0m\u001b[0;34m\u001b[0m\u001b[0;34m\u001b[0m\u001b[0m\n",
      "\u001b[0;32m/usr/local/lib/python3.6/dist-packages/fastai/basic_train.py\u001b[0m in \u001b[0;36mfit\u001b[0;34m(epochs, learn, callbacks, metrics)\u001b[0m\n\u001b[1;32m     99\u001b[0m             \u001b[0;32mfor\u001b[0m \u001b[0mxb\u001b[0m\u001b[0;34m,\u001b[0m\u001b[0myb\u001b[0m \u001b[0;32min\u001b[0m \u001b[0mprogress_bar\u001b[0m\u001b[0;34m(\u001b[0m\u001b[0mlearn\u001b[0m\u001b[0;34m.\u001b[0m\u001b[0mdata\u001b[0m\u001b[0;34m.\u001b[0m\u001b[0mtrain_dl\u001b[0m\u001b[0;34m,\u001b[0m \u001b[0mparent\u001b[0m\u001b[0;34m=\u001b[0m\u001b[0mpbar\u001b[0m\u001b[0;34m)\u001b[0m\u001b[0;34m:\u001b[0m\u001b[0;34m\u001b[0m\u001b[0;34m\u001b[0m\u001b[0m\n\u001b[1;32m    100\u001b[0m                 \u001b[0mxb\u001b[0m\u001b[0;34m,\u001b[0m \u001b[0myb\u001b[0m \u001b[0;34m=\u001b[0m \u001b[0mcb_handler\u001b[0m\u001b[0;34m.\u001b[0m\u001b[0mon_batch_begin\u001b[0m\u001b[0;34m(\u001b[0m\u001b[0mxb\u001b[0m\u001b[0;34m,\u001b[0m \u001b[0myb\u001b[0m\u001b[0;34m)\u001b[0m\u001b[0;34m\u001b[0m\u001b[0;34m\u001b[0m\u001b[0m\n\u001b[0;32m--> 101\u001b[0;31m                 \u001b[0mloss\u001b[0m \u001b[0;34m=\u001b[0m \u001b[0mloss_batch\u001b[0m\u001b[0;34m(\u001b[0m\u001b[0mlearn\u001b[0m\u001b[0;34m.\u001b[0m\u001b[0mmodel\u001b[0m\u001b[0;34m,\u001b[0m \u001b[0mxb\u001b[0m\u001b[0;34m,\u001b[0m \u001b[0myb\u001b[0m\u001b[0;34m,\u001b[0m \u001b[0mlearn\u001b[0m\u001b[0;34m.\u001b[0m\u001b[0mloss_func\u001b[0m\u001b[0;34m,\u001b[0m \u001b[0mlearn\u001b[0m\u001b[0;34m.\u001b[0m\u001b[0mopt\u001b[0m\u001b[0;34m,\u001b[0m \u001b[0mcb_handler\u001b[0m\u001b[0;34m)\u001b[0m\u001b[0;34m\u001b[0m\u001b[0;34m\u001b[0m\u001b[0m\n\u001b[0m\u001b[1;32m    102\u001b[0m                 \u001b[0;32mif\u001b[0m \u001b[0mcb_handler\u001b[0m\u001b[0;34m.\u001b[0m\u001b[0mon_batch_end\u001b[0m\u001b[0;34m(\u001b[0m\u001b[0mloss\u001b[0m\u001b[0;34m)\u001b[0m\u001b[0;34m:\u001b[0m \u001b[0;32mbreak\u001b[0m\u001b[0;34m\u001b[0m\u001b[0;34m\u001b[0m\u001b[0m\n\u001b[1;32m    103\u001b[0m \u001b[0;34m\u001b[0m\u001b[0m\n",
      "\u001b[0;32m/usr/local/lib/python3.6/dist-packages/fastai/basic_train.py\u001b[0m in \u001b[0;36mloss_batch\u001b[0;34m(model, xb, yb, loss_func, opt, cb_handler)\u001b[0m\n\u001b[1;32m     36\u001b[0m         \u001b[0;32mif\u001b[0m \u001b[0;32mnot\u001b[0m \u001b[0mcb_handler\u001b[0m\u001b[0;34m.\u001b[0m\u001b[0mon_step_end\u001b[0m\u001b[0;34m(\u001b[0m\u001b[0;34m)\u001b[0m\u001b[0;34m:\u001b[0m     \u001b[0mopt\u001b[0m\u001b[0;34m.\u001b[0m\u001b[0mzero_grad\u001b[0m\u001b[0;34m(\u001b[0m\u001b[0;34m)\u001b[0m\u001b[0;34m\u001b[0m\u001b[0;34m\u001b[0m\u001b[0m\n\u001b[1;32m     37\u001b[0m \u001b[0;34m\u001b[0m\u001b[0m\n\u001b[0;32m---> 38\u001b[0;31m     \u001b[0;32mreturn\u001b[0m \u001b[0mloss\u001b[0m\u001b[0;34m.\u001b[0m\u001b[0mdetach\u001b[0m\u001b[0;34m(\u001b[0m\u001b[0;34m)\u001b[0m\u001b[0;34m.\u001b[0m\u001b[0mcpu\u001b[0m\u001b[0;34m(\u001b[0m\u001b[0;34m)\u001b[0m\u001b[0;34m\u001b[0m\u001b[0;34m\u001b[0m\u001b[0m\n\u001b[0m\u001b[1;32m     39\u001b[0m \u001b[0;34m\u001b[0m\u001b[0m\n\u001b[1;32m     40\u001b[0m def get_preds(model:nn.Module, dl:DataLoader, pbar:Optional[PBar]=None, cb_handler:Optional[CallbackHandler]=None,\n",
      "\u001b[0;31mKeyboardInterrupt\u001b[0m: "
     ]
    }
   ],
   "source": [
    "#amit experiments\n",
    "# from fastai.vision import *\n",
    "\n",
    "learn.fit_one_cycle(a_epochs, max_lr, callbacks=[callbacks.SaveModelCallback(learn, every='improvement', monitor='valid_loss', name='transformer_xl_save_model')]) #, moms=moms, pct_start = pct_strt)"
   ]
  },
  {
   "cell_type": "code",
   "execution_count": null,
   "metadata": {},
   "outputs": [],
   "source": [
    "learn.save(model_path/'awd_lstm_do_30pct')"
   ]
  },
  {
   "cell_type": "code",
   "execution_count": 12,
   "metadata": {},
   "outputs": [
    {
     "data": {
      "text/plain": [
       "LanguageLearner(data=TextLMDataBunch;\n",
       "\n",
       "Train: LabelList (147871 items)\n",
       "x: LMTextList\n",
       "▁x x bo s ▁@ java . lang . override ▁public ▁void ▁on click ( android . view . view ▁v ) ▁{ ▁new ▁android . widget . number p ick er ( v . get context ()); ▁}<$ b ug $> yes,▁x x bo s ▁@ java . lang . override ▁public ▁java . lang . object ▁compute new value for left op er and ( final ▁org . b on it a soft . engine . core . operation . model . s operation ▁operation , ▁final ▁java . lang . object ▁value to set object with , ▁final ▁org . b on it a soft . engine . core . expression . control . model . s expression context ▁expression context ) ▁throws ▁org . b on it a soft . engine . core . operation . exception . s operation execution exception ▁{ ▁final ▁java . lang . string ▁data to set ▁= ▁operation . get left op er and (). get name (); ▁final ▁java . lang . object ▁object to invoke java method on ▁= ▁expression context . get input values (). get ( data to set ); ▁if ▁( object to invoke java method on ▁== ▁null ) ▁{ ▁throw ▁new ▁org . b on it a soft . engine . core . operation . exception . s operation execution exception ( ( (\" data ▁\" ▁+ ▁data to set ) ▁+ ▁\" ▁does ▁not ▁exist \")); ▁} ▁final ▁java . lang . string [] ▁split ▁= ▁operation . get operator (). split (\" : \", ▁2); ▁final ▁java . lang . string ▁operator ▁= ▁split [0]; ▁java . lang . string ▁class name ▁= ▁null ; ▁if ▁( ( split . length ) ▁ > ▁1) ▁{ ▁class name ▁= ▁split [1]; ▁} ▁try ▁{ ▁return ▁new ▁org . b on it a soft . engine . common s . java method invoke r (). invoke java method ( operation . get right op er and (). get return type (), ▁value to set object with , ▁object to invoke java method on , ▁operator , ▁class name ); ▁} ▁catch ▁( final ▁java . lang . exception ▁e ) ▁{ ▁throw ▁new ▁org . b on it a soft . engine . core . operation . exception . s operation execution exception ( (\" un able ▁to ▁evaluate ▁operation ▁\" ▁+ ▁operation ) , ▁e ); ▁} ▁}<$ b ug $> yes,▁x x bo s ▁public ▁void ▁marshall ( s ms m fa settings type ▁sm s m fa settings type , ▁protocol marshall er ▁protocol marshall er ) ▁{ ▁if ▁( s ms m fa settings type ▁== ▁null ) ▁{ ▁throw ▁new ▁ sdk client exception (\" invalid ▁argument ▁passed ▁to ▁marshall ( ...)\"); ▁} ▁try ▁{ ▁protocol marshall er . marshall ( s ms m fa settings type . get enabled (), ▁x x up ▁enabled _ binding ); ▁protocol marshall er . marshall ( s ms m fa settings type . get pre fer red m fa (), ▁x x up ▁preferred m fa _ binding ); ▁} ▁catch ▁( exception ▁e ) ▁{ ▁throw ▁new ▁ sdk client exception (\" un able ▁to ▁marshall ▁request ▁to ▁x x up ▁json : ▁\" ▁+ ▁e . get message (), ▁e ); ▁} ▁}<$ comment $> marshall ▁the ▁given ▁parameter ▁object .,▁x x bo s ▁protected ▁final ▁x x ma j ▁application ▁ensure application reference () ▁{ ▁if ▁( this . application ▁== ▁null ) ▁{ ▁assert state (); ▁x x ma j ▁application ▁tmp app ▁= ▁application resolve r . get application ( client , ▁application rest url ); ▁if ▁( tmp app ▁== ▁null ) ▁{ ▁throw ▁new ▁ illegal state exception (\" application resolve r ▁returned ▁' null ' ▁x x ma j ▁application , ▁this ▁is ▁likely ▁a ▁configuration ▁error .\"); ▁} ▁this . application ▁= ▁tmp app ; ▁} ▁return ▁this . application ; ▁}<$ comment $> ac qui s ition , ▁so ▁it ▁is ▁ ne gl ig ible ▁if ▁this ▁execute s ▁a ▁few ▁times ▁instead ▁of ▁just ▁once .,▁x x bo s ▁public ▁x x ma j ▁string ▁get icon path resource type () ▁{ ▁if ▁(! is edit able ()) ▁{ ▁return ▁cms work place . res _ path _ file types ▁+ ▁ opencms . get work place manager (). get exp l or er type set ting ( ▁cms resource type plain . get static type name ()) . get icon (); ▁} ▁return ▁cms work place . res _ path _ file types ▁+ ▁ opencms . get work place manager (). get exp l or er type set ting ( get resource type name ()) . get icon (); ▁}<$ comment $> return s ▁the ▁resource ▁type ▁icon ▁path ▁for ▁the ▁given ▁resource . < p > ▁x x ma j ▁relative ▁to ▁< code > ▁/ ▁system ▁/ ▁work place ▁/ ▁resources ▁/ ▁< ▁/ ▁code > . < p > ▁@ return ▁the ▁resource ▁type ▁icon ▁path ▁for ▁the ▁given ▁resource\n",
       "y: LMLabelList\n",
       ",,,,\n",
       "Path: /tf/data/datasets;\n",
       "\n",
       "Valid: LabelList (31609 items)\n",
       "x: LMTextList\n",
       "▁x x bo s ▁@ suppress warning s (\" rawtypes \") ▁protected ▁ pojo path function ▁get function ( string ▁function name , ▁ pojo path context ▁context ) ▁throws ▁object not found exception ▁{ ▁ pojo path function ▁function ▁= ▁null ; ▁/ ▁/ ▁context ▁override s ▁function s . . . ▁ pojo path function manager ▁manager ▁= ▁context . get additional function manager (); ▁if ▁( manager ▁!= ▁null ) ▁{ ▁function ▁= ▁manager . get function ( function name ); ▁} ▁if ▁( function ▁== ▁null ) ▁{ ▁/ ▁/ ▁global ▁function s ▁as ▁fallback . . . ▁manager ▁= ▁get function manager (); ▁if ▁( manager ▁!= ▁null ) ▁{ ▁function ▁= ▁manager . get function ( function name ); ▁} ▁} ▁if ▁( function ▁== ▁null ) ▁{ ▁throw ▁new ▁object not found exception ( pojo path function . class , ▁function name ); ▁} ▁return ▁function ; ▁}<$ comment $> this ▁method ▁get s ▁the ▁{@ link ▁ pojo path function } ▁for ▁the ▁given ▁{@ code ▁function name }. ▁@ param ▁function name ▁is ▁the ▁{@ link ▁ pojo path function manager ▁# ▁get function ( string ) ▁name } ▁of ▁the ▁requested ▁{@ link ▁ pojo path function }. ▁@ param ▁context ▁is ▁the ▁{@ link ▁ pojo path context ▁context } ▁for ▁this ▁operation . ▁@ return ▁the ▁requested ▁{@ link ▁ pojo path function }. ▁@ throws ▁object not found exception ▁if ▁no ▁{@ link ▁ pojo path function } ▁is ▁defined ▁for ▁the ▁given ▁{@ code ▁function name }.,▁x x bo s ▁public ▁static ▁void ▁main ( string [] ▁args ) ▁{ ▁c raw l jax runner ▁c raw l jax ▁= ▁new ▁c raw l jax runner ( c raw l jax configuration . builder for (\" http : ▁/ ▁/ ▁ demo . c raw l jax . com ▁/ ▁\" ) ▁ . build ()); ▁c raw l jax . call (); ▁}<$ comment $> run ▁this ▁method ▁to ▁start ▁the ▁c raw l .,▁x x bo s ▁public ▁static ▁x x ma j ▁v ec ▁to string ve c ( ve c ▁src ) ▁{ ▁switch ▁( src . get _ type ()) ▁{ ▁case ▁v ec . t _ str : ▁return ▁src . make copy (); ▁case ▁v ec . t _ cat : ▁return ▁ cat eg or ical to string ve c ( src ); ▁case ▁v ec . t _ uuid : ▁return ▁uuid to string ve c ( src ); ▁case ▁v ec . t _ time : ▁case ▁v ec . t _ num : ▁return ▁numeric to string ve c ( src ); ▁default : ▁throw ▁new ▁h 2 o illegal argument exception (\" un rec og n ized ▁column ▁type ▁\" ▁+ ▁src . get _ type _ str () ▁+ ▁\" ▁given ▁to ▁to string ve c (). \"); ▁} ▁}<$ comment $> create ▁a ▁new ▁{@ link ▁x x ma j ▁v ec } ▁of ▁string ▁values ▁from ▁an ▁existing ▁{@ link ▁x x ma j ▁v ec }. ▁x x ma j ▁this ▁method ▁accept s ▁all ▁{@ link ▁x x ma j ▁v ec } ▁types ▁as ▁input . ▁x x ma j ▁the ▁original ▁x x ma j ▁v ec ▁is ▁not ▁ mut ated . ▁x x ma j ▁if ▁src ▁is ▁a ▁string ▁{@ link ▁x x ma j ▁v ec }, ▁a ▁copy ▁of ▁the ▁{@ link ▁x x ma j ▁v ec } ▁is ▁made . ▁x x ma j ▁if ▁src ▁is ▁a ▁ cat eg or ical ▁{@ link ▁x x ma j ▁v ec }, ▁level s ▁are ▁drop ped , ▁and ▁the ▁{@ link ▁x x ma j ▁v ec } ▁only ▁records ▁the ▁string . ▁x x ma j ▁for ▁all ▁numeric ▁{@ link ▁x x ma j ▁v ec } s , ▁the ▁number ▁is ▁converted ▁to ▁a ▁string . ▁x x ma j ▁for ▁all ▁x x up ▁uuid ▁{@ link ▁x x ma j ▁v ec } s , ▁the ▁hex ▁representation ▁is ▁stored ▁as ▁a ▁string . ▁@ param ▁src ▁a ▁{@ link ▁x x ma j ▁v ec } ▁whose ▁values ▁will ▁be ▁used ▁as ▁the ▁b as is ▁for ▁a ▁new ▁string ▁{@ link ▁x x ma j ▁v ec } ▁@ return ▁the ▁resulting ▁string ▁{@ link ▁x x ma j ▁v ec },▁x x bo s ▁private ▁array list ▁handle dependent reference s ( identity ▁ oid , ▁x x ma j ▁object ▁user object , ▁x x ma j ▁object [] ▁orig field s , ▁x x ma j ▁object [] ▁new field s , ▁x x ma j ▁object [] ▁new ref s ) ▁throws ▁lock ing exception ▁{ ▁class descriptor ▁m if ▁= ▁ _ p b . get class descriptor ( user object . get class ()); ▁field descriptor [] ▁field desc s ▁= ▁m if . get field description s (); ▁x x ma j ▁collection ▁ref desc s ▁= ▁m if . get object reference descriptor s (); ▁int ▁count ▁= ▁1 ▁+ ▁field desc s . length ; ▁array list ▁new object s ▁= ▁new ▁array list (); ▁int ▁count ref s ▁= ▁0; ▁for ▁( iterator ▁it ▁= ▁ref desc s . iterator (); ▁it . has next (); ▁count ++ , ▁count ref s ++) ▁{ ▁object reference descriptor ▁ rd s ▁= ▁( object reference descriptor ) ▁it . next (); ▁x x ma j ▁identity ▁orig oid ▁= ▁( or ig field s ▁== ▁null ▁? ▁null ▁: ▁( identity ) ▁orig field s [ count ]); ▁x x ma j ▁identity ▁new oid ▁= ▁( identity ) ▁new field s [ count ]; ▁if ▁( rd s . get ot m dependent ()) ▁{ ▁if ▁( ( or ig oid ▁== ▁null ) ▁&& ▁( new oid ▁!= ▁null )) ▁{ ▁context entry ▁entry ▁= ▁( context entry ) ▁ _ object s . get ( new oid ); ▁if ▁( entry ▁== ▁null ) ▁{ ▁x x ma j ▁object ▁rel obj ▁= ▁new ref s [ count ref s ]; ▁insert internal ( new oid , ▁rel obj , ▁lock type . write _ lock , ▁true , ▁ oid , ▁new ▁x x ma j ▁stack ()); ▁new object s . add ( new oid ); ▁} ▁} ▁else ▁if ▁( ( or ig oid ▁!= ▁null ) ▁&& ▁( ( new oid ▁== ▁null ) ▁|| ▁! new oid . equals ( or ig oid ))) ▁{ ▁mark delete ( or ig oid , ▁ oid , ▁false ); ▁} ▁} ▁} ▁return ▁new object s ; ▁}<$ comment $> mark ▁for ▁creation ▁all ▁new ly ▁int ro duce d ▁ dependent ▁references . ▁x x ma j ▁mark ▁for ▁deletion ▁all ▁null ified ▁ dependent ▁references . ▁@ return ▁the ▁list ▁of ▁created ▁objects,▁x x bo s ▁public ▁double ▁get quality value () ▁{ ▁x x ma j ▁string ▁ quality factory ▁= ▁get parameter ( param _ quality _ factor ); ▁return ▁( quality factory ▁!= ▁null ▁? ▁double . parse double ( un quote ( quality factory )) ▁: ▁x x up ▁1 d ); ▁}<$ comment $> return ▁the ▁ quality ▁value , ▁as ▁indicate d ▁by ▁a ▁{@ code ▁q } ▁parameter , ▁if ▁any . ▁x x ma j ▁default s ▁to ▁{@ code ▁1.0 }. ▁@ return ▁the ▁ quality ▁factory .\n",
       "y: LMLabelList\n",
       ",,,,\n",
       "Path: /tf/data/datasets;\n",
       "\n",
       "Test: None, model=SequentialRNN(\n",
       "  (0): AWD_LSTM(\n",
       "    (encoder): Embedding(8000, 400, padding_idx=1)\n",
       "    (encoder_dp): EmbeddingDropout(\n",
       "      (emb): Embedding(8000, 400, padding_idx=1)\n",
       "    )\n",
       "    (rnns): ModuleList(\n",
       "      (0): WeightDropout(\n",
       "        (module): LSTM(400, 1152, batch_first=True)\n",
       "      )\n",
       "      (1): WeightDropout(\n",
       "        (module): LSTM(1152, 1152, batch_first=True)\n",
       "      )\n",
       "      (2): WeightDropout(\n",
       "        (module): LSTM(1152, 400, batch_first=True)\n",
       "      )\n",
       "    )\n",
       "    (input_dp): RNNDropout()\n",
       "    (hidden_dps): ModuleList(\n",
       "      (0): RNNDropout()\n",
       "      (1): RNNDropout()\n",
       "      (2): RNNDropout()\n",
       "    )\n",
       "  )\n",
       "  (1): LinearDecoder(\n",
       "    (decoder): Linear(in_features=400, out_features=8000, bias=True)\n",
       "    (output_dp): RNNDropout()\n",
       "  )\n",
       "), opt_func=functools.partial(<class 'torch.optim.adam.Adam'>, betas=(0.9, 0.99)), loss_func=FlattenedLoss of CrossEntropyLoss(), metrics=[<function accuracy at 0x7f23ebcce1e0>], true_wd=True, bn_wd=True, wd=0.01, train_bn=True, path=PosixPath('/tf/data/datasets/merged'), model_dir='models', callback_fns=[functools.partial(<class 'fastai.basic_train.Recorder'>, add_time=True, silent=False)], callbacks=[RNNTrainer\n",
       "learn: LanguageLearner(data=TextLMDataBunch;\n",
       "\n",
       "Train: LabelList (147871 items)\n",
       "x: LMTextList\n",
       "▁x x bo s ▁@ java . lang . override ▁public ▁void ▁on click ( android . view . view ▁v ) ▁{ ▁new ▁android . widget . number p ick er ( v . get context ()); ▁}<$ b ug $> yes,▁x x bo s ▁@ java . lang . override ▁public ▁java . lang . object ▁compute new value for left op er and ( final ▁org . b on it a soft . engine . core . operation . model . s operation ▁operation , ▁final ▁java . lang . object ▁value to set object with , ▁final ▁org . b on it a soft . engine . core . expression . control . model . s expression context ▁expression context ) ▁throws ▁org . b on it a soft . engine . core . operation . exception . s operation execution exception ▁{ ▁final ▁java . lang . string ▁data to set ▁= ▁operation . get left op er and (). get name (); ▁final ▁java . lang . object ▁object to invoke java method on ▁= ▁expression context . get input values (). get ( data to set ); ▁if ▁( object to invoke java method on ▁== ▁null ) ▁{ ▁throw ▁new ▁org . b on it a soft . engine . core . operation . exception . s operation execution exception ( ( (\" data ▁\" ▁+ ▁data to set ) ▁+ ▁\" ▁does ▁not ▁exist \")); ▁} ▁final ▁java . lang . string [] ▁split ▁= ▁operation . get operator (). split (\" : \", ▁2); ▁final ▁java . lang . string ▁operator ▁= ▁split [0]; ▁java . lang . string ▁class name ▁= ▁null ; ▁if ▁( ( split . length ) ▁ > ▁1) ▁{ ▁class name ▁= ▁split [1]; ▁} ▁try ▁{ ▁return ▁new ▁org . b on it a soft . engine . common s . java method invoke r (). invoke java method ( operation . get right op er and (). get return type (), ▁value to set object with , ▁object to invoke java method on , ▁operator , ▁class name ); ▁} ▁catch ▁( final ▁java . lang . exception ▁e ) ▁{ ▁throw ▁new ▁org . b on it a soft . engine . core . operation . exception . s operation execution exception ( (\" un able ▁to ▁evaluate ▁operation ▁\" ▁+ ▁operation ) , ▁e ); ▁} ▁}<$ b ug $> yes,▁x x bo s ▁public ▁void ▁marshall ( s ms m fa settings type ▁sm s m fa settings type , ▁protocol marshall er ▁protocol marshall er ) ▁{ ▁if ▁( s ms m fa settings type ▁== ▁null ) ▁{ ▁throw ▁new ▁ sdk client exception (\" invalid ▁argument ▁passed ▁to ▁marshall ( ...)\"); ▁} ▁try ▁{ ▁protocol marshall er . marshall ( s ms m fa settings type . get enabled (), ▁x x up ▁enabled _ binding ); ▁protocol marshall er . marshall ( s ms m fa settings type . get pre fer red m fa (), ▁x x up ▁preferred m fa _ binding ); ▁} ▁catch ▁( exception ▁e ) ▁{ ▁throw ▁new ▁ sdk client exception (\" un able ▁to ▁marshall ▁request ▁to ▁x x up ▁json : ▁\" ▁+ ▁e . get message (), ▁e ); ▁} ▁}<$ comment $> marshall ▁the ▁given ▁parameter ▁object .,▁x x bo s ▁protected ▁final ▁x x ma j ▁application ▁ensure application reference () ▁{ ▁if ▁( this . application ▁== ▁null ) ▁{ ▁assert state (); ▁x x ma j ▁application ▁tmp app ▁= ▁application resolve r . get application ( client , ▁application rest url ); ▁if ▁( tmp app ▁== ▁null ) ▁{ ▁throw ▁new ▁ illegal state exception (\" application resolve r ▁returned ▁' null ' ▁x x ma j ▁application , ▁this ▁is ▁likely ▁a ▁configuration ▁error .\"); ▁} ▁this . application ▁= ▁tmp app ; ▁} ▁return ▁this . application ; ▁}<$ comment $> ac qui s ition , ▁so ▁it ▁is ▁ ne gl ig ible ▁if ▁this ▁execute s ▁a ▁few ▁times ▁instead ▁of ▁just ▁once .,▁x x bo s ▁public ▁x x ma j ▁string ▁get icon path resource type () ▁{ ▁if ▁(! is edit able ()) ▁{ ▁return ▁cms work place . res _ path _ file types ▁+ ▁ opencms . get work place manager (). get exp l or er type set ting ( ▁cms resource type plain . get static type name ()) . get icon (); ▁} ▁return ▁cms work place . res _ path _ file types ▁+ ▁ opencms . get work place manager (). get exp l or er type set ting ( get resource type name ()) . get icon (); ▁}<$ comment $> return s ▁the ▁resource ▁type ▁icon ▁path ▁for ▁the ▁given ▁resource . < p > ▁x x ma j ▁relative ▁to ▁< code > ▁/ ▁system ▁/ ▁work place ▁/ ▁resources ▁/ ▁< ▁/ ▁code > . < p > ▁@ return ▁the ▁resource ▁type ▁icon ▁path ▁for ▁the ▁given ▁resource\n",
       "y: LMLabelList\n",
       ",,,,\n",
       "Path: /tf/data/datasets;\n",
       "\n",
       "Valid: LabelList (31609 items)\n",
       "x: LMTextList\n",
       "▁x x bo s ▁@ suppress warning s (\" rawtypes \") ▁protected ▁ pojo path function ▁get function ( string ▁function name , ▁ pojo path context ▁context ) ▁throws ▁object not found exception ▁{ ▁ pojo path function ▁function ▁= ▁null ; ▁/ ▁/ ▁context ▁override s ▁function s . . . ▁ pojo path function manager ▁manager ▁= ▁context . get additional function manager (); ▁if ▁( manager ▁!= ▁null ) ▁{ ▁function ▁= ▁manager . get function ( function name ); ▁} ▁if ▁( function ▁== ▁null ) ▁{ ▁/ ▁/ ▁global ▁function s ▁as ▁fallback . . . ▁manager ▁= ▁get function manager (); ▁if ▁( manager ▁!= ▁null ) ▁{ ▁function ▁= ▁manager . get function ( function name ); ▁} ▁} ▁if ▁( function ▁== ▁null ) ▁{ ▁throw ▁new ▁object not found exception ( pojo path function . class , ▁function name ); ▁} ▁return ▁function ; ▁}<$ comment $> this ▁method ▁get s ▁the ▁{@ link ▁ pojo path function } ▁for ▁the ▁given ▁{@ code ▁function name }. ▁@ param ▁function name ▁is ▁the ▁{@ link ▁ pojo path function manager ▁# ▁get function ( string ) ▁name } ▁of ▁the ▁requested ▁{@ link ▁ pojo path function }. ▁@ param ▁context ▁is ▁the ▁{@ link ▁ pojo path context ▁context } ▁for ▁this ▁operation . ▁@ return ▁the ▁requested ▁{@ link ▁ pojo path function }. ▁@ throws ▁object not found exception ▁if ▁no ▁{@ link ▁ pojo path function } ▁is ▁defined ▁for ▁the ▁given ▁{@ code ▁function name }.,▁x x bo s ▁public ▁static ▁void ▁main ( string [] ▁args ) ▁{ ▁c raw l jax runner ▁c raw l jax ▁= ▁new ▁c raw l jax runner ( c raw l jax configuration . builder for (\" http : ▁/ ▁/ ▁ demo . c raw l jax . com ▁/ ▁\" ) ▁ . build ()); ▁c raw l jax . call (); ▁}<$ comment $> run ▁this ▁method ▁to ▁start ▁the ▁c raw l .,▁x x bo s ▁public ▁static ▁x x ma j ▁v ec ▁to string ve c ( ve c ▁src ) ▁{ ▁switch ▁( src . get _ type ()) ▁{ ▁case ▁v ec . t _ str : ▁return ▁src . make copy (); ▁case ▁v ec . t _ cat : ▁return ▁ cat eg or ical to string ve c ( src ); ▁case ▁v ec . t _ uuid : ▁return ▁uuid to string ve c ( src ); ▁case ▁v ec . t _ time : ▁case ▁v ec . t _ num : ▁return ▁numeric to string ve c ( src ); ▁default : ▁throw ▁new ▁h 2 o illegal argument exception (\" un rec og n ized ▁column ▁type ▁\" ▁+ ▁src . get _ type _ str () ▁+ ▁\" ▁given ▁to ▁to string ve c (). \"); ▁} ▁}<$ comment $> create ▁a ▁new ▁{@ link ▁x x ma j ▁v ec } ▁of ▁string ▁values ▁from ▁an ▁existing ▁{@ link ▁x x ma j ▁v ec }. ▁x x ma j ▁this ▁method ▁accept s ▁all ▁{@ link ▁x x ma j ▁v ec } ▁types ▁as ▁input . ▁x x ma j ▁the ▁original ▁x x ma j ▁v ec ▁is ▁not ▁ mut ated . ▁x x ma j ▁if ▁src ▁is ▁a ▁string ▁{@ link ▁x x ma j ▁v ec }, ▁a ▁copy ▁of ▁the ▁{@ link ▁x x ma j ▁v ec } ▁is ▁made . ▁x x ma j ▁if ▁src ▁is ▁a ▁ cat eg or ical ▁{@ link ▁x x ma j ▁v ec }, ▁level s ▁are ▁drop ped , ▁and ▁the ▁{@ link ▁x x ma j ▁v ec } ▁only ▁records ▁the ▁string . ▁x x ma j ▁for ▁all ▁numeric ▁{@ link ▁x x ma j ▁v ec } s , ▁the ▁number ▁is ▁converted ▁to ▁a ▁string . ▁x x ma j ▁for ▁all ▁x x up ▁uuid ▁{@ link ▁x x ma j ▁v ec } s , ▁the ▁hex ▁representation ▁is ▁stored ▁as ▁a ▁string . ▁@ param ▁src ▁a ▁{@ link ▁x x ma j ▁v ec } ▁whose ▁values ▁will ▁be ▁used ▁as ▁the ▁b as is ▁for ▁a ▁new ▁string ▁{@ link ▁x x ma j ▁v ec } ▁@ return ▁the ▁resulting ▁string ▁{@ link ▁x x ma j ▁v ec },▁x x bo s ▁private ▁array list ▁handle dependent reference s ( identity ▁ oid , ▁x x ma j ▁object ▁user object , ▁x x ma j ▁object [] ▁orig field s , ▁x x ma j ▁object [] ▁new field s , ▁x x ma j ▁object [] ▁new ref s ) ▁throws ▁lock ing exception ▁{ ▁class descriptor ▁m if ▁= ▁ _ p b . get class descriptor ( user object . get class ()); ▁field descriptor [] ▁field desc s ▁= ▁m if . get field description s (); ▁x x ma j ▁collection ▁ref desc s ▁= ▁m if . get object reference descriptor s (); ▁int ▁count ▁= ▁1 ▁+ ▁field desc s . length ; ▁array list ▁new object s ▁= ▁new ▁array list (); ▁int ▁count ref s ▁= ▁0; ▁for ▁( iterator ▁it ▁= ▁ref desc s . iterator (); ▁it . has next (); ▁count ++ , ▁count ref s ++) ▁{ ▁object reference descriptor ▁ rd s ▁= ▁( object reference descriptor ) ▁it . next (); ▁x x ma j ▁identity ▁orig oid ▁= ▁( or ig field s ▁== ▁null ▁? ▁null ▁: ▁( identity ) ▁orig field s [ count ]); ▁x x ma j ▁identity ▁new oid ▁= ▁( identity ) ▁new field s [ count ]; ▁if ▁( rd s . get ot m dependent ()) ▁{ ▁if ▁( ( or ig oid ▁== ▁null ) ▁&& ▁( new oid ▁!= ▁null )) ▁{ ▁context entry ▁entry ▁= ▁( context entry ) ▁ _ object s . get ( new oid ); ▁if ▁( entry ▁== ▁null ) ▁{ ▁x x ma j ▁object ▁rel obj ▁= ▁new ref s [ count ref s ]; ▁insert internal ( new oid , ▁rel obj , ▁lock type . write _ lock , ▁true , ▁ oid , ▁new ▁x x ma j ▁stack ()); ▁new object s . add ( new oid ); ▁} ▁} ▁else ▁if ▁( ( or ig oid ▁!= ▁null ) ▁&& ▁( ( new oid ▁== ▁null ) ▁|| ▁! new oid . equals ( or ig oid ))) ▁{ ▁mark delete ( or ig oid , ▁ oid , ▁false ); ▁} ▁} ▁} ▁return ▁new object s ; ▁}<$ comment $> mark ▁for ▁creation ▁all ▁new ly ▁int ro duce d ▁ dependent ▁references . ▁x x ma j ▁mark ▁for ▁deletion ▁all ▁null ified ▁ dependent ▁references . ▁@ return ▁the ▁list ▁of ▁created ▁objects,▁x x bo s ▁public ▁double ▁get quality value () ▁{ ▁x x ma j ▁string ▁ quality factory ▁= ▁get parameter ( param _ quality _ factor ); ▁return ▁( quality factory ▁!= ▁null ▁? ▁double . parse double ( un quote ( quality factory )) ▁: ▁x x up ▁1 d ); ▁}<$ comment $> return ▁the ▁ quality ▁value , ▁as ▁indicate d ▁by ▁a ▁{@ code ▁q } ▁parameter , ▁if ▁any . ▁x x ma j ▁default s ▁to ▁{@ code ▁1.0 }. ▁@ return ▁the ▁ quality ▁factory .\n",
       "y: LMLabelList\n",
       ",,,,\n",
       "Path: /tf/data/datasets;\n",
       "\n",
       "Test: None, model=SequentialRNN(\n",
       "  (0): AWD_LSTM(\n",
       "    (encoder): Embedding(8000, 400, padding_idx=1)\n",
       "    (encoder_dp): EmbeddingDropout(\n",
       "      (emb): Embedding(8000, 400, padding_idx=1)\n",
       "    )\n",
       "    (rnns): ModuleList(\n",
       "      (0): WeightDropout(\n",
       "        (module): LSTM(400, 1152, batch_first=True)\n",
       "      )\n",
       "      (1): WeightDropout(\n",
       "        (module): LSTM(1152, 1152, batch_first=True)\n",
       "      )\n",
       "      (2): WeightDropout(\n",
       "        (module): LSTM(1152, 400, batch_first=True)\n",
       "      )\n",
       "    )\n",
       "    (input_dp): RNNDropout()\n",
       "    (hidden_dps): ModuleList(\n",
       "      (0): RNNDropout()\n",
       "      (1): RNNDropout()\n",
       "      (2): RNNDropout()\n",
       "    )\n",
       "  )\n",
       "  (1): LinearDecoder(\n",
       "    (decoder): Linear(in_features=400, out_features=8000, bias=True)\n",
       "    (output_dp): RNNDropout()\n",
       "  )\n",
       "), opt_func=functools.partial(<class 'torch.optim.adam.Adam'>, betas=(0.9, 0.99)), loss_func=FlattenedLoss of CrossEntropyLoss(), metrics=[<function accuracy at 0x7f23ebcce1e0>], true_wd=True, bn_wd=True, wd=0.01, train_bn=True, path=PosixPath('/tf/data/datasets/merged'), model_dir='models', callback_fns=[functools.partial(<class 'fastai.basic_train.Recorder'>, add_time=True, silent=False)], callbacks=[...], layer_groups=[Sequential(\n",
       "  (0): WeightDropout(\n",
       "    (module): LSTM(400, 1152, batch_first=True)\n",
       "  )\n",
       "  (1): RNNDropout()\n",
       "), Sequential(\n",
       "  (0): WeightDropout(\n",
       "    (module): LSTM(1152, 1152, batch_first=True)\n",
       "  )\n",
       "  (1): RNNDropout()\n",
       "), Sequential(\n",
       "  (0): WeightDropout(\n",
       "    (module): LSTM(1152, 400, batch_first=True)\n",
       "  )\n",
       "  (1): RNNDropout()\n",
       "), Sequential(\n",
       "  (0): Embedding(8000, 400, padding_idx=1)\n",
       "  (1): EmbeddingDropout(\n",
       "    (emb): Embedding(8000, 400, padding_idx=1)\n",
       "  )\n",
       "  (2): LinearDecoder(\n",
       "    (decoder): Linear(in_features=400, out_features=8000, bias=True)\n",
       "    (output_dp): RNNDropout()\n",
       "  )\n",
       ")], add_time=True, silent=False, cb_fns_registered=False)\n",
       "alpha: 2.0\n",
       "beta: 1.0], layer_groups=[Sequential(\n",
       "  (0): WeightDropout(\n",
       "    (module): LSTM(400, 1152, batch_first=True)\n",
       "  )\n",
       "  (1): RNNDropout()\n",
       "), Sequential(\n",
       "  (0): WeightDropout(\n",
       "    (module): LSTM(1152, 1152, batch_first=True)\n",
       "  )\n",
       "  (1): RNNDropout()\n",
       "), Sequential(\n",
       "  (0): WeightDropout(\n",
       "    (module): LSTM(1152, 400, batch_first=True)\n",
       "  )\n",
       "  (1): RNNDropout()\n",
       "), Sequential(\n",
       "  (0): Embedding(8000, 400, padding_idx=1)\n",
       "  (1): EmbeddingDropout(\n",
       "    (emb): Embedding(8000, 400, padding_idx=1)\n",
       "  )\n",
       "  (2): LinearDecoder(\n",
       "    (decoder): Linear(in_features=400, out_features=8000, bias=True)\n",
       "    (output_dp): RNNDropout()\n",
       "  )\n",
       ")], add_time=True, silent=False, cb_fns_registered=False)"
      ]
     },
     "execution_count": 12,
     "metadata": {},
     "output_type": "execute_result"
    }
   ],
   "source": [
    "learn.load(model_path/'awd_lstm_do_30pct')"
   ]
  },
  {
   "cell_type": "code",
   "execution_count": null,
   "metadata": {},
   "outputs": [],
   "source": [
    "learn.export(file = model_path/'awd_lstm_do_30pc.pkl')"
   ]
  },
  {
   "cell_type": "code",
   "execution_count": null,
   "metadata": {},
   "outputs": [],
   "source": [
    "learn = load_model(df_trn, file = model_path/'awd_lstm_do_30pc.pkl')"
   ]
  },
  {
   "cell_type": "code",
   "execution_count": null,
   "metadata": {
    "scrolled": true
   },
   "outputs": [],
   "source": [
    "# learn.recorder.plot_losses()\n",
    "figure_plot = learn.recorder.plot_losses(return_fig=True)\n",
    "figure_plot.savefig(fname=\"transformer_xl_plot_losses.png\", format='png')\n",
    "from PIL import Image\n",
    "Image.open('/tf/main/nbs/mdling/transformer_xl/transformer_xl_plot_losses.png')"
   ]
  },
  {
   "cell_type": "markdown",
   "metadata": {},
   "source": [
    "# Model Evaluation"
   ]
  },
  {
   "cell_type": "code",
   "execution_count": null,
   "metadata": {
    "scrolled": true
   },
   "outputs": [],
   "source": [
    "print(df_val[\"query\"][50000])\n",
    "print(\"\\n\\n\" + df_val[\"res\"][50000])"
   ]
  },
  {
   "cell_type": "code",
   "execution_count": null,
   "metadata": {
    "scrolled": true
   },
   "outputs": [],
   "source": [
    "print(df_val[\"query\"][75_000])\n",
    "print(\"\\n\\n\" + df_val[\"res\"][75_000])"
   ]
  },
  {
   "cell_type": "code",
   "execution_count": 13,
   "metadata": {},
   "outputs": [
    {
     "data": {
      "text/plain": [
       "True"
      ]
     },
     "execution_count": 13,
     "metadata": {},
     "output_type": "execute_result"
    }
   ],
   "source": [
    "import sentencepiece as spm\n",
    "sp = spm.SentencePieceProcessor()\n",
    "sp.Load(str(data_path/\"merged/model.model\"))"
   ]
  },
  {
   "cell_type": "code",
   "execution_count": null,
   "metadata": {},
   "outputs": [],
   "source": [
    "TEXT = df_val[\"query\"][500]\n",
    "N_WORDS = 200\n",
    "N_SENTENCES = 2"
   ]
  },
  {
   "cell_type": "code",
   "execution_count": null,
   "metadata": {
    "scrolled": true
   },
   "outputs": [],
   "source": [
    "print(TEXT)\n",
    "df_val[\"res\"][500]"
   ]
  },
  {
   "cell_type": "code",
   "execution_count": null,
   "metadata": {},
   "outputs": [],
   "source": [
    "print(sp.DecodePieces(learn.predict(TEXT, 100, temperature=0.75).split(\" \")))"
   ]
  },
  {
   "cell_type": "markdown",
   "metadata": {},
   "source": [
    "# Evaluation"
   ]
  },
  {
   "cell_type": "code",
   "execution_count": null,
   "metadata": {},
   "outputs": [],
   "source": [
    "learn.predict??"
   ]
  },
  {
   "cell_type": "code",
   "execution_count": 14,
   "metadata": {},
   "outputs": [],
   "source": [
    "# Grabs entire model's response up until special xxbos token,\n",
    "# i.e. once model begins a new sentence we consider the model finished with its answer.\n",
    "def get_res(mdl, inpt, n_toks = 1_000):\n",
    "    res = mdl.predict(inpt, n_toks, temperature=0.75).split(\" \")\n",
    "    res = sp.DecodePieces(res).split(\" \")\n",
    "    try:\n",
    "        end_res = res.index(\"xxbos\")\n",
    "    except:\n",
    "        end_res = len(res) - 1\n",
    "    \n",
    "    res = \" \".join(res[:end_res])[len(inpt.replace(\" \", '')):]\n",
    "    \n",
    "    return res"
   ]
  },
  {
   "cell_type": "code",
   "execution_count": 15,
   "metadata": {},
   "outputs": [
    {
     "data": {
      "text/plain": [
       "'yes'"
      ]
     },
     "execution_count": 15,
     "metadata": {},
     "output_type": "execute_result"
    }
   ],
   "source": [
    "res = get_res(learn, \"public static void main() {return;}<$bug$>\", n_toks = 10)\n",
    "res # [0:len(\"public static void main() {return;}<$bug$>\")]"
   ]
  },
  {
   "cell_type": "code",
   "execution_count": null,
   "metadata": {},
   "outputs": [],
   "source": []
  },
  {
   "cell_type": "code",
   "execution_count": 24,
   "metadata": {},
   "outputs": [],
   "source": [
    "# Evaluation metrics for vulnerability detection - Accuracy, Precision, Recall\n",
    "def eval_vuln(mdl, tst):\n",
    "    tps, tns, fps, fns = 0, 0, 0, 0\n",
    "    tot = 0\n",
    "    for inpt, lbl in zip(tst[\"query\"], tst[\"res\"]):\n",
    "        tok_len = len(sp.EncodeAsPieces(inpt))\n",
    "        if tok_len > 1024:\n",
    "#             print(\"Skipping because size is too big\", tok_len)\n",
    "            continue\n",
    "        pred = get_res(mdl, inpt, n_toks = 10)\n",
    "        if lbl == \"yes\":\n",
    "            if pred == lbl:\n",
    "                tps += 1\n",
    "            else: fns += 1\n",
    "        else:\n",
    "            if pred == lbl:\n",
    "                tns += 1\n",
    "            else: fps += 1\n",
    "                \n",
    "        tot += 1\n",
    "        torch.cuda.empty_cache()\n",
    "            \n",
    "    acc   = (tps + tns) / tot\n",
    "    prec  = tps / (tps + fps) if (tps + fps) != 0 else 0.\n",
    "    recal = tps / (tps + fns) if (tps + fns) != 0 else 0.\n",
    "    \n",
    "    return acc, prec, recal"
   ]
  },
  {
   "cell_type": "code",
   "execution_count": null,
   "metadata": {
    "scrolled": false
   },
   "outputs": [],
   "source": [
    "acc, prec, recal = eval_vuln(learn, df_val)"
   ]
  },
  {
   "cell_type": "code",
   "execution_count": 26,
   "metadata": {},
   "outputs": [
    {
     "data": {
      "text/plain": [
       "(0.5124324324324324, 1.0, 0.5124324324324324)"
      ]
     },
     "execution_count": 26,
     "metadata": {},
     "output_type": "execute_result"
    }
   ],
   "source": [
    "acc, prec, recal"
   ]
  },
  {
   "cell_type": "code",
   "execution_count": null,
   "metadata": {},
   "outputs": [],
   "source": [
    "len(df_val[:10])"
   ]
  },
  {
   "cell_type": "code",
   "execution_count": null,
   "metadata": {},
   "outputs": [],
   "source": [
    "import torch\n",
    "torch.cuda.empty_cache()"
   ]
  },
  {
   "cell_type": "code",
   "execution_count": null,
   "metadata": {},
   "outputs": [],
   "source": []
  }
 ],
 "metadata": {
  "kernelspec": {
   "display_name": "Python 3",
   "language": "python",
   "name": "python3"
  },
  "language_info": {
   "codemirror_mode": {
    "name": "ipython",
    "version": 3
   },
   "file_extension": ".py",
   "mimetype": "text/x-python",
   "name": "python",
   "nbconvert_exporter": "python",
   "pygments_lexer": "ipython3",
   "version": "3.6.8"
  }
 },
 "nbformat": 4,
 "nbformat_minor": 2
}
