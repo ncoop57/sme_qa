{
 "cells": [
  {
   "cell_type": "markdown",
   "metadata": {},
   "source": [
    "# Easily export jupyter cells to python module\n",
    "https://github.com/fastai/course-v3/blob/master/nbs/dl2/notebook2script.py"
   ]
  },
  {
   "cell_type": "code",
   "execution_count": 1,
   "metadata": {},
   "outputs": [
    {
     "name": "stdout",
     "output_type": "stream",
     "text": [
      "Converted proc.ipynb to exp/nb_proc.py\r\n"
     ]
    }
   ],
   "source": [
    "! python /tf/main/src/scripts/notebook2script.py proc.ipynb"
   ]
  },
  {
   "cell_type": "code",
   "execution_count": 1,
   "metadata": {},
   "outputs": [],
   "source": [
    "#export\n",
    "from pathlib import Path\n",
    "from fastai.text import *\n",
    "\n",
    "import pandas as pd\n",
    "import sentencepiece as sp\n",
    "\n",
    "import csv"
   ]
  },
  {
   "cell_type": "code",
   "execution_count": 2,
   "metadata": {
    "scrolled": false
   },
   "outputs": [
    {
     "name": "stdout",
     "output_type": "stream",
     "text": [
      "Requirement already satisfied: sklearn in /usr/local/lib/python3.6/dist-packages (0.0)\n",
      "Requirement already satisfied: scikit-learn in /usr/local/lib/python3.6/dist-packages (from sklearn) (0.21.3)\n",
      "Requirement already satisfied: joblib>=0.11 in /usr/local/lib/python3.6/dist-packages (from scikit-learn->sklearn) (0.14.0)\n",
      "Requirement already satisfied: numpy>=1.11.0 in /usr/local/lib/python3.6/dist-packages (from scikit-learn->sklearn) (1.16.4)\n",
      "Requirement already satisfied: scipy>=0.17.0 in /usr/local/lib/python3.6/dist-packages (from scikit-learn->sklearn) (1.3.1)\n",
      "\u001b[33mWARNING: You are using pip version 19.2.3, however version 19.3.1 is available.\n",
      "You should consider upgrading via the 'pip install --upgrade pip' command.\u001b[0m\n"
     ]
    }
   ],
   "source": [
    "! pip install sklearn"
   ]
  },
  {
   "cell_type": "code",
   "execution_count": 3,
   "metadata": {},
   "outputs": [],
   "source": [
    "import sys\n",
    "sys.path.append(\"../\")\n",
    "from prep.exp.nb_prep import *"
   ]
  },
  {
   "cell_type": "code",
   "execution_count": null,
   "metadata": {},
   "outputs": [],
   "source": [
    "#export\n",
    "def df_to_txt_file(df, output):\n",
    "    with open(output/'text.txt', 'w') as f:\n",
    "        f.write('\\n'.join(list(merged_trn_df[\"query\"]) + list(merged_trn_df[\"res\"])))\n",
    "    return output/'text.txt'"
   ]
  },
  {
   "cell_type": "code",
   "execution_count": null,
   "metadata": {},
   "outputs": [],
   "source": [
    "#export\n",
    "def gen_sp_model(df, output):\n",
    "    fname = df_to_txt_file(df, output)\n",
    "    sp.SentencePieceTrainer.train(f'--input={fname} --model_prefix={output}/model')"
   ]
  },
  {
   "cell_type": "code",
   "execution_count": null,
   "metadata": {},
   "outputs": [],
   "source": [
    "#export\n",
    "class SentencePiece:\n",
    "    \"SentencePiece wrapper.\"\n",
    "    def __init__(self, mdl_path):\n",
    "        self.mdl_path = mdl_path\n",
    "        self.s = sp.SentencePieceProcessor()\n",
    "        self.s.Load(str(mdl_path))\n",
    "        self.vocab = [self.s.IdToPiece(id) for id in range(self.s.GetPieceSize())]\n",
    "        \n",
    "    def tokenize(self, inpt):\n",
    "        return self.s.EncodeAsPieces(inpt)"
   ]
  },
  {
   "cell_type": "code",
   "execution_count": null,
   "metadata": {
    "scrolled": true
   },
   "outputs": [],
   "source": [
    "s = sp.SentencePieceProcessor()\n",
    "s.Load(str(data_path/\"merged/model.model\"))"
   ]
  },
  {
   "cell_type": "code",
   "execution_count": null,
   "metadata": {},
   "outputs": [],
   "source": [
    "s.SampleEncodeAsPieces??"
   ]
  },
  {
   "cell_type": "code",
   "execution_count": null,
   "metadata": {},
   "outputs": [],
   "source": [
    "len(s)"
   ]
  },
  {
   "cell_type": "code",
   "execution_count": null,
   "metadata": {},
   "outputs": [],
   "source": [
    "for n in range(20):\n",
    "    print(len(s.EncodeAsIds('public static void adfaj')))"
   ]
  },
  {
   "cell_type": "code",
   "execution_count": null,
   "metadata": {},
   "outputs": [],
   "source": [
    "data_path = Path(\"/tf/data/datasets\")"
   ]
  },
  {
   "cell_type": "code",
   "execution_count": null,
   "metadata": {},
   "outputs": [],
   "source": [
    "merged_trn_df = pd.read_csv(data_path/\"merged/trn.csv\")\n",
    "merged_trn_df.head()"
   ]
  },
  {
   "cell_type": "code",
   "execution_count": null,
   "metadata": {},
   "outputs": [],
   "source": [
    "df_to_txt_file(merged_trn_df, data_path/\"merged\")"
   ]
  },
  {
   "cell_type": "code",
   "execution_count": null,
   "metadata": {},
   "outputs": [],
   "source": [
    "gen_sp_model(merged_trn_df, data_path/\"merged\")"
   ]
  },
  {
   "cell_type": "code",
   "execution_count": null,
   "metadata": {},
   "outputs": [],
   "source": [
    "merged_trn_df.head(1).to_string(header = False, index = False)"
   ]
  },
  {
   "cell_type": "code",
   "execution_count": null,
   "metadata": {},
   "outputs": [],
   "source": [
    "print(\"yo\")"
   ]
  },
  {
   "cell_type": "code",
   "execution_count": null,
   "metadata": {},
   "outputs": [],
   "source": [
    "merged_trn_df?"
   ]
  },
  {
   "cell_type": "code",
   "execution_count": null,
   "metadata": {},
   "outputs": [],
   "source": [
    "with open(data_path/'merged/text.txt', 'w') as f:\n",
    "    f.write('\\n'.join(list(merged_trn_df.head(2)[\"query\"]) + list(merged_trn_df.head(2)[\"res\"])))"
   ]
  },
  {
   "cell_type": "code",
   "execution_count": null,
   "metadata": {},
   "outputs": [],
   "source": [
    "len(list(merged_trn_df.head(2)[\"query\"]) + list(merged_trn_df.head(2)[\"res\"]))"
   ]
  },
  {
   "cell_type": "code",
   "execution_count": 24,
   "metadata": {},
   "outputs": [],
   "source": [
    "#export\n",
    "def merge_cols(df):\n",
    "    merged = [''.join(x) for x in zip(df[\"query\"], df[\"res\"])]\n",
    "    new_df = pd.DataFrame({\"merged\": merged})\n",
    "    \n",
    "    return new_df"
   ]
  },
  {
   "cell_type": "code",
   "execution_count": 47,
   "metadata": {},
   "outputs": [],
   "source": [
    "#export\n",
    "def conv_to_ds(df, data_path, bs = 64):\n",
    "#     print(df.head(5))\n",
    "    return (TextList\n",
    "            .from_df(df, data_path, \n",
    "                     processor = SPProcessor(\n",
    "                         sp_model = data_path/\"merged/model.model\",\n",
    "                         sp_vocab = data_path/\"merged/model.vocab\"\n",
    "                     ))\n",
    "            .split_none()\n",
    "            .label_for_lm()\n",
    "            .databunch(bs = bs)\n",
    "           )"
   ]
  },
  {
   "cell_type": "code",
   "execution_count": 16,
   "metadata": {},
   "outputs": [],
   "source": [
    "data_path = Path(\"/tf/data/datasets\")\n",
    "df_trn, df_val, df_tst = read_data(data_path/\"merged\")"
   ]
  },
  {
   "cell_type": "code",
   "execution_count": 48,
   "metadata": {},
   "outputs": [],
   "source": [
    "db_trn = conv_to_ds(df_trn[:10], data_path)"
   ]
  },
  {
   "cell_type": "code",
   "execution_count": 50,
   "metadata": {},
   "outputs": [
    {
     "data": {
      "text/plain": [
       "LabelLists;\n",
       "\n",
       "Train: LabelList (10 items)\n",
       "x: LMTextList\n",
       "▁x x bo s ▁public ▁void ▁return result s ( java . util . array list < com . example . p it ur . new track om m ender . track info > ▁query result s ) ▁{ ▁if ▁( query result s ▁!= ▁null ) ▁{ ▁this . query result s ▁= ▁query result s ; ▁adapter ▁= ▁new ▁com . example . p it ur . new track om m ender . track info adapter ( this , ▁x x ma j ▁r . layout . list _ item , ▁query result s ); ▁set list adapter ( adapter ); ▁set item click listener s ( this . get list view ()); ▁} else ▁{ ▁android . widget . to ast . make text ( this , ▁\" your ▁query ▁g ave ▁no ▁results . \", ▁to ast . length _ long ) . show (); ▁} ▁}<$ b ug $>,▁x x bo s ▁public ▁static ▁synchronized ▁json object ▁handling ex change ( java . util . array list < java . lang . string > ▁server list , ▁java . util . array list < java . lang . string > ▁server list _ ex change , ▁java . util . array list < java . lang . string > ▁host name list _ ex change , ▁java . util . array list < java . lang . string > ▁port list _ ex change ) ▁{ ▁json object ▁server response ▁= ▁new ▁json object (); ▁java . lang . string ▁response ; ▁java . lang . string ▁error message ; ▁java . lang . string ▁host name pattern ▁= ▁\" ^ ( ( [ a - z a - z 0-9 ] | [ a - z a - z 0-9 ][ a - z a - z 0-9 ▁\\ ▁\\ ▁- ] * [ a - z a - z 0-9 ]) ▁\\ ▁\\ ▁ . ) * ( [ a - z a - z 0-9 ] | [ a - z a - z 0-9 ][ a - z a - z 0-9 ▁\\ ▁\\ ▁- ] * [ a - z a - z 0-9 ]) $ \"; ▁java . lang . string ▁port pattern ▁= ▁\" ^ ( [ 0 - 5 ] ? ▁\\ ▁\\ ▁d ? ▁\\ ▁\\ ▁d ? ▁\\ ▁\\ ▁d ? ▁\\ ▁\\ ▁d | 6 [ 0 - 4 ] ▁\\ ▁\\ ▁d ▁\\ ▁\\ ▁d ▁\\ ▁\\ ▁d | 65 [ 0 - 4 ] ▁\\ ▁\\ ▁d ▁\\ ▁\\ ▁d | 6 55 [ 0 -2 ] ▁\\ ▁\\ ▁d | 65 53 [ 0 - 5 ]) $ \"; ▁for ▁( int ▁i ▁= ▁0; ▁i ▁< ▁( server list _ ex change . size ()); ▁i ++) ▁{ ▁if ▁(! ( ( java . util . regex . pattern . matches ( host name pattern , ▁host name list _ ex change . get ( i ))) ▁&& ▁( java . util . regex . pattern . matches ( port pattern , ▁port list _ ex change . get ( i ▁x x re p ▁5 ▁ ) ▁{ ▁response ▁= ▁\" error \"; ▁error message ▁= ▁\" miss ing ▁resource template \"; ▁server response . put ( const ant e num . command type . response . name (), ▁response ); ▁server response . put ( const ant e num . command argument . error message . name (), ▁error message ); ▁return ▁server response ; ▁} else ▁if ▁(! ( server list . contains ( server list _ ex change . get ( i ▁x x re p ▁4 ▁ ) ▁{ ▁server list . add ( server list _ ex change . get ( i )); ▁} ▁} ▁response ▁= ▁\" success \"; ▁server response . put ( const ant e num . command type . response . name (), ▁response ); ▁return ▁server response ; ▁}<$ b ug $>,▁x x bo s ▁public ▁static ▁int ▁convert time ( int ▁time , ▁int ▁duration ) ▁{ ▁int ▁temp ▁= ▁0; ▁if ▁( ( ( time ▁% ▁100 ) ▁+ ▁duration ) ▁ > ▁60 ) ▁{ ▁temp ▁= ▁duration ▁- ▁60 ; ▁time ▁+= ▁100 ▁+ ▁temp ; ▁} else ▁if ▁( ( ( time ▁% ▁100 ) ▁+ ▁duration ) ▁== ▁60 ) ▁time ▁= ▁( ( time ▁+ ▁100 ) ▁/ ▁100 ) ▁* ▁100 ; ▁else ▁time ▁+= ▁duration ; ▁return ▁time ; ▁}<$ b ug $>,▁x x bo s ▁public ▁static ▁float ▁convert to dp (@ android . support . annotation . non null ▁final ▁android . content . context ▁c , ▁final ▁float ▁ px ) ▁{ ▁final ▁android . util . display metric s ▁m ▁= ▁c . get resources (). get display metric s (); ▁final ▁float ▁ dp ▁= ▁android . util . type d value . apply dimension ( type d value . comp lex _ unit _ d ip , ▁ px , ▁m ); ▁ tim ber . log . tim ber . d (\" convert ▁% f ▁ px ▁to ▁% f ▁ dp \", ▁ px , ▁ dp ); ▁return ▁ dp ; ▁}<$ b ug $>,▁x x bo s ▁@ org . junit . test ▁public ▁void ▁test work flow pause resume () ▁throws ▁java . lang . exception ▁{ ▁java . lang . string ▁ pause resume work flow app ▁= ▁\" pause resume work flow app \"; ▁java . lang . string ▁ pause resume work flow ▁= ▁\" pause resume work flow \"; ▁java . io . file ▁first simple action file ▁= ▁new ▁java . io . file ( ( ( tmp folder . new folder ()) ▁+ ▁\" ▁/ ▁first simple action . file \")); ▁java . io . file ▁first simple action d one file ▁= ▁new ▁java . io . file ( ( ( tmp folder . new folder ()) ▁+ ▁\" ▁/ ▁first simple action . file . d one \")); ▁java . io . file ▁for k ed simple action file ▁= ▁new ▁java . io . file ( ( ( tmp folder . new folder ()) ▁+ ▁\" ▁/ ▁for k ed simple action . file \")); ▁java . io . file ▁for k ed simple action d one file ▁= ▁new ▁java . io . file ( ( ( tmp folder . new folder ()) ▁+ ▁\" ▁/ ▁for k ed simple action . file . d one \")); ▁java . io . file ▁another for k ed simple action file ▁= ▁new ▁java . io . file ( ( ( tmp folder . new folder ()) ▁+ ▁\" ▁/ ▁another for k ed simple action . file \")); ▁java . io . file ▁another for k ed simple action d one file ▁= ▁new ▁java . io . file ( ( ( tmp folder . new folder ()) ▁+ ▁\" ▁/ ▁another for k ed simple action . file . d one \")); ▁java . io . file ▁last simple action file ▁= ▁new ▁java . io . file ( ( ( tmp folder . new folder ()) ▁+ ▁\" ▁/ ▁last simple action . file \")); ▁java . io . file ▁last simple action d one file ▁= ▁new ▁java . io . file ( ( ( tmp folder . new folder ()) ▁+ ▁\" ▁/ ▁last simple action . file . d one \")); ▁org . apache . http . http response ▁response ▁= ▁deploy ( co . cas k . cd ap . pause resume work low app . class , ▁constant s . gate way . api _ version _ 3 _ token , ▁co . cas k . cd ap . internal . app . service s . http . handler s . test _ namespace 2); ▁org . junit . assert . assert equals ( 200 , ▁response . get status line (). get status code ()); ▁co . cas k . cd ap . proto . id . pro gram ▁program id ▁= ▁id . pro gram . from ( co . cas k . cd ap . internal . app . service s . http . handler s . test _ namespace 2, ▁ pause resume work flow app , ▁program type . work flow , ▁ pause resume work flow ); ▁java . util . map < java . lang . string , ▁java . lang . string > ▁runtime argument s ▁= ▁com . google . common . collect . map s . new hash map (); ▁runtime argument s . put (\" first . simple . action . file \", ▁first simple action file . get abs ol ute path ()); ▁runtime argument s . put (\" first . simple . action . d one file \", ▁first simple action d one file . get abs ol ute path ()); ▁runtime argument s . put (\" for k ed . simple . action . file \", ▁for k ed simple action file . get abs ol ute path ()); ▁runtime argument s . put (\" for k ed . simple . action . d one file \", ▁for k ed simple action d one file . get abs ol ute path ()); ▁runtime argument s . put (\" an other for k ed . simple . action . file \", ▁another for k ed simple action file . get abs ol ute path ()); ▁runtime argument s . put (\" an other for k ed . simple . action . d one file \", ▁another for k ed simple action d one file . get abs ol ute path ()); ▁runtime argument s . put (\" last . simple . action . file \", ▁last simple action file . get abs ol ute path ()); ▁runtime argument s . put (\" last . simple . action . d one file \", ▁last simple action d one file . get abs ol ute path ()); ▁set and test runtime args ( pro gram id , ▁runtime argument s ); ▁start pro gram ( pro gram id , ▁200 ); ▁wait state ( pro gram id , ▁x x up ▁\" running \"); ▁java . util . list < co . cas k . cd ap . proto . run record > ▁history run s ▁= ▁get pro gram run s ( pro gram id , ▁\" running \"); ▁org . junit . assert . assert true ( ( ( history run s . size ()) ▁== ▁1) ); ▁java . lang . string ▁run id ▁= ▁history run s . get (0). get p id (); ▁while ▁(! ( first simple action file . exists ())) ▁{ ▁java . util . concurrent . time unit . m ill i seconds . sleep ( 50 ); ▁} ▁verify running pro gram count ( pro gram id , ▁run id , ▁1); ▁ suspend work flow ( pro gram id , ▁run id , ▁200 ); ▁wait state ( pro gram id , ▁x x up ▁\" suspend ed \"); ▁verify pro gram run s ( pro gram id , ▁\" suspend ed \"); ▁ suspend work flow ( pro gram id , ▁run id , ▁4 09 ); ▁first simple action d one file . create new file (); ▁verify running pro gram count ( pro gram id , ▁run id , ▁0); ▁verify pro gram run s ( pro gram id , ▁\" suspend ed \"); ▁ resume work flow ( pro gram id , ▁run id , ▁200 ); ▁wait state ( pro gram id , ▁x x up ▁\" running \"); ▁verify pro gram run s ( pro gram id , ▁\" running \"); ▁ resume work flow ( pro gram id , ▁run id , ▁4 09 ); ▁while ▁(! ( ( for k ed simple action file . exists ()) ▁&& ▁( an other for k ed simple action file . exists ( ▁x x re p ▁4 ▁ ) ▁{ ▁java . util . concurrent . time unit . m ill i seconds . sleep ( 50 ); ▁} ▁verify running pro gram count ( pro gram id , ▁run id , ▁2); ▁ suspend work flow ( pro gram id , ▁run id , ▁200 ); ▁wait state ( pro gram id , ▁x x up ▁\" suspend ed \"); ▁verify pro gram run s ( pro gram id , ▁\" suspend ed \"); ▁for k ed simple action d one file . create new file (); ▁another for k ed simple action d one file . create new file (); ▁verify running pro gram count ( pro gram id , ▁run id , ▁0); ▁verify pro gram run s ( pro gram id , ▁\" suspend ed \"); ▁org . junit . assert . assert true ( (! ( last simple action file . exists ( ▁x x re p ▁4 ▁ ) ▁ ; ▁ resume work flow ( pro gram id , ▁run id , ▁200 ); ▁wait state ( pro gram id , ▁x x up ▁\" running \"); ▁while ▁(! ( last simple action file . exists ())) ▁{ ▁java . util . concurrent . time unit . seconds . sleep (1); ▁} ▁verify running pro gram count ( pro gram id , ▁run id , ▁1); ▁last simple action d one file . create new file (); ▁verify pro gram run s ( pro gram id , ▁\" complete d \"); ▁wait state ( pro gram id , ▁x x up ▁\" stop ped \"); ▁ suspend work flow ( pro gram id , ▁run id , ▁40 4 ); ▁ resume work flow ( pro gram id , ▁run id , ▁40 4 ); ▁}<$ b ug $>\n",
       "y: LMLabelList\n",
       ",,,,\n",
       "Path: /tf/data/datasets;\n",
       "\n",
       "Valid: LabelList (0 items)\n",
       "x: LMTextList\n",
       "\n",
       "y: LMLabelList\n",
       "\n",
       "Path: /tf/data/datasets;\n",
       "\n",
       "Test: None"
      ]
     },
     "execution_count": 50,
     "metadata": {},
     "output_type": "execute_result"
    }
   ],
   "source": [
    "ll = LabelLists(db_trn.path, db_trn.label_list.train, db_trn.label_list.valid)\n",
    "ll"
   ]
  },
  {
   "cell_type": "code",
   "execution_count": 41,
   "metadata": {},
   "outputs": [],
   "source": [
    "#export\n",
    "def gen_lm_data(df_trn, df_val, task_name, data_path, bs = 64, sample = 1):\n",
    "    if task_name != \"merged\":\n",
    "        df_trn = tag_task(df_trn, task_name)\n",
    "        df_val = tag_task(df_val, task_name)\n",
    "    \n",
    "    df_trn = df_trn.sample(frac = sample)\n",
    "    df_val = df_val.sample(frac = sample)\n",
    "    \n",
    "    df_trn = merge_cols(df_trn)\n",
    "    df_val = merge_cols(df_val)\n",
    "    \n",
    "    db_trn = conv_to_ds(df_trn, data_path)\n",
    "    db_val = conv_to_ds(df_val, data_path)\n",
    "        \n",
    "    data = TextLMDataBunch.create(\n",
    "        train_ds = db_trn.train_ds, valid_ds = db_val.train_ds, path = data_path, bs = bs\n",
    "    )\n",
    "    \n",
    "    data.label_list = db_trn.label_list\n",
    "    data.label_list.valid = db_val.label_list.train\n",
    "\n",
    "    return data"
   ]
  },
  {
   "cell_type": "code",
   "execution_count": null,
   "metadata": {},
   "outputs": [],
   "source": [
    "df_trn, df_val, df_tst = read_data(data_path/\"merged\")"
   ]
  },
  {
   "cell_type": "code",
   "execution_count": null,
   "metadata": {},
   "outputs": [],
   "source": [
    "df_trn[\"query\"][10], df_trn[\"res\"][10]"
   ]
  },
  {
   "cell_type": "code",
   "execution_count": 51,
   "metadata": {},
   "outputs": [],
   "source": [
    "data = gen_lm_data(df_trn, df_val, \"merged\", data_path, sample = 0.01)"
   ]
  },
  {
   "cell_type": "code",
   "execution_count": 52,
   "metadata": {},
   "outputs": [
    {
     "data": {
      "text/plain": [
       "LabelLists;\n",
       "\n",
       "Train: LabelList (4929 items)\n",
       "x: LMTextList\n",
       "▁x x bo s ▁i ▁use ▁image j ▁1 . x ▁x x up ▁api ▁in ▁my ▁x x ma j ▁java ▁application , ▁where ▁i ▁run ▁image j ▁in ▁in visible ▁mode : ▁image j ▁image j application ▁= ▁new ▁image j ( 2); ▁x x ma j ▁in ▁my ▁x x ma j ▁java ▁application ▁i ▁generate ▁several ▁images ▁and ▁open ▁them ▁for ▁the ▁user ▁inter action s : ▁x x ma j ▁open er ▁open er ▁= ▁new ▁x x ma j ▁open er (); ▁x x ma j ▁string ▁image file path ▁= ▁get last image file path (); ▁image plus ▁i mp ▁= ▁open er . open image ( image file path ); ▁i mp . show (); ▁i ▁provide ▁a ▁user ▁with ▁the ▁pos s ibility ▁to ▁make ▁a ▁str a ight ▁line ▁selection ▁on ▁any ▁of ▁the ▁open ed ▁images : ▁i j . set to ol ( 4 ); ▁x x ma j ▁if ▁the ▁user ▁has ▁draw n ▁a ▁str a ight ▁line ▁on ▁an ▁image , ▁then ▁i ▁need ▁to ▁get ▁length ▁of ▁this ▁line . ▁x x ma j ▁to ▁do ▁this ▁i ▁try ▁to ▁get ▁access ▁to ▁the ▁str a ight ▁line ▁selection ▁object ▁that ▁was ▁produce d ▁by ▁the ▁user ▁inter action . ▁x x ma j ▁un for t un ate ly ▁i ▁do ▁not ▁know ▁where ▁image j ▁create s ▁and ▁keep s ▁this ▁object . ▁i ▁assume ▁that ▁it ▁should ▁be ▁an ▁object ▁of ▁i j . gui . line ▁class ▁( the ▁class ▁that ▁extends ▁i j . gui . ro i ) . ▁i ▁know ▁that ▁to ▁draw ▁a ▁x x ma j ▁ ro i ▁type ▁object ▁my self ▁in ▁a ▁java ▁program ▁i ▁would ▁create ▁an ▁i j . gui . overlay ▁instance , ▁add ▁the ▁x x ma j ▁ ro i ▁object ▁to ▁the ▁ overlay ▁and ▁then ▁set ▁the ▁ overlay ▁to ▁my ▁target ▁instance ▁of ▁image plus . ▁x x ma j ▁so ▁i ▁tried ▁to ▁look ▁for ▁the ▁str a ight ▁line ▁selection ▁objects ▁in ▁ overlay s ▁of ▁my ▁open ed ▁images : ▁image plus ▁i mp ▁= ▁window manager . get current image (); ▁double ▁line length ▁= ▁0; ▁x x ma j ▁ overlay ▁ overlay ▁= ▁i mp . get overlay (); ▁if ▁( overlay != null ){ ▁for ▁( int ▁i ▁= ▁0; ▁i ▁< ▁ overlay . size (); ▁i ++){ ▁if ▁( overlay . get ( i ) . is line ()){ ▁x x ma j ▁line ▁current image line ▁= ▁( line ) ▁ overlay . get ( i ); ▁line length ▁= ▁current image line . get length (); ▁} ▁} ▁} ▁x x ma j ▁but ▁for ▁an ▁image ▁where ▁a ▁user ▁has ▁draw n ▁a ▁str a ight ▁line ▁the ▁call ▁i mp . get overlay () ▁in ▁the ▁code ▁above ▁returns ▁null . ▁x x ma j ▁so , ▁a p parent ly , ▁ overlay ▁is ▁a ▁wrong ▁place ▁to ▁look ▁for ▁the ▁user - pro duce d ▁str a ight ▁line ▁selection ▁object ▁instance . ▁x x ma j ▁does ▁some body ▁know , ▁how ▁to ▁get ▁access ▁to ▁the ▁str a ight ▁line ▁selection ▁object ? ▁image j ▁x x up ▁api : ▁how ▁to ▁get ▁access ▁to ▁a ▁str a ight ▁line ▁selection ▁object ▁in ▁the ▁java ▁code ? <$ qa $> for ▁question s ▁reg ard ing ▁the ▁image j ▁x x up ▁api , ▁usually ▁the ▁image j ▁for um ▁is ▁the ▁best ▁place ▁to ▁ask . ▁x x ma j ▁does ▁some body ▁know ▁how ▁to ▁get ▁access ▁to ▁the ▁str a ight ▁line ▁selection ▁object ? ▁x x ma j ▁you ▁were ▁on ▁the ▁right ▁track , ▁but ▁m is le ad ▁by ▁the ▁i j . gui . overlay ▁class ▁( that ▁can ▁contain ▁an ▁arbitrary ▁number ▁of ▁i j . gui . ro i ▁objects , ▁but ▁needs ▁to ▁be ▁explicitly ▁added ▁to ▁an ▁image plus ) . ▁x x ma j ▁to ▁get ▁the ▁current ▁selection ▁from ▁an ▁image plus , ▁simply ▁call ▁i mp . get ro i () ▁( see ▁also ▁the ▁java doc ) : ▁image plus ▁i mp ▁= ▁window manager . get current image (); ▁double ▁line length ▁= ▁0; ▁x x ma j ▁ ro i ▁ ro i ▁= ▁i mp . get ro i (); ▁if ▁( ro i ▁!= ▁null ▁x x re p ▁4 ▁& ▁ ro i . is line ()) ▁{ ▁line length ▁= ▁ ro i . get length (); ▁} ▁x x ma j ▁one ▁more ▁ comment : ▁image j ▁image j application ▁= ▁new ▁image j ( 2); ▁... ▁i j . set to ol ( 4 ); ▁x x ma j ▁to ▁keep ▁your ▁code ▁more ▁read able , ▁use ▁the ▁defined ▁constant s ▁instead ▁of ▁arbitrary ▁integer s : ▁image j ▁image j application ▁= ▁new ▁image j ( image j . no _ show ); ▁... ▁i j . set to ol ( toolbar . line );,▁x x bo s ▁@ override ▁public ▁x x ma j ▁socket ▁create socket ( i net address ▁host , ▁int ▁port ) ▁throws ▁ io exception ▁{ ▁ssl socket ▁socket ▁= ▁( ssl socket ) ▁delegate . create socket ( host , ▁port ); ▁parameters . configure ( new ▁ssl config ur able socket ( socket )); ▁return ▁socket ; ▁}<$ comment $> {@ inherit doc },▁x x bo s ▁public ▁static ▁void ▁main ( string ▁ [] arg v ) ▁{ ▁env loader . init (); ▁args server base ▁args ▁= ▁new ▁args server bar at ine ( arg v ); ▁args . domain (); ▁}<$ comment $> the ▁main ▁start ▁of ▁the ▁web ▁server . ▁< pre > ▁- conf ▁res in . xml ▁: ▁alt ern ate ▁configuration ▁file ▁- port ▁port ▁: ▁set ▁the ▁server ' s ▁port t ▁< pre >,▁x x bo s ▁public ▁int ▁run ( string [] ▁args ) ▁throws ▁x x ma j ▁exception ▁{ ▁int ▁exit code ▁= ▁0; ▁exit code ▁= ▁init ( args ); ▁if ▁( exit code ▁!= ▁0) ▁{ ▁return ▁exit code ; ▁} ▁ gen dir structure (); ▁output ( new ▁file ( out dir , ▁x x up ▁dir _ structure _ file _ name )); ▁ gen file structure (); ▁output file s ( new ▁file ( out dir , ▁x x up ▁file _ structure _ file _ name )); ▁return ▁exit code ; ▁}<$ comment $> the ▁main ▁function ▁first ▁parse s ▁the ▁command ▁line ▁arguments , ▁then ▁generate s ▁in - memory ▁directory ▁structure ▁and ▁output s ▁to ▁a ▁file , ▁last ▁generate s ▁in - memory ▁files ▁and ▁output s ▁them ▁to ▁a ▁file .,▁x x bo s ▁public ▁x x ma j ▁tab s ▁get document tab s ( string ▁account id , ▁x x ma j ▁string ▁template id , ▁x x ma j ▁string ▁document id ) ▁throws ▁api exception ▁{ ▁return ▁get document tab s ( account id , ▁template id , ▁document id , ▁null ); ▁}<$ comment $> return s ▁tab s ▁on ▁the ▁document . ▁@ param ▁account id ▁x x ma j ▁the ▁external ▁account ▁number ▁( int ) ▁or ▁account ▁x x up ▁id ▁x x ma j ▁g uid . ▁( required ) ▁@ param ▁template id ▁x x ma j ▁the ▁x x up ▁id ▁of ▁the ▁template ▁being ▁access ed . ▁( required ) ▁@ param ▁document id ▁x x ma j ▁the ▁x x up ▁id ▁of ▁the ▁document ▁being ▁access ed . ▁( required ) ▁@ return ▁x x ma j ▁tab s\n",
       "y: LMLabelList\n",
       ",,,,\n",
       "Path: /tf/data/datasets;\n",
       "\n",
       "Valid: LabelList (1054 items)\n",
       "x: LMTextList\n",
       "▁x x bo s ▁public ▁example s . be ha v i or . world . field [][] ▁init map () ▁{ ▁for ▁( example s . be ha v i or . world . field ▁field ▁: ▁foo d field s ) ▁{ ▁field . set foo d (); ▁} ▁return ▁grid ; ▁}<$ b ug $> yes,▁x x bo s ▁public ▁java . util . list < com . rev ature . model s . so city > ▁get all so city () ▁throws ▁com . rev ature . exception . bus i ness exception ▁{ ▁java . util . list < com . rev ature . model s . so city > ▁so c ities ▁= ▁new ▁java . util . array list <>(); ▁try ▁{ ▁java . sql . connection ▁con ▁= ▁get connection (); ▁java . sql . prepare d statement ▁p s ▁= ▁con . prepare statement ( com . rev ature . service . form service . all so city query ); ▁java . sql . result set ▁rs ▁= ▁p s . execute query (); ▁while ▁( rs . next ()) ▁{ ▁com . rev ature . model s . so city ▁so city ▁= ▁new ▁com . rev ature . model s . so city (); ▁so city . set id ( rs . get long (\" id \")); ▁so city . set name ( rs . get string (\" name \")); ▁so city . set code ( rs . get string (\" code \")); ▁so city . set v ill age id ( rs . get long (\" v ill age _ id \")); ▁so city . set is m ale ( rs . get boolean (\" for _ m ale \")); ▁so city . set is f em ale ( rs . get boolean (\" for _ f em ale \")); ▁so c ities . add ( so city ); ▁} ▁rs . close (); ▁p s . close (); ▁con . close (); ▁} ▁catch ▁( java . lang . exception ▁e ) ▁{ ▁e . print stack trace (); ▁throw ▁new ▁com . rev ature . exception . bus i ness exception (\" v ill age s ▁get ▁failed . \", ▁e ); ▁} ▁return ▁so c ities ; ▁}<$ b ug $> yes,▁x x bo s ▁public ▁static ▁x x ma j ▁matrix ▁read matrix ( file ▁matrix , ▁x x ma j ▁format ▁format , ▁x x ma j ▁type ▁matrix type , ▁boolean ▁ transpose on read ) ▁throws ▁ io exception ▁{ ▁try ▁{ ▁switch ( format ) ▁{ ▁case ▁x x up ▁d ense _ text : ▁return ▁read d ense text matrix ( matrix , ▁matrix type , ▁ transpose on read ); ▁case ▁x x up ▁ mat lab _ s parse : ▁return ▁read mat lab s parse ( matrix , ▁matrix type , ▁ transpose on read ); ▁case ▁x x up ▁c lu to _ s parse : ▁return ▁read cl ut os parse ( matrix , ▁matrix type , ▁ transpose on read ); ▁case ▁x x up ▁ s v d lib c _ s parse _ text : ▁return ▁read s parse s v d lib c text ( matrix , ▁matrix type , ▁ transpose on read ); ▁/ ▁/ ▁x x ma j ▁these ▁two ▁format s ▁are ▁equivalent ▁case ▁x x up ▁c lu to _ d ense : ▁case ▁x x up ▁ s v d lib c _ d ense _ text : ▁return ▁read d ense s v d lib c text ( matrix , ▁matrix type , ▁ transpose on read ); ▁case ▁x x up ▁ s v d lib c _ s parse _ binary : ▁return ▁read s parse s v d lib c binary ( matrix , ▁matrix type , ▁ transpose on read ); ▁case ▁x x up ▁ s v d lib c _ d ense _ binary : ▁return ▁read d ense s v d lib c binary ( matrix , ▁matrix type , ▁ transpose on read ); ▁} ▁} ▁catch ▁( e of exception ▁e of e ) ▁{ ▁/ ▁/ ▁x x ma j ▁re throw ▁with ▁more ▁specific ▁type ▁information ▁throw ▁new ▁matrix io exception (\" matrix ▁file ▁\" ▁+ ▁matrix ▁+ ▁\" ▁appear ed ▁\" ▁+ ▁\" truncate d , ▁or ▁was ▁missing ▁expected ▁values ▁at ▁the ▁end ▁of ▁its ▁\" ▁+ ▁\" content s .\"); ▁} ▁throw ▁new ▁error (\" read ing ▁ mat ric es ▁of ▁\" ▁+ ▁format ▁+ ▁\" ▁format ▁is ▁not ▁\"+ ▁\" current ly ▁supported . ▁x x ma j ▁email ▁\" ▁+ ▁\" s - space - re search - dev @ google group s . com ▁to ▁request ▁its ▁\"+ ▁\" in cl us ion ▁and ▁it ▁will ▁be ▁quick ly ▁added \"); ▁}<$ comment $> convert s ▁the ▁contents ▁of ▁a ▁matrix ▁file ▁as ▁a ▁{@ link ▁x x ma j ▁matrix } ▁object , ▁using ▁the ▁provided ▁type ▁description ▁as ▁a ▁hint ▁for ▁what ▁kind ▁to ▁create . ▁x x ma j ▁the ▁type ▁of ▁{@ code ▁x x ma j ▁matrix } ▁object ▁created ▁will ▁be ▁based ▁on ▁an ▁estimate ▁of ▁whether ▁the ▁data ▁will ▁fit ▁into ▁the ▁available ▁memory . ▁x x ma j ▁note ▁that ▁the ▁returned ▁{@ link ▁x x ma j ▁matrix } ▁instance ▁is ▁not ▁back ed ▁by ▁the ▁data ▁on ▁file ; ▁changes ▁to ▁the ▁{@ code ▁x x ma j ▁matrix } ▁will ▁< i > not < ▁/ ▁i > ▁be ▁ reflect ed ▁in ▁the ▁original ▁file ' s ▁data . ▁@ param ▁matrix ▁a ▁file ▁contain ▁matrix ▁data ▁@ param ▁format ▁the ▁format ▁of ▁the ▁file ▁@ param ▁matrix type ▁the ▁expected ▁type ▁and ▁behavior ▁of ▁the ▁matrix ▁in ▁relation ▁to ▁memory . ▁x x ma j ▁this ▁value ▁will ▁be ▁used ▁as ▁a ▁hint ▁for ▁what ▁kind ▁of ▁{@ code ▁x x ma j ▁matrix } ▁instance ▁to ▁create ▁@ param ▁ transpose on read ▁{@ code ▁true } ▁if ▁the ▁matrix ▁should ▁be ▁ transpose d ▁as ▁its ▁data ▁is ▁read ▁in . ▁x x ma j ▁for ▁certain ▁format s , ▁this ▁is ▁more ▁ efficient ▁than ▁reading ▁the ▁data ▁in ▁and ▁then ▁trans pos ing ▁it ▁directly . ▁@ return ▁the ▁{@ code ▁x x ma j ▁matrix } ▁instance ▁that ▁contains ▁the ▁data ▁in ▁the ▁provided ▁file , ▁ optionally ▁ transpose d ▁from ▁its ▁original ▁format ▁@ throws ▁ io exception ▁if ▁any ▁error ▁occurs ▁while ▁reading ▁in ▁the ▁matrix ▁data,▁x x bo s ▁public ▁static ▁void ▁main ( java . lang . string [] ▁args ) ▁{ ▁int [][] ▁img ▁= ▁( ( int [][] ) ▁( io util . de serialize (\" img . s er \")) ); ▁int [][] ▁m br coordinate s ▁= ▁( ( int [][] ) ▁( io util . de serialize (\" m br coordinate s . s er \")) ); ▁int [] ▁area ▁= ▁( ( int []) ▁( io util . de serialize (\" area . s er \")) ); ▁int [][] ▁ cent ro id s ▁= ▁( ( int [][] ) ▁( io util . de serialize (\" cent ro id s . s er \")) ); ▁feature extract or ▁f extract or ▁= ▁new ▁feature extract or ( m br coordinate s , ▁area , ▁ cent ro id s , ▁img , ▁ 34 ); ▁f extract or . extract (); ▁}<$ b ug $> no,▁x x bo s ▁private ▁final ▁boolean ▁is valid pos ( j set tl ers . common . position . short point 2 d ▁pos ) ▁{ ▁int ▁ dx ▁= ▁( pos . x ) ▁- ▁( x offset ); ▁int ▁ dy ▁= ▁( pos . y ) ▁- ▁( y offset ); ▁return ▁( ( ( dx ▁>= ▁0) ▁&& ▁( dy ▁>= ▁0) ) ▁&& ▁( dx ▁< ▁( width ))) ▁&& ▁( dy ▁< ▁( height )); ▁}<$ b ug $> yes\n",
       "y: LMLabelList\n",
       ",,,,\n",
       "Path: /tf/data/datasets;\n",
       "\n",
       "Test: None"
      ]
     },
     "execution_count": 52,
     "metadata": {},
     "output_type": "execute_result"
    }
   ],
   "source": [
    "data.label_list"
   ]
  },
  {
   "cell_type": "code",
   "execution_count": null,
   "metadata": {},
   "outputs": [],
   "source": [
    "len(data.train_ds), len(data.valid_ds)"
   ]
  },
  {
   "cell_type": "code",
   "execution_count": null,
   "metadata": {},
   "outputs": [],
   "source": [
    "data.show_batch()"
   ]
  },
  {
   "cell_type": "code",
   "execution_count": 44,
   "metadata": {},
   "outputs": [],
   "source": [
    "data.save(\"test_data.pkl\")"
   ]
  },
  {
   "cell_type": "code",
   "execution_count": 45,
   "metadata": {},
   "outputs": [],
   "source": [
    "tst_data = load_data(data_path, \"test_data.pkl\", bs = 32)"
   ]
  },
  {
   "cell_type": "code",
   "execution_count": 46,
   "metadata": {},
   "outputs": [
    {
     "data": {
      "text/plain": [
       "TextLMDataBunch;\n",
       "\n",
       "Train: LabelList (4929 items)\n",
       "x: LMTextList\n",
       "▁x x bo s ▁ jms j ca managed connection ▁get managed connection () ▁throws ▁ illegal state exception ▁{ ▁if ▁( trace component . is any tra c ing enabled () ▁&& ▁trace . is entry enabled ()) ▁{ ▁ sib tr . entry ( this , ▁x x up ▁trace , ▁\" get managed connection \"); ▁} ▁if ▁( _ managed connection ▁== ▁null ) ▁{ ▁final ▁connection manager ▁connection manager ▁= ▁ _ connection ▁ . get connection manager (); ▁if ▁( connection manager ▁== ▁null ) ▁{ ▁throw ▁new ▁ illegal state exception ( nl s . get format ted message ( ▁x x up ▁ (\" exception _ receive d _ c ws j r 11 26 \"), ▁new ▁x x ma j ▁object [] ▁{ ▁\" get managed connection \"}, ▁null )); ▁} ▁if ▁( connection manager ▁instanceof ▁lazy as s oc ia table connection manager ) ▁{ ▁try ▁{ ▁final ▁managed connection factory ▁managed connection factory ▁= ▁ _ connection ▁ . get connection factory () ▁ . get managed connection factory (); ▁( ( la z y as s oc ia table connection manager ) ▁connection manager ) ▁ . associate connection ( this , ▁managed connection factory , ▁ _ request info ); ▁} ▁catch ▁( final ▁resource exception ▁exception ) ▁{ ▁ ff dc filter . process exception ( exception , ▁x x up ▁class _ name ▁+ ▁\" get managed connection \", ▁\" 1: 67 3 : 1. 47 \", ▁this ); ▁ sib tr . exception ( this , ▁x x up ▁trace , ▁exception ); ▁throw ▁new ▁ illegal state exception ( nl s . get format ted message ( ▁x x up ▁ (\" exception _ receive d _ c ws j r 11 21 \"), ▁new ▁x x ma j ▁object [] ▁{ ▁\" get managed connection \", ▁exception }, ▁null ) , ▁exception ); ▁} ▁} ▁else ▁{ ▁throw ▁new ▁ illegal state exception ( nl s . get format ted message ( ▁x x up ▁ (\" exception _ receive d _ c ws j r 11 22 \"), ▁new ▁x x ma j ▁object [] ▁{ ▁\" get managed connection \", ▁connection manager . get class (). get name (), ▁lazy as s oc ia table connection manager . class ▁ . get name ()} , ▁null )); ▁} ▁} ▁if ▁( trace component . is any tra c ing enabled () ▁&& ▁trace . is entry enabled ()) ▁{ ▁ sib tr . exit ( this , ▁x x up ▁trace , ▁\" get managed connection \", ▁ _ managed connection ); ▁} ▁return ▁ _ managed connection ; ▁}<$ comment $> get s ▁the ▁managed ▁connection , ▁this ▁will ▁re associate ▁itself ▁with ▁a ▁managed ▁connection ▁if ▁we ▁don ' t ▁have ▁one ▁and ▁the ▁connection ▁manager ▁is ▁a ▁< code > la z y as s oc ia table connection manager < ▁/ ▁code > . ▁@ return ▁the ▁managed ▁connection ▁@ throws ▁ illegal state exception ▁if ▁we ▁don ' t ▁have ▁a ▁managed ▁connection ▁and ▁the ▁connection ▁manager ▁doesn ' t ▁support ▁lazy ▁en list ment,▁x x bo s ▁public ▁void ▁wait for service s registr ation ( final ▁int ▁number of service s ) ▁{ ▁com . j ay way . await i lity . await i lity . await (). at most ( 90 , ▁java . util . concurrent . time unit . seconds ) . un t il ( new ▁java . lang . run n able () ▁{ ▁@ java . lang . override ▁public ▁void ▁run () ▁{ ▁org . assert j . core . api . assert ion s . assert that ( server . fetch all service s ()) . has size ( number of service s ); ▁} ▁} ); ▁}<$ b ug $> no,▁x x bo s ▁public ▁service future < persist ed face > ▁add face from stream a sync ( string ▁ face list id , ▁byte [] ▁image , ▁add face from stream optional parameter ▁add face from stream optional parameter , ▁final ▁service callback < persist ed face > ▁service callback ) ▁{ ▁return ▁service future . from response ( add face from stream with service response a sync ( face list id , ▁image , ▁add face from stream optional parameter ) , ▁service callback ); ▁}<$ comment $> add ▁a ▁ face ▁to ▁a ▁ face ▁list . ▁x x ma j ▁the ▁input ▁ face ▁is ▁specified ▁as ▁an ▁image ▁with ▁a ▁target face ▁rectangle . ▁x x ma j ▁it ▁returns ▁a ▁ persist ed face id ▁representing ▁the ▁added ▁ face , ▁and ▁ persist ed face id ▁will ▁not ▁ expire . ▁@ param ▁ face list id ▁x x ma j ▁id ▁refer enc ing ▁a ▁particular ▁ face ▁list . ▁@ param ▁image ▁x x ma j ▁an ▁image ▁stream . ▁@ param ▁add face from stream optional parameter ▁the ▁object ▁representing ▁the ▁optional ▁parameters ▁to ▁be ▁set ▁before ▁calling ▁this ▁x x up ▁api ▁@ param ▁service callback ▁the ▁async ▁service callback ▁to ▁handle ▁successful ▁and ▁failed ▁response s . ▁@ throws ▁ illegal argument exception ▁thrown ▁if ▁parameters ▁fail ▁the ▁validation ▁@ return ▁the ▁{@ link ▁service future } ▁object,▁x x bo s ▁public ▁x x ma j ▁object ▁invoke method ( final ▁x x ma j ▁string ▁method name , ▁final ▁x x ma j ▁object [] ▁args , ▁final ▁x x ma j ▁ interpret er ▁ interpret er , ▁final ▁call stack ▁call stack , ▁final ▁simple node ▁caller info ) ▁throws ▁ eval error ▁{ ▁return ▁this . get this ( interpret er ) . invoke method ( method name , ▁args , ▁ interpret er , ▁call stack , ▁caller info , ▁false ▁/ ▁* ▁declared only ▁* ▁/ ▁ ); ▁}<$ comment $> this ▁method ▁simply ▁delegate s ▁to ▁this . invoke method (); . ▁< p > ▁@ param ▁method name ▁the ▁method ▁name ▁@ param ▁args ▁the ▁args ▁@ param ▁ interpret er ▁the ▁ interpret er ▁@ param ▁call stack ▁the ▁call stack ▁@ param ▁caller info ▁the ▁caller ▁info ▁@ return ▁the ▁object ▁@ throws ▁ eval error ▁the ▁ eval ▁error ▁@ see ▁b sh . this . invoke method ( string ▁method name , ▁x x ma j ▁object ▁ [] ▁args , ▁x x ma j ▁ interpret er ▁ interpret er , ▁call stack ▁call stack , ▁simple node ▁caller info ),▁x x bo s ▁this ▁is ▁my ▁x x ma j ▁class ▁a ▁< - ▁b ▁< - ▁c ▁class ▁a ▁{ ▁void ▁f ▁( ▁a ▁a ▁ ) ▁{ ▁x x ma j ▁system ▁ . ▁out ▁ . ▁ println ▁( ▁\" ▁x x up ▁a a ▁\" ▁ ); } ▁void ▁f ▁( ▁c ▁c ▁ ) ▁{ ▁x x ma j ▁system ▁ . ▁out ▁ . ▁ println ▁( ▁\" ▁x x up ▁a c ▁\" ▁ ); } ▁} ▁class ▁b ▁extends ▁a ▁{ ▁void ▁f ▁( ▁b ▁b ▁ ) ▁{ ▁x x ma j ▁system ▁ . ▁out ▁ . ▁ println ▁( ▁\" ▁x x up ▁ bb ▁\" ▁ ); } ▁} ▁class ▁c ▁extends ▁b ▁{ ▁void ▁f ▁( ▁a ▁a ▁ ) ▁{ ▁x x ma j ▁system ▁ . ▁out ▁ . ▁ println ▁( ▁\" ▁x x up ▁ ca ▁\" ▁ ); } ▁void ▁f ▁( ▁c ▁c ▁ ) ▁{ ▁x x ma j ▁system ▁ . ▁out ▁ . ▁ println ▁( ▁\" ▁x x up ▁ cc ▁\" ▁ ); } ▁} ▁when ▁i ▁implement ▁my ▁main ▁with ▁the ▁flow ing ▁x x ma j ▁code ▁i ▁don ' t ▁understand ▁the ▁result ▁public ▁class ▁app ▁{ ▁public ▁static ▁void ▁main ▁( ▁x x ma j ▁string ▁ [] ▁args ▁ ) ▁{ ▁a ▁a a ▁= ▁new ▁a ▁ (); ▁b ▁ bb ▁= ▁new ▁b ▁ (); ▁a ▁a c ▁= ▁new ▁c ▁ (); ▁a ▁a b ▁= ▁new ▁b ▁ (); ▁b ▁b c ▁= ▁new ▁c ▁ (); ▁c ▁ cc ▁= ▁new ▁c ▁ (); ▁a a . f ▁( ▁a c ▁ ); ▁ bb . f ▁( ▁a c ▁ ); ▁a b . f ▁( ▁ bb ▁ ); ▁ bb . f ▁( ▁a c ▁ ); ▁ bb . f ▁( ▁ cc ▁ ); ▁} ▁} ▁the ▁result ▁is ▁x x w re p ▁4 ▁x x up ▁a a ▁x x up ▁ ca ▁/ ▁/ ▁x x ma j ▁edit ▁: ▁x x up ▁a c ▁instead ▁of ▁x x up ▁ ca ▁i ▁do ▁not ▁understand ▁how ▁x x ma j ▁java ▁found ▁these ▁results ▁please ▁there ▁are ▁anyone ▁here ▁can ▁explain ▁the ▁result ▁? ▁how ▁to ▁know ▁the ▁method ▁to ▁execute ▁in ▁extends ▁on ▁java ? <$ qa $> method ▁over view ▁x x ma j ▁let ' s ▁take ▁a ▁look ▁at ▁your ▁example ▁step ▁by ▁step . ▁x x ma j ▁you ▁have ▁three ▁classes , ▁if ▁we ▁list ▁all ▁their ▁methods ▁( including ▁over load s ▁and ▁inherited ▁methods ) , ▁you ▁have : ▁class ▁x x up ▁a : ▁void ▁f ▁x x up ▁( a ▁a ) ▁-> ▁print s ▁x x up ▁\" a a \" ▁/ ▁/ ▁# ▁1 ▁void ▁f ▁x x up ▁( c ▁c ) ▁-> ▁print s ▁x x up ▁\" ac \" ▁/ ▁/ ▁# ▁2 ▁class ▁x x up ▁b : ▁/ ▁/ ▁from ▁a ▁void ▁f ▁x x up ▁( a ▁a ) ▁-> ▁print s ▁x x up ▁\" a a \" ▁/ ▁/ ▁# ▁3 ▁void ▁f ▁x x up ▁( c ▁c ) ▁-> ▁print s ▁x x up ▁\" ac \" ▁/ ▁/ ▁# ▁4 ▁/ ▁/ ▁from ▁x x up ▁b , ▁over load ▁void ▁f ▁x x up ▁( b ▁b ) ▁-> ▁print s ▁x x up ▁\" bb \" ▁/ ▁/ ▁# ▁5 ▁class ▁x x up ▁c : ▁/ ▁/ ▁from ▁b ▁void ▁f ▁x x up ▁( b ▁b ) ▁-> ▁print s ▁x x up ▁\" bb \" ▁/ ▁/ ▁# ▁6 ▁/ ▁/ ▁from ▁x x up ▁c , ▁override s ▁methods ▁from ▁a ▁void ▁f ▁x x up ▁( a ▁a ) ▁-> ▁print s ▁x x up ▁\" ca \" ▁/ ▁/ ▁# ▁7 ▁void ▁f ▁x x up ▁( c ▁c ) ▁-> ▁print s ▁x x up ▁\" cc \" ▁/ ▁/ ▁# ▁8 ▁x x ma j ▁so ▁your ▁b ▁class ▁define s ▁a ▁new ▁over load ed ▁variant ▁which ▁accept s ▁x x up ▁b . ▁x x ma j ▁the ▁c ▁class ▁ inherit s ▁everything ▁from ▁a ▁and ▁b ▁and ▁override s ▁the ▁two ▁methods ▁of ▁x x up ▁a . ▁x x ma j ▁explanation ▁x x ma j ▁now ▁to ▁your ▁test s : ▁a a . f ( ac ); ▁/ ▁/ ▁x x up ▁a a ▁ bb . f ( ac ); ▁/ ▁/ ▁x x up ▁a a ▁a b . f ( bb ); ▁/ ▁/ ▁x x up ▁a a ▁ bb . f ( ac ); ▁/ ▁/ ▁x x up ▁a a ▁ bb . f ( cc ); ▁/ ▁/ ▁x x up ▁ ca ▁x x ma j ▁your ▁ naming ▁convention ▁means ▁that ▁the ▁actual ▁instance ▁is ▁of ▁the ▁right ▁characters ▁type , ▁while ▁you ▁refer ▁to ▁it ▁through ▁a ▁variable ▁of ▁the ▁left ▁characters ▁type . ▁x x ma j ▁so ▁a b ▁is ▁actually ▁an ▁instance ▁of ▁the ▁class ▁b ▁and ▁is ▁refer red ▁to ▁by ▁a ▁variable ▁which ▁is ▁allowed ▁to ▁refer ▁to ▁a ▁types . ▁x x ma j ▁know ing ▁this ▁make s ▁understand ing ▁the ▁results ▁quite ▁easy . ▁x x ma j ▁first ▁example : ▁a a . f ( ac ); ▁/ ▁/ ▁x x up ▁a a ▁x x ma j ▁we ▁have ▁an ▁instance ▁of ▁type ▁x x up ▁a , ▁in ▁a ▁variable ▁of ▁type ▁x x up ▁a . ▁x x ma j ▁the ▁argument ▁is ▁of ▁type ▁x x up ▁c , ▁in ▁a ▁variable ▁of ▁type ▁x x up ▁a . ▁x x ma j ▁very ▁important , ▁note ▁that ▁the ▁type ▁of ▁the ▁variable ▁will ▁be ▁used ▁to ▁determine ▁which ▁over load ▁to ▁choose ▁from . ▁x x ma j ▁so ▁from ▁# ▁1 ▁and ▁# ▁2, ▁x x ma j ▁java ▁choose s ▁# ▁1, ▁since ▁a c ▁is ▁in ▁a ▁variable ▁of ▁type ▁x x up ▁a , ▁not ▁x x up ▁c . ▁x x ma j ▁since ▁# ▁1 ▁is ▁used , ▁the ▁output ▁is ▁x x up ▁\" a a \" . ▁x x ma j ▁the ▁exact ▁same ▁happens ▁for ▁the ▁next ▁three ▁calls , ▁alt h ough ▁the ▁third ▁call ▁is ▁again ▁interest ing : ▁a b . f ( bb ); ▁/ ▁/ ▁x x up ▁a a ▁x x ma j ▁alt h ough ▁a b ▁is ▁actually ▁a ▁b ▁instance , ▁so ▁it ▁has ▁a ▁void ▁f ( b ▁b ) ▁( ▁# ▁5 ) ▁print ing ▁x x up ▁\" bb \", ▁we ▁see ▁x x up ▁\" a a \" . ▁x x ma j ▁that ▁is ▁because ▁a b ▁is ▁again ▁in ▁a ▁variable ▁of ▁type ▁x x up ▁a . ▁x x ma j ▁so ▁the ▁compiler ▁takes ▁a ▁look ▁at ▁the ▁methods ▁a ▁offer s . ▁x x ma j ▁the ▁only ▁applicable ▁method ▁is ▁f ( a ▁a ) ▁( ▁# ▁1) , ▁since ▁a b ▁is ▁de finite ly ▁not ▁a ▁x x up ▁c . ▁x x ma j ▁so ▁it ▁uses ▁again ▁# ▁1 ▁and ▁print s ▁x x up ▁\" a a \" . ▁x x ma j ▁ ty po ▁in ▁last ▁example ▁x x ma j ▁with ▁your ▁last ▁example ▁there ▁is ▁something ▁wrong . ▁i ▁guess ▁you ▁made ▁a ▁ ty po , ▁since ▁the ▁code ▁would ▁output ▁x x up ▁\" ac \", ▁not ▁x x up ▁\" ca \": ▁ bb . f ( cc ); ▁/ ▁/ ▁x x up ▁a c ▁x x ma j ▁the ▁reason ▁is ▁simple . ▁ bb ▁is ▁of ▁type ▁x x up ▁b , ▁and ▁also ▁its ▁variable . ▁x x ma j ▁so ▁we ▁can ▁choose ▁from ▁x x ma j ▁b s ▁methods ▁( and ▁the ▁one ▁inherited ▁from ▁x x up ▁a ) . ▁x x ma j ▁the ▁argument ▁is ▁of ▁type ▁x x up ▁c , ▁same ▁for ▁its ▁variable . ▁x x ma j ▁so ▁we ▁call ▁method ▁# ▁4 , ▁print ing ▁x x up ▁\" ac \" . ▁x x ma j ▁type ▁over view ▁x x ma j ▁here ▁are ▁the ▁actual ▁type - s it u ations ▁which ▁are ▁relevant ▁in ▁the ▁end : ▁a . f ( a ); ▁/ ▁/ ▁x x up ▁a a , ▁# ▁1 ▁b . f ( a ); ▁/ ▁/ ▁x x up ▁a a , ▁# ▁3 ▁a . f ( b ); ▁/ ▁/ ▁x x up ▁a a , ▁# ▁1 ▁b . f ( a ); ▁/ ▁/ ▁x x up ▁a a , ▁# ▁3 ▁b . f ( c ); ▁/ ▁/ ▁x x up ▁a c , ▁# ▁4 ▁x x up ▁j ls ▁definition ▁x x ma j ▁the ▁rules ▁how ▁x x ma j ▁java ▁determine s ▁which ▁methods ▁to ▁call ▁are ▁clear ly ▁defined ▁in ▁the ▁x x ma j ▁java ▁x x ma j ▁language ▁x x ma j ▁specification . ▁x x ma j ▁you ▁can ▁read ▁it , ▁if ▁you ▁are ▁interest ed . ▁x x ma j ▁the ▁relevant ▁ch ap ter ▁is ▁15 . 12 ▁x x ma j ▁method ▁x x ma j ▁invocation ▁x x ma j ▁expression s . ▁x x ma j ▁in ▁particular ▁15 . 12 . 2. 1. ▁x x ma j ▁identify ▁x x ma j ▁potentially ▁x x ma j ▁applicable ▁x x ma j ▁methods ▁and ▁15 . 12 . 2. 5 . ▁x x ma j ▁ cho os ing ▁the ▁x x ma j ▁most ▁x x ma j ▁specific ▁x x ma j ▁method . ▁x x ma j ▁some ▁exc er pt s : ▁x x ma j ▁the ▁class ▁[ . . . ] ▁is ▁search ed ▁for ▁all ▁member ▁methods ▁that ▁are ▁potentially ▁applicable ▁to ▁this ▁method ▁invocation ; ▁members ▁inherited ▁from ▁super classes ▁and ▁super interface s ▁are ▁included ▁in ▁this ▁search . ▁x x ma j ▁if ▁more ▁than ▁one ▁member ▁method ▁is ▁both ▁accessible ▁and ▁applicable ▁to ▁a ▁method ▁invocation , ▁it ▁is ▁necessary ▁to ▁choose ▁one ▁to ▁provide ▁the ▁descriptor ▁for ▁the ▁run - time ▁method ▁dispatch . ▁x x ma j ▁the ▁x x ma j ▁java ▁programming ▁language ▁uses ▁the ▁rule ▁that ▁the ▁most ▁specific ▁method ▁is ▁chosen .\n",
       "y: LMLabelList\n",
       ",,,,\n",
       "Path: /tf/data/datasets;\n",
       "\n",
       "Valid: LabelList (1054 items)\n",
       "x: LMTextList\n",
       "▁x x bo s ▁private ▁x x ma j ▁point 2 d ▁ reflect ( point 2 d ▁p , ▁double ▁x 0, ▁double ▁y 0, ▁double ▁x 1, ▁double ▁y 1) ▁{ ▁double ▁ dx , ▁ dy , ▁a , ▁b ; ▁ dx ▁= ▁( x 1 ▁- ▁x 0); ▁ dy ▁= ▁( y 1 ▁- ▁y 0); ▁a ▁= ▁( dx ▁* ▁ dx ▁- ▁ dy ▁* ▁ dy ) ▁/ ▁( dx ▁* ▁ dx ▁+ ▁ dy ▁* ▁ dy ); ▁b ▁= ▁2 ▁* ▁ dx ▁* ▁ dy ▁/ ▁( dx ▁* ▁ dx ▁+ ▁ dy ▁* ▁ dy ); ▁return ▁new ▁x x ma j ▁point 2 d ( a ▁* ▁( p . x ▁- ▁x 0) ▁+ ▁b ▁* ▁( p . y ▁- ▁y 0) ▁+ ▁x 0, ▁b ▁* ▁( p . x ▁- ▁x 0) ▁- ▁a ▁* ▁( p . y ▁- ▁y 0) ▁+ ▁y 0); ▁}<$ comment $> reflect ▁the ▁point ▁{@ code ▁p } ▁in ▁the ▁line ▁( x 0, y 0 ▁- ▁x 1, y 1) . ▁@ param ▁p ▁the ▁point ▁to ▁ reflect ▁@ param ▁x 0 ▁plane ▁x ▁start ▁@ param ▁y 0 ▁plane ▁y ▁end ▁@ param ▁x 1 ▁plane ▁x ▁start ▁@ param ▁y 1 ▁plane ▁y ▁end ▁@ return ▁the ▁ reflect ed ▁point,▁x x bo s ▁@ org . junit . test ▁public ▁void ▁generic wi ld card () ▁throws ▁java . lang . exception ▁{ ▁com . github . ig n ac io tc resp o . random object . class _ generic wi ld card ▁object ▁= ▁com . github . ig n ac io tc resp o . random object . m r p ol ite . one ( com . github . ig n ac io tc resp o . random object . class _ generic wi ld card . class ) . pl ea se (); ▁org . assert j . core . api . assert ion s . assert that ( object ) . is not null (); ▁org . assert j . core . api . assert ion s . assert that ( object . list ) . is not empty (). has only elements of type ( com . github . ig n ac io tc resp o . random object . class _ with generic s _ t . class ); ▁for ▁( com . github . ig n ac io tc resp o . random object . class _ with generic s _ t <? ▁extends ▁java . util . set > ▁c gt _ set ▁: ▁object . list ) ▁{ ▁org . assert j . core . api . assert ion s . assert that ( c gt _ set . object _ t ) . is not empty (); ▁} ▁org . assert j . core . api . assert ion s . assert that ( object . list n est ed ) . is not empty (). has only elements of type ( com . github . ig n ac io tc resp o . random object . class _ with generic s _ t . class ); ▁for ▁( com . github . ig n ac io tc resp o . random object . class _ with generic s _ t < com . github . ig n ac io tc resp o . random object . class _ with generic s _ t <? ▁extends ▁java . util . set >> ▁c gt _ c gt _ set ▁: ▁object . list n est ed ) ▁{ ▁com . github . ig n ac io tc resp o . random object . class _ with generic s _ t <? ▁extends ▁java . util . set > ▁c gt _ set ▁= ▁c gt _ c gt _ set . object _ t ; ▁org . assert j . core . api . assert ion s . assert that ( c gt _ set ) . is instance of ( com . github . ig n ac io tc resp o . random object . class _ with generic s _ t . class ); ▁org . assert j . core . api . assert ion s . assert that ( c gt _ set . object _ t ) . is not empty (); ▁} ▁}<$ b ug $> no,▁x x bo s ▁private ▁java . lang . string ▁get sec ure http only cookie header ( java . lang . string ▁key , ▁java . lang . object ▁value ) ▁{ ▁u k . go v . dv s a . mo tr . web . cookie . cookie in session filter . logger . info (\" get sec ure http only cookie header ▁has ▁is should clear cookie s ▁value ▁of ▁{}\", ▁this . mo tr session . is should clear cookie s ()); ▁int ▁max age ▁= ▁( this . mo tr session . is should clear cookie s ()) ▁? ▁0 ▁: ▁javax . ws . rs . core . new cookie . default _ max _ age ; ▁javax . ws . rs . core . new cookie ▁new cookie ▁= ▁new ▁javax . ws . rs . core . new cookie ( new ▁javax . ws . rs . core . cookie ( key , ▁value . to string ()) , ▁\" ▁/ ▁* \", ▁max age , ▁null , ▁true , ▁true ); ▁u k . go v . dv s a . mo tr . web . cookie . cookie in session filter . logger . info (\" new cookie ▁has ▁value ▁of ▁{}\", ▁new cookie . to string ()); ▁return ▁new cookie . to string (); ▁}<$ b ug $> yes,▁x x bo s ▁@ java . lang . override ▁public ▁void ▁on next ( t ▁v ) ▁{ ▁on next ( v , ▁inner schedule r . now ()); ▁}<$ b ug $> yes,▁x x bo s ▁protected ▁void ▁prepare anim ation (@ non null ▁state controller ▁shared controller , ▁@ int range ( from ▁= ▁-1) ▁final ▁int ▁duration ) ▁{ ▁if ▁( is anim ating ()) ▁{ ▁return ; ▁} ▁set anim ating ( true ); ▁get trans ition (). start trans ition ( m reverse ▁? ▁1 ▁: ▁0); ▁m controller ▁= ▁shared controller ; ▁if ▁( duration ▁!= ▁-1) ▁{ ▁m controller . set anim ation duration ( duration ); ▁} ▁m controller . add anim ation ( this ); ▁}<$ comment $> call ed ▁before ▁{@ link ▁state controller ▁# ▁start controller ()} ▁to ▁configure ▁the ▁animation . ▁@ param ▁shared controller ▁a ▁shared ▁{@ link ▁state controller } ▁to ▁reduce ▁resource ▁usage . ▁@ param ▁duration ▁x x ma j ▁duration ▁of ▁the ▁animation , ▁-1 ▁if ▁shared controller ' s ▁duration ▁should ▁not ▁be ▁overridden .\n",
       "y: LMLabelList\n",
       ",,,,\n",
       "Path: /tf/data/datasets;\n",
       "\n",
       "Test: None"
      ]
     },
     "execution_count": 46,
     "metadata": {},
     "output_type": "execute_result"
    }
   ],
   "source": [
    "tst_data"
   ]
  },
  {
   "cell_type": "code",
   "execution_count": null,
   "metadata": {},
   "outputs": [],
   "source": []
  },
  {
   "cell_type": "code",
   "execution_count": null,
   "metadata": {},
   "outputs": [],
   "source": []
  },
  {
   "cell_type": "code",
   "execution_count": null,
   "metadata": {},
   "outputs": [],
   "source": []
  },
  {
   "cell_type": "code",
   "execution_count": null,
   "metadata": {},
   "outputs": [],
   "source": []
  },
  {
   "cell_type": "code",
   "execution_count": null,
   "metadata": {},
   "outputs": [],
   "source": []
  },
  {
   "cell_type": "code",
   "execution_count": null,
   "metadata": {},
   "outputs": [],
   "source": []
  },
  {
   "cell_type": "markdown",
   "metadata": {},
   "source": [
    "# Bunch of Debugging"
   ]
  },
  {
   "cell_type": "code",
   "execution_count": null,
   "metadata": {},
   "outputs": [],
   "source": [
    "db1 = db.dl(DatasetType.Train)"
   ]
  },
  {
   "cell_type": "code",
   "execution_count": null,
   "metadata": {},
   "outputs": [],
   "source": [
    " db2 = TextLMDataBunch.create(\n",
    "        train_ds = db.train_dl.dl.dataset,\n",
    "        valid_ds = db.train_dl.dl.dataset, path = data_path\n",
    "    )"
   ]
  },
  {
   "cell_type": "code",
   "execution_count": null,
   "metadata": {},
   "outputs": [],
   "source": [
    "db2.show_batch()"
   ]
  },
  {
   "cell_type": "code",
   "execution_count": null,
   "metadata": {
    "scrolled": true
   },
   "outputs": [],
   "source": [
    "db.show_batch()"
   ]
  },
  {
   "cell_type": "code",
   "execution_count": null,
   "metadata": {},
   "outputs": [],
   "source": [
    "data.show_batch()"
   ]
  },
  {
   "cell_type": "code",
   "execution_count": null,
   "metadata": {},
   "outputs": [],
   "source": [
    "db1 = db.databunch(bs=32)"
   ]
  },
  {
   "cell_type": "code",
   "execution_count": null,
   "metadata": {},
   "outputs": [],
   "source": [
    "db1.show_batch()"
   ]
  },
  {
   "cell_type": "code",
   "execution_count": null,
   "metadata": {},
   "outputs": [],
   "source": [
    "d1 = (TextList\n",
    "            .from_df(df_trn[:100], data_path, \n",
    "                     processor = SPProcessor(\n",
    "                         sp_model = data_path/\"merged/model.model\",\n",
    "                         sp_vocab = data_path/\"merged/model.vocab\"\n",
    "                     ))\n",
    "            .split_none()\n",
    "            .label_for_lm()\n",
    "#             .databunch(bs=64)\n",
    "           )"
   ]
  },
  {
   "cell_type": "code",
   "execution_count": null,
   "metadata": {},
   "outputs": [],
   "source": [
    "d2 = d1.databunch(bs=64)\n",
    "d2.show_batch()"
   ]
  },
  {
   "cell_type": "code",
   "execution_count": null,
   "metadata": {},
   "outputs": [],
   "source": [
    "db.show_batch()"
   ]
  },
  {
   "cell_type": "code",
   "execution_count": null,
   "metadata": {},
   "outputs": [],
   "source": [
    "data.train_dl.dl.dataset[5]"
   ]
  },
  {
   "cell_type": "code",
   "execution_count": null,
   "metadata": {},
   "outputs": [],
   "source": [
    "new_data = (TextList\n",
    "            .from_df(df_trn[:100], data_path, \n",
    "                     processor = SPProcessor(\n",
    "                         sp_model = data_path/\"merged/model.model\",\n",
    "                         sp_vocab = data_path/\"merged/model.vocab\"\n",
    "                     ))\n",
    "            .split_none()\n",
    "            .label_for_lm()\n",
    "            .databunch(bs=64)\n",
    "           )"
   ]
  },
  {
   "cell_type": "code",
   "execution_count": null,
   "metadata": {},
   "outputs": [],
   "source": [
    "new_data.show_batch()"
   ]
  },
  {
   "cell_type": "code",
   "execution_count": null,
   "metadata": {},
   "outputs": [],
   "source": [
    "new_data.train_dl.dl.dataset[5]"
   ]
  },
  {
   "cell_type": "code",
   "execution_count": null,
   "metadata": {},
   "outputs": [],
   "source": []
  }
 ],
 "metadata": {
  "kernelspec": {
   "display_name": "Python 3",
   "language": "python",
   "name": "python3"
  },
  "language_info": {
   "codemirror_mode": {
    "name": "ipython",
    "version": 3
   },
   "file_extension": ".py",
   "mimetype": "text/x-python",
   "name": "python",
   "nbconvert_exporter": "python",
   "pygments_lexer": "ipython3",
   "version": "3.6.8"
  }
 },
 "nbformat": 4,
 "nbformat_minor": 2
}
