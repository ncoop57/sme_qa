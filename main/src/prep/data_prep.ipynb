{
 "cells": [
  {
   "cell_type": "markdown",
   "metadata": {},
   "source": [
    "# Easily export jupyter cells to python module\n",
    "https://github.com/fastai/course-v3/blob/master/nbs/dl2/notebook2script.py"
   ]
  },
  {
   "cell_type": "code",
   "execution_count": 8,
   "metadata": {},
   "outputs": [
    {
     "name": "stdout",
     "output_type": "stream",
     "text": [
      "Converted data_prep.ipynb to exp/nb_data.py\r\n"
     ]
    }
   ],
   "source": [
    "! python /tf/main/src/scripts/notebook2script.py data_prep.ipynb"
   ]
  },
  {
   "cell_type": "code",
   "execution_count": 1,
   "metadata": {},
   "outputs": [],
   "source": [
    "#export\n",
    "import json\n",
    "\n",
    "import pandas as pd\n",
    "from pathlib import Path"
   ]
  },
  {
   "cell_type": "code",
   "execution_count": 2,
   "metadata": {},
   "outputs": [],
   "source": [
    "pd.set_option('max_colwidth',300)\n",
    "from pprint import pprint"
   ]
  },
  {
   "cell_type": "code",
   "execution_count": 3,
   "metadata": {},
   "outputs": [],
   "source": [
    "data_path = Path('/tf/data/datasets')\n",
    "java_files = sorted(Path(data_path/'java/').glob('**/*.gz'))"
   ]
  },
  {
   "cell_type": "code",
   "execution_count": 5,
   "metadata": {},
   "outputs": [],
   "source": [
    "#export\n",
    "def jsonl_df(file_list, columns, compression=None):\n",
    "    \"\"\"Load a list of jsonl.gz files into a pandas DataFrame.\"\"\"\n",
    "    return pd.concat([pd.read_json(f, \n",
    "                                   orient='records', \n",
    "                                   compression=compression,\n",
    "                                   lines=True)[columns] \n",
    "                      for f in file_list], sort=False)"
   ]
  },
  {
   "cell_type": "code",
   "execution_count": 6,
   "metadata": {},
   "outputs": [],
   "source": [
    "java_df = jsonl_df(java_files, ['code', 'docstring'], 'gzip')"
   ]
  },
  {
   "cell_type": "code",
   "execution_count": 7,
   "metadata": {},
   "outputs": [
    {
     "data": {
      "text/html": [
       "<div>\n",
       "<style scoped>\n",
       "    .dataframe tbody tr th:only-of-type {\n",
       "        vertical-align: middle;\n",
       "    }\n",
       "\n",
       "    .dataframe tbody tr th {\n",
       "        vertical-align: top;\n",
       "    }\n",
       "\n",
       "    .dataframe thead th {\n",
       "        text-align: right;\n",
       "    }\n",
       "</style>\n",
       "<table border=\"1\" class=\"dataframe\">\n",
       "  <thead>\n",
       "    <tr style=\"text-align: right;\">\n",
       "      <th></th>\n",
       "      <th>code</th>\n",
       "      <th>docstring</th>\n",
       "    </tr>\n",
       "  </thead>\n",
       "  <tbody>\n",
       "    <tr>\n",
       "      <td>0</td>\n",
       "      <td>protected final void fastPathOrderedEmit(U value, boolean delayError, Disposable disposable) {\\n        final Observer&lt;? super V&gt; observer = downstream;\\n        final SimplePlainQueue&lt;U&gt; q = queue;\\n\\n        if (wip.get() == 0 &amp;&amp; wip.compareAndSet(0, 1)) {\\n            if (q.isEmpty()) {\\n    ...</td>\n",
       "      <td>Makes sure the fast-path emits in order.\\n@param value the value to emit or queue up\\n@param delayError if true, errors are delayed until the source has terminated\\n@param disposable the resource to dispose if the drain terminates</td>\n",
       "    </tr>\n",
       "    <tr>\n",
       "      <td>1</td>\n",
       "      <td>@CheckReturnValue\\n    @NonNull\\n    @SchedulerSupport(SchedulerSupport.NONE)\\n    public static &lt;T&gt; Observable&lt;T&gt; amb(Iterable&lt;? extends ObservableSource&lt;? extends T&gt;&gt; sources) {\\n        ObjectHelper.requireNonNull(sources, \"sources is null\");\\n        return RxJavaPlugins.onAssembly(new Obser...</td>\n",
       "      <td>Mirrors the one ObservableSource in an Iterable of several ObservableSources that first either emits an item or sends\\na termination notification.\\n&lt;p&gt;\\n&lt;img width=\"640\" height=\"385\" src=\"https://raw.github.com/wiki/ReactiveX/RxJava/images/rx-operators/amb.png\" alt=\"\"&gt;\\n&lt;dl&gt;\\n&lt;dt&gt;&lt;b&gt;Scheduler:&lt;/...</td>\n",
       "    </tr>\n",
       "    <tr>\n",
       "      <td>2</td>\n",
       "      <td>@SuppressWarnings(\"unchecked\")\\n    @CheckReturnValue\\n    @NonNull\\n    @SchedulerSupport(SchedulerSupport.NONE)\\n    public static &lt;T&gt; Observable&lt;T&gt; ambArray(ObservableSource&lt;? extends T&gt;... sources) {\\n        ObjectHelper.requireNonNull(sources, \"sources is null\");\\n        int len = sources...</td>\n",
       "      <td>Mirrors the one ObservableSource in an array of several ObservableSources that first either emits an item or sends\\na termination notification.\\n&lt;p&gt;\\n&lt;img width=\"640\" height=\"385\" src=\"https://raw.github.com/wiki/ReactiveX/RxJava/images/rx-operators/amb.png\" alt=\"\"&gt;\\n&lt;dl&gt;\\n&lt;dt&gt;&lt;b&gt;Scheduler:&lt;/b&gt;&lt;...</td>\n",
       "    </tr>\n",
       "  </tbody>\n",
       "</table>\n",
       "</div>"
      ],
      "text/plain": [
       "                                                                                                                                                                                                                                                                                                          code  \\\n",
       "0  protected final void fastPathOrderedEmit(U value, boolean delayError, Disposable disposable) {\\n        final Observer<? super V> observer = downstream;\\n        final SimplePlainQueue<U> q = queue;\\n\\n        if (wip.get() == 0 && wip.compareAndSet(0, 1)) {\\n            if (q.isEmpty()) {\\n    ...   \n",
       "1  @CheckReturnValue\\n    @NonNull\\n    @SchedulerSupport(SchedulerSupport.NONE)\\n    public static <T> Observable<T> amb(Iterable<? extends ObservableSource<? extends T>> sources) {\\n        ObjectHelper.requireNonNull(sources, \"sources is null\");\\n        return RxJavaPlugins.onAssembly(new Obser...   \n",
       "2  @SuppressWarnings(\"unchecked\")\\n    @CheckReturnValue\\n    @NonNull\\n    @SchedulerSupport(SchedulerSupport.NONE)\\n    public static <T> Observable<T> ambArray(ObservableSource<? extends T>... sources) {\\n        ObjectHelper.requireNonNull(sources, \"sources is null\");\\n        int len = sources...   \n",
       "\n",
       "                                                                                                                                                                                                                                                                                                     docstring  \n",
       "0                                                                       Makes sure the fast-path emits in order.\\n@param value the value to emit or queue up\\n@param delayError if true, errors are delayed until the source has terminated\\n@param disposable the resource to dispose if the drain terminates  \n",
       "1  Mirrors the one ObservableSource in an Iterable of several ObservableSources that first either emits an item or sends\\na termination notification.\\n<p>\\n<img width=\"640\" height=\"385\" src=\"https://raw.github.com/wiki/ReactiveX/RxJava/images/rx-operators/amb.png\" alt=\"\">\\n<dl>\\n<dt><b>Scheduler:</...  \n",
       "2  Mirrors the one ObservableSource in an array of several ObservableSources that first either emits an item or sends\\na termination notification.\\n<p>\\n<img width=\"640\" height=\"385\" src=\"https://raw.github.com/wiki/ReactiveX/RxJava/images/rx-operators/amb.png\" alt=\"\">\\n<dl>\\n<dt><b>Scheduler:</b><...  "
      ]
     },
     "execution_count": 7,
     "metadata": {},
     "output_type": "execute_result"
    }
   ],
   "source": [
    "java_df.head(3)"
   ]
  },
  {
   "cell_type": "code",
   "execution_count": null,
   "metadata": {},
   "outputs": [],
   "source": []
  }
 ],
 "metadata": {
  "kernelspec": {
   "display_name": "Python 3",
   "language": "python",
   "name": "python3"
  },
  "language_info": {
   "codemirror_mode": {
    "name": "ipython",
    "version": 3
   },
   "file_extension": ".py",
   "mimetype": "text/x-python",
   "name": "python",
   "nbconvert_exporter": "python",
   "pygments_lexer": "ipython3",
   "version": "3.6.8"
  }
 },
 "nbformat": 4,
 "nbformat_minor": 2
}
