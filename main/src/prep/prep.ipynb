{
 "cells": [
  {
   "cell_type": "markdown",
   "metadata": {},
   "source": [
    "# Easily export jupyter cells to python module\n",
    "https://github.com/fastai/course-v3/blob/master/nbs/dl2/notebook2script.py"
   ]
  },
  {
   "cell_type": "code",
   "execution_count": 1,
   "metadata": {},
   "outputs": [
    {
     "name": "stdout",
     "output_type": "stream",
     "text": [
      "Converted prep.ipynb to exp/nb_prep.py\r\n"
     ]
    }
   ],
   "source": [
    "! python /tf/main/src/scripts/notebook2script.py prep.ipynb"
   ]
  },
  {
   "cell_type": "code",
   "execution_count": 2,
   "metadata": {},
   "outputs": [
    {
     "name": "stdout",
     "output_type": "stream",
     "text": [
      "Requirement already satisfied: sklearn in /usr/local/lib/python3.6/dist-packages (0.0)\n",
      "Requirement already satisfied: scikit-learn in /usr/local/lib/python3.6/dist-packages (from sklearn) (0.21.3)\n",
      "Requirement already satisfied: joblib>=0.11 in /usr/local/lib/python3.6/dist-packages (from scikit-learn->sklearn) (0.14.0)\n",
      "Requirement already satisfied: scipy>=0.17.0 in /usr/local/lib/python3.6/dist-packages (from scikit-learn->sklearn) (1.3.1)\n",
      "Requirement already satisfied: numpy>=1.11.0 in /usr/local/lib/python3.6/dist-packages (from scikit-learn->sklearn) (1.16.4)\n",
      "\u001b[33mWARNING: You are using pip version 19.2.3, however version 19.3.1 is available.\n",
      "You should consider upgrading via the 'pip install --upgrade pip' command.\u001b[0m\n"
     ]
    }
   ],
   "source": [
    "! pip install sklearn"
   ]
  },
  {
   "cell_type": "code",
   "execution_count": 3,
   "metadata": {},
   "outputs": [],
   "source": [
    "#export\n",
    "import json\n",
    "\n",
    "import pandas as pd\n",
    "from pathlib import Path\n",
    "from sklearn.model_selection import train_test_split"
   ]
  },
  {
   "cell_type": "code",
   "execution_count": 4,
   "metadata": {},
   "outputs": [],
   "source": [
    "pd.set_option('max_colwidth',300)\n",
    "from pprint import pprint"
   ]
  },
  {
   "cell_type": "code",
   "execution_count": 6,
   "metadata": {
    "scrolled": true
   },
   "outputs": [],
   "source": [
    "data_path = Path('/tf/data/datasets')\n",
    "# java_files = sorted(Path(data_path/'mthds_cmts/java/').glob('**/*.gz'))\n",
    "# java_files"
   ]
  },
  {
   "cell_type": "code",
   "execution_count": null,
   "metadata": {},
   "outputs": [],
   "source": [
    "#export\n",
    "def jsonl_df(file_list, columns, compression=None):\n",
    "    \"\"\"Load a list of jsonl.gz files into a pandas DataFrame.\"\"\"\n",
    "    return pd.concat([pd.read_json(f, \n",
    "                                   orient='records', \n",
    "                                   compression=compression,\n",
    "                                   lines=True)[columns] \n",
    "                      for f in file_list], sort=False)"
   ]
  },
  {
   "cell_type": "code",
   "execution_count": null,
   "metadata": {},
   "outputs": [],
   "source": [
    "java_df = jsonl_df(java_files, ['code', 'docstring'], 'gzip').rename(columns={\"code\": \"query\", \"docstring\": \"res\"})"
   ]
  },
  {
   "cell_type": "code",
   "execution_count": null,
   "metadata": {},
   "outputs": [],
   "source": [
    "java_df.head(3)"
   ]
  },
  {
   "cell_type": "code",
   "execution_count": null,
   "metadata": {},
   "outputs": [],
   "source": [
    "len(java_df)"
   ]
  },
  {
   "cell_type": "code",
   "execution_count": null,
   "metadata": {},
   "outputs": [],
   "source": [
    "java_df.to_csv(data_path/\"mthds_cmts/mthds_cmts.csv\")"
   ]
  },
  {
   "cell_type": "code",
   "execution_count": null,
   "metadata": {},
   "outputs": [],
   "source": [
    "# concate two csv files\n",
    "csvs = [data_path/'so_posts/1-50000_10-3-19.csv', data_path/'so_posts/50000-56942_10-3-19.csv']\n",
    "df = pd.concat([pd.read_csv(f)\n",
    "           for f in csvs], sort=False)"
   ]
  },
  {
   "cell_type": "code",
   "execution_count": null,
   "metadata": {},
   "outputs": [],
   "source": [
    "df.head()"
   ]
  },
  {
   "cell_type": "code",
   "execution_count": null,
   "metadata": {},
   "outputs": [],
   "source": [
    "len(df)"
   ]
  },
  {
   "cell_type": "code",
   "execution_count": null,
   "metadata": {},
   "outputs": [],
   "source": [
    "df.to_csv(data_path/'so_posts/56942_10-3-19.csv', index=False)"
   ]
  },
  {
   "cell_type": "code",
   "execution_count": null,
   "metadata": {},
   "outputs": [],
   "source": [
    "df = pd.read_csv(data_path/\"so_posts/56942_10-3-19_formated.csv\")\n",
    "df.head()"
   ]
  },
  {
   "cell_type": "code",
   "execution_count": null,
   "metadata": {},
   "outputs": [],
   "source": [
    "#beautifulsoup version\n",
    "white_list = [\"p\"]"
   ]
  },
  {
   "cell_type": "code",
   "execution_count": null,
   "metadata": {},
   "outputs": [],
   "source": [
    "#export\n",
    "def clean_html(post):\n",
    "    \"\"\"Removes all html tags that can occur inside a SO post.\"\"\"\n",
    "    result = re.sub(r\"<.?span[^>]*>|<.?code[^>]*>|<.?p[^>]*>|<.?hr[^>]*>|<.?h[1-3][^>]*>|<.?a[^>]*>|<.?b[^>]*>|<.?blockquote[^>]*>|<.?del[^>]*>|<.?dd[^>]*>|<.?dl[^>]*>|<.?dt[^>]*>|<.?em[^>]*>|<.?i[^>]*>|<.?img[^>]*>|<.?kbd[^>]*>|<.?li[^>]*>|<.?ol[^>]*>|<.?pre[^>]*>|<.?s[^>]*>|<.?sup[^>]*>|<.?sub[^>]*>|<.?strong[^>]*>|<.?strike[^>]*>|<.?ul[^>]*>|<.?br[^>]*>\", \"\", post)\n",
    "    return result"
   ]
  },
  {
   "cell_type": "code",
   "execution_count": null,
   "metadata": {},
   "outputs": [],
   "source": [
    "#export\n",
    "def post_df(df):\n",
    "    \"\"\"Formats Dataframe from scrapped SO posts into query and res columns.\"\"\"\n",
    "    query = list(map('\\n\\n'.join, zip(df[\"q_body\"], df[\"title\"])))\n",
    "    query = list(map(clean_html, query))\n",
    "    res   = list(map(clean_html, df[\"a_body\"]))\n",
    "    new_df = pd.DataFrame({\"query\": query, \"res\": res})\n",
    "    return new_df"
   ]
  },
  {
   "cell_type": "code",
   "execution_count": null,
   "metadata": {
    "scrolled": true
   },
   "outputs": [],
   "source": [
    "formated_df = post_df(df)\n",
    "len(formated_df)"
   ]
  },
  {
   "cell_type": "code",
   "execution_count": null,
   "metadata": {},
   "outputs": [],
   "source": [
    "formated_df.to_csv(data_path/'so_posts/56942_10-3-19_formated.csv', index=False)"
   ]
  },
  {
   "cell_type": "code",
   "execution_count": null,
   "metadata": {},
   "outputs": [],
   "source": [
    "post = \"\"\"<p>I have the following code:<hr>\n",
    "<code>\n",
    "/**\n",
    " * Generic version of the Box class.\n",
    " * @param <T> the type of the value being boxed\n",
    " */\n",
    "public class Box<T> {\n",
    "    // T stands for \"Type\"\n",
    "    private T t;\n",
    "\n",
    "    public void set(T t) { this.t = t; }\n",
    "    public T get() { return t; }\n",
    "}\n",
    "</code>\n",
    "</p>\"\"\""
   ]
  },
  {
   "cell_type": "code",
   "execution_count": null,
   "metadata": {},
   "outputs": [],
   "source": [
    "post = \"\"\"<p>I have the following code:<hr>\n",
    "<code>\n",
    "/**\n",
    " * Generic version of the Box class.\n",
    " * @param <T> the type of the value being boxed\n",
    " */\n",
    "public class Box<T> {\n",
    "    // T stands for \"Type\"\n",
    "    private T t;\n",
    "\n",
    "    public void set(T t) { this.t = t; }\n",
    "    public T get() { return t; }\n",
    "}\n",
    "</code>\n",
    "<a>              - hyperlink.\n",
    "<b>              - bold, use as last resort <h1>-<h3>, <em>, and <strong> are \n",
    "                   preferred.\n",
    "<blockquote>     - specifies a section that is quoted from another source.\n",
    "<code>           - defines a piece of computer code.\n",
    "<del>            - delete, used to indicate modifications.\n",
    "<dd>             - describes the item in a <dl> description list.\n",
    "<dl>             - description list.\n",
    "<dt>             - title of an item in a <dl> description list.\n",
    "<em>             - emphasized.\n",
    "<h1>, <h2>, <h3> - headings.\n",
    "<i>              - italic.\n",
    "<img>            - specifies an image tag.\n",
    "<kbd>            - represents user input (usually keyboard input).\n",
    "<li>             - list item in an ordered list <ol> or an unordered list <ul>.\n",
    "<ol>             - ordered list.\n",
    "<p>              - paragraph.\n",
    "<pre>            - pre-element displayed in a fixed width font and and \n",
    "                   unchanged line breaks.\n",
    "<s>              - strikethrough.\n",
    "<sup>            - superscript text appears 1/2 character above the baseline \n",
    "                   used for footnotes and other formatting.\n",
    "<sub>            - subscript appears 1/2 character below the baseline.\n",
    "<strong>         - defines important text.\n",
    "<strike>         - strikethrough is deprecated, use <del> instead.\n",
    "<ul>             - unordered list.\n",
    "<br>             - line break.\n",
    "<hr>             - defines a thematic change in the content, usually via a \n",
    "                   horizontal line.\n",
    "</p>\"\"\""
   ]
  },
  {
   "cell_type": "code",
   "execution_count": 21,
   "metadata": {},
   "outputs": [
    {
     "ename": "NameError",
     "evalue": "name 'post' is not defined",
     "output_type": "error",
     "traceback": [
      "\u001b[0;31m---------------------------------------------------------------------------\u001b[0m",
      "\u001b[0;31mNameError\u001b[0m                                 Traceback (most recent call last)",
      "\u001b[0;32m<ipython-input-21-640cea79c1aa>\u001b[0m in \u001b[0;36m<module>\u001b[0;34m\u001b[0m\n\u001b[1;32m      1\u001b[0m \u001b[0;32mimport\u001b[0m \u001b[0mre\u001b[0m\u001b[0;34m\u001b[0m\u001b[0;34m\u001b[0m\u001b[0m\n\u001b[0;32m----> 2\u001b[0;31m \u001b[0mresult\u001b[0m \u001b[0;34m=\u001b[0m \u001b[0mre\u001b[0m\u001b[0;34m.\u001b[0m\u001b[0msub\u001b[0m\u001b[0;34m(\u001b[0m\u001b[0;34mr\"<.?p[^>]*>|<.?hr[^>]*>|<.?h[1-3][^>]*>|<.?a[^>]*>|<.?b[^>]*>|<.?blockquote[^>]*>|<.?code[^>]*>|<.?del[^>]*>|<.?dd[^>]*>|<.?dl[^>]*>|<.?dt[^>]*>|<.?em[^>]*>|<.?i[^>]*>|<.?img[^>]*>|<.?kbd[^>]*>|<.?li[^>]*>|<.?ol[^>]*>|<.?pre[^>]*>|<.?s[^>]*>|<.?sup[^>]*>|<.?sub[^>]*>|<.?strong[^>]*>|<.?strike[^>]*>|<.?ul[^>]*>|<.?br[^>]*>\"\u001b[0m\u001b[0;34m,\u001b[0m \u001b[0;34m\"\"\u001b[0m\u001b[0;34m,\u001b[0m \u001b[0mpost\u001b[0m\u001b[0;34m)\u001b[0m\u001b[0;34m\u001b[0m\u001b[0;34m\u001b[0m\u001b[0m\n\u001b[0m\u001b[1;32m      3\u001b[0m \u001b[0mprint\u001b[0m\u001b[0;34m(\u001b[0m\u001b[0mresult\u001b[0m\u001b[0;34m)\u001b[0m\u001b[0;34m\u001b[0m\u001b[0;34m\u001b[0m\u001b[0m\n",
      "\u001b[0;31mNameError\u001b[0m: name 'post' is not defined"
     ]
    }
   ],
   "source": [
    "import re\n",
    "result = re.sub(r\"<.?p[^>]*>|<.?hr[^>]*>|<.?h[1-3][^>]*>|<.?a[^>]*>|<.?b[^>]*>|<.?blockquote[^>]*>|<.?code[^>]*>|<.?del[^>]*>|<.?dd[^>]*>|<.?dl[^>]*>|<.?dt[^>]*>|<.?em[^>]*>|<.?i[^>]*>|<.?img[^>]*>|<.?kbd[^>]*>|<.?li[^>]*>|<.?ol[^>]*>|<.?pre[^>]*>|<.?s[^>]*>|<.?sup[^>]*>|<.?sub[^>]*>|<.?strong[^>]*>|<.?strike[^>]*>|<.?ul[^>]*>|<.?br[^>]*>\", \"\", post)\n",
    "print(result)"
   ]
  },
  {
   "cell_type": "code",
   "execution_count": 20,
   "metadata": {},
   "outputs": [],
   "source": [
    "#export\n",
    "def split_data(df):\n",
    "    \"\"\"Split DataFrame into training, validation, and testing sets.\"\"\"\n",
    "    df_trn, tmp = train_test_split(df, test_size = 0.2)\n",
    "    df_val, df_tst = train_test_split(tmp, test_size = 0.5)\n",
    "    \n",
    "    return df_trn, df_val, df_tst"
   ]
  },
  {
   "cell_type": "code",
   "execution_count": 31,
   "metadata": {},
   "outputs": [],
   "source": [
    "#export\n",
    "def split_causal_data(df, trn_splt = 0.8, val_splt = 0.1, tst_splt = 0.1):\n",
    "    df_sz = len(df)\n",
    "    trn_indx = int(df_sz * trn_splt)\n",
    "    val_indx = int(df_sz * val_splt)\n",
    "    \n",
    "    df_trn = df.loc[:trn_indx]\n",
    "    df_val = df.loc[(trn_indx + 1):(trn_indx + val_indx)]\n",
    "    df_tst = df.loc[(trn_indx + val_indx + 1):]\n",
    "    \n",
    "    return df_trn, df_val, df_tst\n",
    "    "
   ]
  },
  {
   "cell_type": "code",
   "execution_count": 44,
   "metadata": {},
   "outputs": [
    {
     "data": {
      "text/html": [
       "<div>\n",
       "<style scoped>\n",
       "    .dataframe tbody tr th:only-of-type {\n",
       "        vertical-align: middle;\n",
       "    }\n",
       "\n",
       "    .dataframe tbody tr th {\n",
       "        vertical-align: top;\n",
       "    }\n",
       "\n",
       "    .dataframe thead th {\n",
       "        text-align: right;\n",
       "    }\n",
       "</style>\n",
       "<table border=\"1\" class=\"dataframe\">\n",
       "  <thead>\n",
       "    <tr style=\"text-align: right;\">\n",
       "      <th></th>\n",
       "      <th>query</th>\n",
       "      <th>res</th>\n",
       "    </tr>\n",
       "  </thead>\n",
       "  <tbody>\n",
       "    <tr>\n",
       "      <td>0</td>\n",
       "      <td>I am calling a vendor's Java API, and on some servers it appears that the JVM goes into a low priority polling loop after logging into the API (CPU at 100% usage).  The same app on other servers does not exhibit this behavior. This happens on WebSphere and Tomcat.  The environment is tricky to s...</td>\n",
       "      <td>If you are using Java 5 or later, you can connect to your application using jconsole to view all running threads. jstack also will do a stack dump. I think this should still work even inside a container like Tomcat.\\n\\nBoth of these tools are included with JDK5 and later (I assume the process ne...</td>\n",
       "    </tr>\n",
       "    <tr>\n",
       "      <td>1</td>\n",
       "      <td>I am calling a vendor's Java API, and on some servers it appears that the JVM goes into a low priority polling loop after logging into the API (CPU at 100% usage).  The same app on other servers does not exhibit this behavior. This happens on WebSphere and Tomcat.  The environment is tricky to s...</td>\n",
       "      <td>If it's for professional purpose and you have some money to spend, try to get your hands on JProfiler. If you just want to get some insights, try out the Eclipse Profiler Plugin. I used it several times, but I don't know the current state.\\n\\nA new(?) project from the eclipse project itself is a...</td>\n",
       "    </tr>\n",
       "    <tr>\n",
       "      <td>2</td>\n",
       "      <td>I am calling a vendor's Java API, and on some servers it appears that the JVM goes into a low priority polling loop after logging into the API (CPU at 100% usage).  The same app on other servers does not exhibit this behavior. This happens on WebSphere and Tomcat.  The environment is tricky to s...</td>\n",
       "      <td>Facing the same problem I used YourKit profiler. It's loader doesn't activate unless you actually connect to it (though it does open a port to listen for connections). The profiler itself has a nice \"get amount of time spent in each method\" while working in it's less obtrusive mode.\\n\\nAnother w...</td>\n",
       "    </tr>\n",
       "    <tr>\n",
       "      <td>3</td>\n",
       "      <td>I am calling a vendor's Java API, and on some servers it appears that the JVM goes into a low priority polling loop after logging into the API (CPU at 100% usage).  The same app on other servers does not exhibit this behavior. This happens on WebSphere and Tomcat.  The environment is tricky to s...</td>\n",
       "      <td>Use a profiler. Yes they cost money, and using them can occasionally be a bit awkward, but they do provide you with a great deal more real evidence rather than guesswork.\\n\\nHuman beings are universally bad at guessing where performance bottlenecks are. It just seems to be something our brains a...</td>\n",
       "    </tr>\n",
       "    <tr>\n",
       "      <td>4</td>\n",
       "      <td>I am calling a vendor's Java API, and on some servers it appears that the JVM goes into a low priority polling loop after logging into the API (CPU at 100% usage).  The same app on other servers does not exhibit this behavior. This happens on WebSphere and Tomcat.  The environment is tricky to s...</td>\n",
       "      <td>If JConsole can't be used you can\\n\\n\\npress CTRL+BREAK under Windows\\nsend kill -3 &amp;lt;process id&amp;gt; under Linux\\n\\n\\nto get a full Thread Dump. This doesn't affect performance and can always be run in production.\\n</td>\n",
       "    </tr>\n",
       "  </tbody>\n",
       "</table>\n",
       "</div>"
      ],
      "text/plain": [
       "                                                                                                                                                                                                                                                                                                         query  \\\n",
       "0  I am calling a vendor's Java API, and on some servers it appears that the JVM goes into a low priority polling loop after logging into the API (CPU at 100% usage).  The same app on other servers does not exhibit this behavior. This happens on WebSphere and Tomcat.  The environment is tricky to s...   \n",
       "1  I am calling a vendor's Java API, and on some servers it appears that the JVM goes into a low priority polling loop after logging into the API (CPU at 100% usage).  The same app on other servers does not exhibit this behavior. This happens on WebSphere and Tomcat.  The environment is tricky to s...   \n",
       "2  I am calling a vendor's Java API, and on some servers it appears that the JVM goes into a low priority polling loop after logging into the API (CPU at 100% usage).  The same app on other servers does not exhibit this behavior. This happens on WebSphere and Tomcat.  The environment is tricky to s...   \n",
       "3  I am calling a vendor's Java API, and on some servers it appears that the JVM goes into a low priority polling loop after logging into the API (CPU at 100% usage).  The same app on other servers does not exhibit this behavior. This happens on WebSphere and Tomcat.  The environment is tricky to s...   \n",
       "4  I am calling a vendor's Java API, and on some servers it appears that the JVM goes into a low priority polling loop after logging into the API (CPU at 100% usage).  The same app on other servers does not exhibit this behavior. This happens on WebSphere and Tomcat.  The environment is tricky to s...   \n",
       "\n",
       "                                                                                                                                                                                                                                                                                                           res  \n",
       "0  If you are using Java 5 or later, you can connect to your application using jconsole to view all running threads. jstack also will do a stack dump. I think this should still work even inside a container like Tomcat.\\n\\nBoth of these tools are included with JDK5 and later (I assume the process ne...  \n",
       "1  If it's for professional purpose and you have some money to spend, try to get your hands on JProfiler. If you just want to get some insights, try out the Eclipse Profiler Plugin. I used it several times, but I don't know the current state.\\n\\nA new(?) project from the eclipse project itself is a...  \n",
       "2  Facing the same problem I used YourKit profiler. It's loader doesn't activate unless you actually connect to it (though it does open a port to listen for connections). The profiler itself has a nice \"get amount of time spent in each method\" while working in it's less obtrusive mode.\\n\\nAnother w...  \n",
       "3  Use a profiler. Yes they cost money, and using them can occasionally be a bit awkward, but they do provide you with a great deal more real evidence rather than guesswork.\\n\\nHuman beings are universally bad at guessing where performance bottlenecks are. It just seems to be something our brains a...  \n",
       "4                                                                                    If JConsole can't be used you can\\n\\n\\npress CTRL+BREAK under Windows\\nsend kill -3 &lt;process id&gt; under Linux\\n\\n\\nto get a full Thread Dump. This doesn't affect performance and can always be run in production.\\n  "
      ]
     },
     "execution_count": 44,
     "metadata": {},
     "output_type": "execute_result"
    }
   ],
   "source": [
    "df_trn, df_val, df_tst = split_causal_data(df)\n",
    "df_trn.head() #len(df_trn), len(df_val)"
   ]
  },
  {
   "cell_type": "code",
   "execution_count": 8,
   "metadata": {},
   "outputs": [
    {
     "data": {
      "text/html": [
       "<div>\n",
       "<style scoped>\n",
       "    .dataframe tbody tr th:only-of-type {\n",
       "        vertical-align: middle;\n",
       "    }\n",
       "\n",
       "    .dataframe tbody tr th {\n",
       "        vertical-align: top;\n",
       "    }\n",
       "\n",
       "    .dataframe thead th {\n",
       "        text-align: right;\n",
       "    }\n",
       "</style>\n",
       "<table border=\"1\" class=\"dataframe\">\n",
       "  <thead>\n",
       "    <tr style=\"text-align: right;\">\n",
       "      <th></th>\n",
       "      <th>query</th>\n",
       "      <th>res</th>\n",
       "    </tr>\n",
       "  </thead>\n",
       "  <tbody>\n",
       "    <tr>\n",
       "      <td>0</td>\n",
       "      <td>I am calling a vendor's Java API, and on some servers it appears that the JVM goes into a low priority polling loop after logging into the API (CPU at 100% usage).  The same app on other servers does not exhibit this behavior. This happens on WebSphere and Tomcat.  The environment is tricky to s...</td>\n",
       "      <td>If you are using Java 5 or later, you can connect to your application using jconsole to view all running threads. jstack also will do a stack dump. I think this should still work even inside a container like Tomcat.\\n\\nBoth of these tools are included with JDK5 and later (I assume the process ne...</td>\n",
       "    </tr>\n",
       "    <tr>\n",
       "      <td>1</td>\n",
       "      <td>I am calling a vendor's Java API, and on some servers it appears that the JVM goes into a low priority polling loop after logging into the API (CPU at 100% usage).  The same app on other servers does not exhibit this behavior. This happens on WebSphere and Tomcat.  The environment is tricky to s...</td>\n",
       "      <td>If it's for professional purpose and you have some money to spend, try to get your hands on JProfiler. If you just want to get some insights, try out the Eclipse Profiler Plugin. I used it several times, but I don't know the current state.\\n\\nA new(?) project from the eclipse project itself is a...</td>\n",
       "    </tr>\n",
       "    <tr>\n",
       "      <td>2</td>\n",
       "      <td>I am calling a vendor's Java API, and on some servers it appears that the JVM goes into a low priority polling loop after logging into the API (CPU at 100% usage).  The same app on other servers does not exhibit this behavior. This happens on WebSphere and Tomcat.  The environment is tricky to s...</td>\n",
       "      <td>Facing the same problem I used YourKit profiler. It's loader doesn't activate unless you actually connect to it (though it does open a port to listen for connections). The profiler itself has a nice \"get amount of time spent in each method\" while working in it's less obtrusive mode.\\n\\nAnother w...</td>\n",
       "    </tr>\n",
       "    <tr>\n",
       "      <td>3</td>\n",
       "      <td>I am calling a vendor's Java API, and on some servers it appears that the JVM goes into a low priority polling loop after logging into the API (CPU at 100% usage).  The same app on other servers does not exhibit this behavior. This happens on WebSphere and Tomcat.  The environment is tricky to s...</td>\n",
       "      <td>Use a profiler. Yes they cost money, and using them can occasionally be a bit awkward, but they do provide you with a great deal more real evidence rather than guesswork.\\n\\nHuman beings are universally bad at guessing where performance bottlenecks are. It just seems to be something our brains a...</td>\n",
       "    </tr>\n",
       "    <tr>\n",
       "      <td>4</td>\n",
       "      <td>I am calling a vendor's Java API, and on some servers it appears that the JVM goes into a low priority polling loop after logging into the API (CPU at 100% usage).  The same app on other servers does not exhibit this behavior. This happens on WebSphere and Tomcat.  The environment is tricky to s...</td>\n",
       "      <td>If JConsole can't be used you can\\n\\n\\npress CTRL+BREAK under Windows\\nsend kill -3 &amp;lt;process id&amp;gt; under Linux\\n\\n\\nto get a full Thread Dump. This doesn't affect performance and can always be run in production.\\n</td>\n",
       "    </tr>\n",
       "    <tr>\n",
       "      <td>5</td>\n",
       "      <td>I am calling a vendor's Java API, and on some servers it appears that the JVM goes into a low priority polling loop after logging into the API (CPU at 100% usage).  The same app on other servers does not exhibit this behavior. This happens on WebSphere and Tomcat.  The environment is tricky to s...</td>\n",
       "      <td>JRockit Mission Control Latency Analyzer.\\n\\nThe Latency Analyzer that comes with JRockit shows you what the JVM is \"doing\" when it's not doing anything. In the latest version you can see latencies for:\\n\\n\\nJava wait/blocked/sleep/parked.\\nFile I/O\\nNetwork I/O\\nMemory allocation\\nGC pauses\\nJV...</td>\n",
       "    </tr>\n",
       "    <tr>\n",
       "      <td>6</td>\n",
       "      <td>I would like to know which dependency described in my pom.xml brings a transitive dependency in my target directory.\\n\\nTo be more precise, I have the library \"poi-2.5.1-final-20040804.jar\" in my WEB-INF/lib directory and I would like to know which dependency in my pom.xml brings that.\\n\\n\\nIn M...</td>\n",
       "      <td>Using the Maven Dependency Plugin:\\n\\nmvn dependency:tree\\n\\n</td>\n",
       "    </tr>\n",
       "    <tr>\n",
       "      <td>7</td>\n",
       "      <td>I would like to know which dependency described in my pom.xml brings a transitive dependency in my target directory.\\n\\nTo be more precise, I have the library \"poi-2.5.1-final-20040804.jar\" in my WEB-INF/lib directory and I would like to know which dependency in my pom.xml brings that.\\n\\n\\nIn M...</td>\n",
       "      <td>If you run maven with \"-x\" switch, it will print out plenty of diagnostics, I guess the relevant dependency path can be picked up from there.\\n</td>\n",
       "    </tr>\n",
       "    <tr>\n",
       "      <td>8</td>\n",
       "      <td>I would like to know which dependency described in my pom.xml brings a transitive dependency in my target directory.\\n\\nTo be more precise, I have the library \"poi-2.5.1-final-20040804.jar\" in my WEB-INF/lib directory and I would like to know which dependency in my pom.xml brings that.\\n\\n\\nIn M...</td>\n",
       "      <td>To add to @David Crow, here's a dependency:tree example from the Maven site:\\n\\nmvn dependency:tree -Dincludes=velocity:velocity\\n\\n\\nmight output\\n\\n[INFO] [dependency:tree]\\n[INFO] org.apache.maven.plugins:maven-dependency-plugin:maven-plugin:2.0-alpha-5-SNAPSHOT\\n[INFO] \\- org.apache.maven.do...</td>\n",
       "    </tr>\n",
       "    <tr>\n",
       "      <td>9</td>\n",
       "      <td>I would like to know which dependency described in my pom.xml brings a transitive dependency in my target directory.\\n\\nTo be more precise, I have the library \"poi-2.5.1-final-20040804.jar\" in my WEB-INF/lib directory and I would like to know which dependency in my pom.xml brings that.\\n\\n\\nIn M...</td>\n",
       "      <td>The dependency information is also included in the Project Information/Dependencies report if you have maven generate a site for the project, using mvn site.\\n</td>\n",
       "    </tr>\n",
       "  </tbody>\n",
       "</table>\n",
       "</div>"
      ],
      "text/plain": [
       "                                                                                                                                                                                                                                                                                                         query  \\\n",
       "0  I am calling a vendor's Java API, and on some servers it appears that the JVM goes into a low priority polling loop after logging into the API (CPU at 100% usage).  The same app on other servers does not exhibit this behavior. This happens on WebSphere and Tomcat.  The environment is tricky to s...   \n",
       "1  I am calling a vendor's Java API, and on some servers it appears that the JVM goes into a low priority polling loop after logging into the API (CPU at 100% usage).  The same app on other servers does not exhibit this behavior. This happens on WebSphere and Tomcat.  The environment is tricky to s...   \n",
       "2  I am calling a vendor's Java API, and on some servers it appears that the JVM goes into a low priority polling loop after logging into the API (CPU at 100% usage).  The same app on other servers does not exhibit this behavior. This happens on WebSphere and Tomcat.  The environment is tricky to s...   \n",
       "3  I am calling a vendor's Java API, and on some servers it appears that the JVM goes into a low priority polling loop after logging into the API (CPU at 100% usage).  The same app on other servers does not exhibit this behavior. This happens on WebSphere and Tomcat.  The environment is tricky to s...   \n",
       "4  I am calling a vendor's Java API, and on some servers it appears that the JVM goes into a low priority polling loop after logging into the API (CPU at 100% usage).  The same app on other servers does not exhibit this behavior. This happens on WebSphere and Tomcat.  The environment is tricky to s...   \n",
       "5  I am calling a vendor's Java API, and on some servers it appears that the JVM goes into a low priority polling loop after logging into the API (CPU at 100% usage).  The same app on other servers does not exhibit this behavior. This happens on WebSphere and Tomcat.  The environment is tricky to s...   \n",
       "6  I would like to know which dependency described in my pom.xml brings a transitive dependency in my target directory.\\n\\nTo be more precise, I have the library \"poi-2.5.1-final-20040804.jar\" in my WEB-INF/lib directory and I would like to know which dependency in my pom.xml brings that.\\n\\n\\nIn M...   \n",
       "7  I would like to know which dependency described in my pom.xml brings a transitive dependency in my target directory.\\n\\nTo be more precise, I have the library \"poi-2.5.1-final-20040804.jar\" in my WEB-INF/lib directory and I would like to know which dependency in my pom.xml brings that.\\n\\n\\nIn M...   \n",
       "8  I would like to know which dependency described in my pom.xml brings a transitive dependency in my target directory.\\n\\nTo be more precise, I have the library \"poi-2.5.1-final-20040804.jar\" in my WEB-INF/lib directory and I would like to know which dependency in my pom.xml brings that.\\n\\n\\nIn M...   \n",
       "9  I would like to know which dependency described in my pom.xml brings a transitive dependency in my target directory.\\n\\nTo be more precise, I have the library \"poi-2.5.1-final-20040804.jar\" in my WEB-INF/lib directory and I would like to know which dependency in my pom.xml brings that.\\n\\n\\nIn M...   \n",
       "\n",
       "                                                                                                                                                                                                                                                                                                           res  \n",
       "0  If you are using Java 5 or later, you can connect to your application using jconsole to view all running threads. jstack also will do a stack dump. I think this should still work even inside a container like Tomcat.\\n\\nBoth of these tools are included with JDK5 and later (I assume the process ne...  \n",
       "1  If it's for professional purpose and you have some money to spend, try to get your hands on JProfiler. If you just want to get some insights, try out the Eclipse Profiler Plugin. I used it several times, but I don't know the current state.\\n\\nA new(?) project from the eclipse project itself is a...  \n",
       "2  Facing the same problem I used YourKit profiler. It's loader doesn't activate unless you actually connect to it (though it does open a port to listen for connections). The profiler itself has a nice \"get amount of time spent in each method\" while working in it's less obtrusive mode.\\n\\nAnother w...  \n",
       "3  Use a profiler. Yes they cost money, and using them can occasionally be a bit awkward, but they do provide you with a great deal more real evidence rather than guesswork.\\n\\nHuman beings are universally bad at guessing where performance bottlenecks are. It just seems to be something our brains a...  \n",
       "4                                                                                    If JConsole can't be used you can\\n\\n\\npress CTRL+BREAK under Windows\\nsend kill -3 &lt;process id&gt; under Linux\\n\\n\\nto get a full Thread Dump. This doesn't affect performance and can always be run in production.\\n  \n",
       "5  JRockit Mission Control Latency Analyzer.\\n\\nThe Latency Analyzer that comes with JRockit shows you what the JVM is \"doing\" when it's not doing anything. In the latest version you can see latencies for:\\n\\n\\nJava wait/blocked/sleep/parked.\\nFile I/O\\nNetwork I/O\\nMemory allocation\\nGC pauses\\nJV...  \n",
       "6                                                                                                                                                                                                                                                Using the Maven Dependency Plugin:\\n\\nmvn dependency:tree\\n\\n  \n",
       "7                                                                                                                                                              If you run maven with \"-x\" switch, it will print out plenty of diagnostics, I guess the relevant dependency path can be picked up from there.\\n  \n",
       "8  To add to @David Crow, here's a dependency:tree example from the Maven site:\\n\\nmvn dependency:tree -Dincludes=velocity:velocity\\n\\n\\nmight output\\n\\n[INFO] [dependency:tree]\\n[INFO] org.apache.maven.plugins:maven-dependency-plugin:maven-plugin:2.0-alpha-5-SNAPSHOT\\n[INFO] \\- org.apache.maven.do...  \n",
       "9                                                                                                                                              The dependency information is also included in the Project Information/Dependencies report if you have maven generate a site for the project, using mvn site.\\n  "
      ]
     },
     "execution_count": 8,
     "metadata": {},
     "output_type": "execute_result"
    }
   ],
   "source": [
    "df = pd.read_csv(data_path/\"so_posts/56942_10-3-19_formated.csv\")\n",
    "df.head(10)"
   ]
  },
  {
   "cell_type": "code",
   "execution_count": null,
   "metadata": {},
   "outputs": [],
   "source": [
    "df_trn, df_val, df_tst = split_data(df)"
   ]
  },
  {
   "cell_type": "code",
   "execution_count": 45,
   "metadata": {},
   "outputs": [],
   "source": [
    "assert len(df) == (len(df_trn) + len(df_val) + len(df_tst))"
   ]
  },
  {
   "cell_type": "code",
   "execution_count": 34,
   "metadata": {},
   "outputs": [],
   "source": [
    "#save results\n",
    "df_trn.to_csv(data_path/'so_posts/trn.csv', index=False)\n",
    "df_val.to_csv(data_path/'so_posts/val.csv', index=False)\n",
    "df_tst.to_csv(data_path/'so_posts/tst.csv', index=False)"
   ]
  },
  {
   "cell_type": "code",
   "execution_count": null,
   "metadata": {},
   "outputs": [],
   "source": [
    "df_trn.head()"
   ]
  },
  {
   "cell_type": "code",
   "execution_count": null,
   "metadata": {},
   "outputs": [],
   "source": [
    "df_val.head()"
   ]
  },
  {
   "cell_type": "code",
   "execution_count": null,
   "metadata": {},
   "outputs": [],
   "source": [
    "df_tst.head()"
   ]
  },
  {
   "cell_type": "code",
   "execution_count": 41,
   "metadata": {},
   "outputs": [],
   "source": [
    "#export\n",
    "def save_splits(dfs, output_path):\n",
    "    \"\"\"Save split of DataFrames into corresponding training, validation, and testing csv files.\"\"\"\n",
    "    dfs[0].to_csv(output_path/'trn.csv', index=False)\n",
    "    dfs[1].to_csv(output_path/'val.csv', index=False)\n",
    "    dfs[2].to_csv(output_path/'tst.csv', index=False)"
   ]
  },
  {
   "cell_type": "code",
   "execution_count": 23,
   "metadata": {},
   "outputs": [],
   "source": [
    "#export\n",
    "def save_dfs(df, output_path):\n",
    "    \"\"\"Splits and saves a list of DataFrames to corresponding csv files in the output_path.\"\"\"\n",
    "    # split\n",
    "    df_trn, df_val, df_tst = split_data(df)\n",
    "    # Make sure the sizes match\n",
    "    assert len(df) == (len(df_trn) + len(df_val) + len(df_tst))\n",
    "    \n",
    "    # save splits\n",
    "    save_splits((df_trn, df_val, df_tst), output_path)"
   ]
  },
  {
   "cell_type": "code",
   "execution_count": null,
   "metadata": {},
   "outputs": [],
   "source": [
    "save_dfs(java_df, data_path/\"mthds_cmts\")"
   ]
  },
  {
   "cell_type": "code",
   "execution_count": null,
   "metadata": {},
   "outputs": [],
   "source": [
    "type(java_df[\"query\"])"
   ]
  },
  {
   "cell_type": "code",
   "execution_count": 35,
   "metadata": {},
   "outputs": [],
   "source": [
    "#export\n",
    "tags = {\n",
    "    \"mthds_cmts\": \"<$comment$>\", \"so_posts\": \"<$qa$>\",\n",
    "    \"code_smell\": \"<$dirty$>\", \"buggy\": \"<$bug$>\"\n",
    "}\n",
    "def tag_task(df, task_name):\n",
    "    \"\"\"Adds special tag to the end of the query based on the type of task.\"\"\"\n",
    "    new_query = list(map(lambda x: x + tags[task_name], df[\"query\"]))\n",
    "    df[\"query\"] = pd.Series(new_query)\n",
    "\n",
    "    return df"
   ]
  },
  {
   "cell_type": "code",
   "execution_count": 36,
   "metadata": {},
   "outputs": [],
   "source": [
    "#export\n",
    "def read_data(path):\n",
    "    \"\"\"Read in the different data splits from some path.\"\"\"\n",
    "    df_trn = pd.read_csv(path/\"trn.csv\")\n",
    "    df_val = pd.read_csv(path/\"val.csv\")\n",
    "    df_tst = pd.read_csv(path/\"tst.csv\")\n",
    "    \n",
    "    return df_trn, df_val, df_tst"
   ]
  },
  {
   "cell_type": "code",
   "execution_count": 37,
   "metadata": {},
   "outputs": [],
   "source": [
    "#export\n",
    "def tag_tasks(path):\n",
    "    \"\"\"Tag all tasks that exist in some path.\"\"\"\n",
    "    dfs = []\n",
    "    for task_path in path.glob(\"*\"):\n",
    "        if task_path.stem == \"merged\": continue\n",
    "        dfs.append(\n",
    "            list(\n",
    "                map(lambda x: tag_task(x, task_path.stem), read_data(task_path))\n",
    "            )\n",
    "        )\n",
    "    \n",
    "    return dfs"
   ]
  },
  {
   "cell_type": "code",
   "execution_count": null,
   "metadata": {
    "scrolled": true
   },
   "outputs": [],
   "source": [
    "dfs = tag_tasks(data_path)\n",
    "print(dfs[0][0][\"query\"][0], dfs[1][0][\"query\"][0])"
   ]
  },
  {
   "cell_type": "code",
   "execution_count": null,
   "metadata": {},
   "outputs": [],
   "source": [
    "trn_dfs = next(zip(*dfs))\n",
    "print(len(trn_dfs[0]), len(trn_dfs[1]))"
   ]
  },
  {
   "cell_type": "code",
   "execution_count": 42,
   "metadata": {},
   "outputs": [],
   "source": [
    "#export\n",
    "def merge_dfs(path, output):\n",
    "    \"\"\"Tag and merge tasks into a single DataFrame.\"\"\"\n",
    "    dfs = tag_tasks(path)\n",
    "    merged_dfs = list(map(lambda x: pd.concat(x, ignore_index=True), zip(*dfs)))\n",
    "    save_splits(merged_dfs, output)\n",
    "    \n",
    "    return merged_dfs"
   ]
  },
  {
   "cell_type": "code",
   "execution_count": 43,
   "metadata": {},
   "outputs": [],
   "source": [
    "merged_dfs = merge_dfs(data_path, data_path/\"merged\")"
   ]
  },
  {
   "cell_type": "code",
   "execution_count": 36,
   "metadata": {},
   "outputs": [
    {
     "data": {
      "text/plain": [
       "('public void returnResults(java.util.ArrayList<com.example.pitur.newtrackommender.TrackInfo> queryResults) {\\n    if (queryResults != null) {\\n        this.queryResults = queryResults;\\n        adapter = new com.example.pitur.newtrackommender.TrackInfoAdapter(this, R.layout.list_item, queryResults);\\n        setListAdapter(adapter);\\n        setItemClickListeners(this.getListView());\\n    }else {\\n        android.widget.Toast.makeText(this, \"Your query gave no results.\", Toast.LENGTH_LONG).show();\\n    }\\n}<$bug$>',\n",
       " 'no')"
      ]
     },
     "execution_count": 36,
     "metadata": {},
     "output_type": "execute_result"
    }
   ],
   "source": [
    "merged_dfs[0][\"query\"][0], merged_dfs[0][\"res\"][0]"
   ]
  },
  {
   "cell_type": "code",
   "execution_count": 30,
   "metadata": {},
   "outputs": [
    {
     "data": {
      "text/plain": [
       "492903"
      ]
     },
     "execution_count": 30,
     "metadata": {},
     "output_type": "execute_result"
    }
   ],
   "source": [
    "len(merged_dfs[0])"
   ]
  },
  {
   "cell_type": "code",
   "execution_count": null,
   "metadata": {},
   "outputs": [],
   "source": [
    "tst = [(\"trn1\", \"tst1\"), (\"trn2\", \"tst2\"), (\"trn3\", \"tst3\")]\n",
    "\n",
    "list(zip(*tst))"
   ]
  },
  {
   "cell_type": "code",
   "execution_count": null,
   "metadata": {
    "scrolled": true
   },
   "outputs": [],
   "source": [
    "merged_dfs[0].head()"
   ]
  },
  {
   "cell_type": "code",
   "execution_count": null,
   "metadata": {},
   "outputs": [],
   "source": [
    "print(merged_dfs[0][\"query\"][50000])"
   ]
  },
  {
   "cell_type": "code",
   "execution_count": null,
   "metadata": {},
   "outputs": [],
   "source": [
    "len(merged_dfs[0])"
   ]
  },
  {
   "cell_type": "markdown",
   "metadata": {},
   "source": [
    "# Buggy Task"
   ]
  },
  {
   "cell_type": "code",
   "execution_count": 3,
   "metadata": {},
   "outputs": [],
   "source": [
    "data_path = Path('/tf/data/datasets')"
   ]
  },
  {
   "cell_type": "code",
   "execution_count": 9,
   "metadata": {},
   "outputs": [
    {
     "data": {
      "text/html": [
       "<div>\n",
       "<style scoped>\n",
       "    .dataframe tbody tr th:only-of-type {\n",
       "        vertical-align: middle;\n",
       "    }\n",
       "\n",
       "    .dataframe tbody tr th {\n",
       "        vertical-align: top;\n",
       "    }\n",
       "\n",
       "    .dataframe thead th {\n",
       "        text-align: right;\n",
       "    }\n",
       "</style>\n",
       "<table border=\"1\" class=\"dataframe\">\n",
       "  <thead>\n",
       "    <tr style=\"text-align: right;\">\n",
       "      <th></th>\n",
       "      <th>query</th>\n",
       "      <th>res</th>\n",
       "    </tr>\n",
       "  </thead>\n",
       "  <tbody>\n",
       "    <tr>\n",
       "      <td>49995</td>\n",
       "      <td>@java.lang.Override\\npublic void onMapReady(final com.google.android.gms.maps.GoogleMap map) {\\n    mMap = map;\\n    mMap.getUiSettings().setMapToolbarEnabled(false);\\n    org.rudirect.android.data.model.BusStop stop = busStopsActivity.getBusStops()[0];\\n    mMap.animateCamera(com.google.android...</td>\n",
       "      <td>before</td>\n",
       "    </tr>\n",
       "    <tr>\n",
       "      <td>49996</td>\n",
       "      <td>private static void readTimestampColumn(org.apache.flink.types.Row[] rows, int fieldIdx, org.apache.flink.orc.TimestampColumnVector vector) {\\n}</td>\n",
       "      <td>before</td>\n",
       "    </tr>\n",
       "    <tr>\n",
       "      <td>49997</td>\n",
       "      <td>@java.lang.Override\\npublic void run() {\\n    sendToServer(Data);\\n}</td>\n",
       "      <td>before</td>\n",
       "    </tr>\n",
       "    <tr>\n",
       "      <td>49998</td>\n",
       "      <td>com.android.server.am.ActivityRecord findTaskLocked(com.android.server.am.ActivityRecord r) {\\n    if (com.android.server.am.ActivityManagerService.DEBUG_TASKS)\\n        android.util.Slog.d(com.android.server.am.ActivityManagerService.TAG, (\"Looking for task of \" + r));\\n    \\n    com.android.in...</td>\n",
       "      <td>before</td>\n",
       "    </tr>\n",
       "    <tr>\n",
       "      <td>49999</td>\n",
       "      <td>@java.lang.Override\\npublic void run() {\\n    getLogger().LOGd(nl.dobots.bluenet.ble.extended.BleExt.TAG, \"Reading TrackedDevices value ...\");\\n    connectAndExecute(address, new nl.dobots.bluenet.ble.extended.callbacks.IExecuteCallback() {\\n        @java.lang.Override\\n        public void execu...</td>\n",
       "      <td>before</td>\n",
       "    </tr>\n",
       "  </tbody>\n",
       "</table>\n",
       "</div>"
      ],
      "text/plain": [
       "                                                                                                                                                                                                                                                                                                             query  \\\n",
       "49995  @java.lang.Override\\npublic void onMapReady(final com.google.android.gms.maps.GoogleMap map) {\\n    mMap = map;\\n    mMap.getUiSettings().setMapToolbarEnabled(false);\\n    org.rudirect.android.data.model.BusStop stop = busStopsActivity.getBusStops()[0];\\n    mMap.animateCamera(com.google.android...   \n",
       "49996                                                                                                                                                             private static void readTimestampColumn(org.apache.flink.types.Row[] rows, int fieldIdx, org.apache.flink.orc.TimestampColumnVector vector) {\\n}   \n",
       "49997                                                                                                                                                                                                                                         @java.lang.Override\\npublic void run() {\\n    sendToServer(Data);\\n}   \n",
       "49998  com.android.server.am.ActivityRecord findTaskLocked(com.android.server.am.ActivityRecord r) {\\n    if (com.android.server.am.ActivityManagerService.DEBUG_TASKS)\\n        android.util.Slog.d(com.android.server.am.ActivityManagerService.TAG, (\"Looking for task of \" + r));\\n    \\n    com.android.in...   \n",
       "49999  @java.lang.Override\\npublic void run() {\\n    getLogger().LOGd(nl.dobots.bluenet.ble.extended.BleExt.TAG, \"Reading TrackedDevices value ...\");\\n    connectAndExecute(address, new nl.dobots.bluenet.ble.extended.callbacks.IExecuteCallback() {\\n        @java.lang.Override\\n        public void execu...   \n",
       "\n",
       "          res  \n",
       "49995  before  \n",
       "49996  before  \n",
       "49997  before  \n",
       "49998  before  \n",
       "49999  before  "
      ]
     },
     "execution_count": 9,
     "metadata": {},
     "output_type": "execute_result"
    }
   ],
   "source": [
    "df = pd.read_csv(data_path/\"buggy/sm_train.csv\", names = [\"query\", \"res\"])\n",
    "df.tail()"
   ]
  },
  {
   "cell_type": "code",
   "execution_count": 10,
   "metadata": {},
   "outputs": [
    {
     "data": {
      "text/html": [
       "<div>\n",
       "<style scoped>\n",
       "    .dataframe tbody tr th:only-of-type {\n",
       "        vertical-align: middle;\n",
       "    }\n",
       "\n",
       "    .dataframe tbody tr th {\n",
       "        vertical-align: top;\n",
       "    }\n",
       "\n",
       "    .dataframe thead th {\n",
       "        text-align: right;\n",
       "    }\n",
       "</style>\n",
       "<table border=\"1\" class=\"dataframe\">\n",
       "  <thead>\n",
       "    <tr style=\"text-align: right;\">\n",
       "      <th></th>\n",
       "      <th>query</th>\n",
       "      <th>res</th>\n",
       "    </tr>\n",
       "  </thead>\n",
       "  <tbody>\n",
       "    <tr>\n",
       "      <td>0</td>\n",
       "      <td>public void returnResults(java.util.ArrayList&lt;com.example.pitur.newtrackommender.TrackInfo&gt; queryResults) {\\n    if (queryResults != null) {\\n        this.queryResults = queryResults;\\n        adapter = new com.example.pitur.newtrackommender.TrackInfoAdapter(this, R.layout.list_item, queryResult...</td>\n",
       "      <td>no</td>\n",
       "    </tr>\n",
       "    <tr>\n",
       "      <td>1</td>\n",
       "      <td>public static synchronized JSONObject handlingExchange(java.util.ArrayList&lt;java.lang.String&gt; serverList, java.util.ArrayList&lt;java.lang.String&gt; serverList_exchange, java.util.ArrayList&lt;java.lang.String&gt; hostnameList_exchange, java.util.ArrayList&lt;java.lang.String&gt; portList_exchange) {\\n    JSONObj...</td>\n",
       "      <td>no</td>\n",
       "    </tr>\n",
       "    <tr>\n",
       "      <td>2</td>\n",
       "      <td>public static int convertTime(int time, int duration) {\\n    int temp = 0;\\n    if (((time % 100) + duration) &gt; 60) {\\n        temp = duration - 60;\\n        time += 100 + temp;\\n    }else\\n        if (((time % 100) + duration) == 60)\\n            time = ((time + 100) / 100) * 100;\\n        else...</td>\n",
       "      <td>no</td>\n",
       "    </tr>\n",
       "    <tr>\n",
       "      <td>3</td>\n",
       "      <td>public static float convertToDP(@android.support.annotation.NonNull\\nfinal android.content.Context c, final float px) {\\n    final android.util.DisplayMetrics m = c.getResources().getDisplayMetrics();\\n    final float dp = android.util.TypedValue.applyDimension(TypedValue.COMPLEX_UNIT_DIP, px, m...</td>\n",
       "      <td>no</td>\n",
       "    </tr>\n",
       "    <tr>\n",
       "      <td>4</td>\n",
       "      <td>@org.junit.Test\\npublic void testWorkflowPauseResume() throws java.lang.Exception {\\n    java.lang.String pauseResumeWorkflowApp = \"PauseResumeWorkflowApp\";\\n    java.lang.String pauseResumeWorkflow = \"PauseResumeWorkflow\";\\n    java.io.File firstSimpleActionFile = new java.io.File(((tmpFolder.n...</td>\n",
       "      <td>no</td>\n",
       "    </tr>\n",
       "  </tbody>\n",
       "</table>\n",
       "</div>"
      ],
      "text/plain": [
       "                                                                                                                                                                                                                                                                                                         query  \\\n",
       "0  public void returnResults(java.util.ArrayList<com.example.pitur.newtrackommender.TrackInfo> queryResults) {\\n    if (queryResults != null) {\\n        this.queryResults = queryResults;\\n        adapter = new com.example.pitur.newtrackommender.TrackInfoAdapter(this, R.layout.list_item, queryResult...   \n",
       "1  public static synchronized JSONObject handlingExchange(java.util.ArrayList<java.lang.String> serverList, java.util.ArrayList<java.lang.String> serverList_exchange, java.util.ArrayList<java.lang.String> hostnameList_exchange, java.util.ArrayList<java.lang.String> portList_exchange) {\\n    JSONObj...   \n",
       "2  public static int convertTime(int time, int duration) {\\n    int temp = 0;\\n    if (((time % 100) + duration) > 60) {\\n        temp = duration - 60;\\n        time += 100 + temp;\\n    }else\\n        if (((time % 100) + duration) == 60)\\n            time = ((time + 100) / 100) * 100;\\n        else...   \n",
       "3  public static float convertToDP(@android.support.annotation.NonNull\\nfinal android.content.Context c, final float px) {\\n    final android.util.DisplayMetrics m = c.getResources().getDisplayMetrics();\\n    final float dp = android.util.TypedValue.applyDimension(TypedValue.COMPLEX_UNIT_DIP, px, m...   \n",
       "4  @org.junit.Test\\npublic void testWorkflowPauseResume() throws java.lang.Exception {\\n    java.lang.String pauseResumeWorkflowApp = \"PauseResumeWorkflowApp\";\\n    java.lang.String pauseResumeWorkflow = \"PauseResumeWorkflow\";\\n    java.io.File firstSimpleActionFile = new java.io.File(((tmpFolder.n...   \n",
       "\n",
       "  res  \n",
       "0  no  \n",
       "1  no  \n",
       "2  no  \n",
       "3  no  \n",
       "4  no  "
      ]
     },
     "execution_count": 10,
     "metadata": {},
     "output_type": "execute_result"
    }
   ],
   "source": [
    "df[\"res\"] = df[\"res\"].map({\"after\": \"no\", \"before\": \"yes\"})\n",
    "df.head()"
   ]
  },
  {
   "cell_type": "code",
   "execution_count": 11,
   "metadata": {},
   "outputs": [
    {
     "data": {
      "text/html": [
       "<div>\n",
       "<style scoped>\n",
       "    .dataframe tbody tr th:only-of-type {\n",
       "        vertical-align: middle;\n",
       "    }\n",
       "\n",
       "    .dataframe tbody tr th {\n",
       "        vertical-align: top;\n",
       "    }\n",
       "\n",
       "    .dataframe thead th {\n",
       "        text-align: right;\n",
       "    }\n",
       "</style>\n",
       "<table border=\"1\" class=\"dataframe\">\n",
       "  <thead>\n",
       "    <tr style=\"text-align: right;\">\n",
       "      <th></th>\n",
       "      <th>query</th>\n",
       "      <th>res</th>\n",
       "    </tr>\n",
       "  </thead>\n",
       "  <tbody>\n",
       "    <tr>\n",
       "      <td>49995</td>\n",
       "      <td>@java.lang.Override\\npublic void onMapReady(final com.google.android.gms.maps.GoogleMap map) {\\n    mMap = map;\\n    mMap.getUiSettings().setMapToolbarEnabled(false);\\n    org.rudirect.android.data.model.BusStop stop = busStopsActivity.getBusStops()[0];\\n    mMap.animateCamera(com.google.android...</td>\n",
       "      <td>yes</td>\n",
       "    </tr>\n",
       "    <tr>\n",
       "      <td>49996</td>\n",
       "      <td>private static void readTimestampColumn(org.apache.flink.types.Row[] rows, int fieldIdx, org.apache.flink.orc.TimestampColumnVector vector) {\\n}</td>\n",
       "      <td>yes</td>\n",
       "    </tr>\n",
       "    <tr>\n",
       "      <td>49997</td>\n",
       "      <td>@java.lang.Override\\npublic void run() {\\n    sendToServer(Data);\\n}</td>\n",
       "      <td>yes</td>\n",
       "    </tr>\n",
       "    <tr>\n",
       "      <td>49998</td>\n",
       "      <td>com.android.server.am.ActivityRecord findTaskLocked(com.android.server.am.ActivityRecord r) {\\n    if (com.android.server.am.ActivityManagerService.DEBUG_TASKS)\\n        android.util.Slog.d(com.android.server.am.ActivityManagerService.TAG, (\"Looking for task of \" + r));\\n    \\n    com.android.in...</td>\n",
       "      <td>yes</td>\n",
       "    </tr>\n",
       "    <tr>\n",
       "      <td>49999</td>\n",
       "      <td>@java.lang.Override\\npublic void run() {\\n    getLogger().LOGd(nl.dobots.bluenet.ble.extended.BleExt.TAG, \"Reading TrackedDevices value ...\");\\n    connectAndExecute(address, new nl.dobots.bluenet.ble.extended.callbacks.IExecuteCallback() {\\n        @java.lang.Override\\n        public void execu...</td>\n",
       "      <td>yes</td>\n",
       "    </tr>\n",
       "  </tbody>\n",
       "</table>\n",
       "</div>"
      ],
      "text/plain": [
       "                                                                                                                                                                                                                                                                                                             query  \\\n",
       "49995  @java.lang.Override\\npublic void onMapReady(final com.google.android.gms.maps.GoogleMap map) {\\n    mMap = map;\\n    mMap.getUiSettings().setMapToolbarEnabled(false);\\n    org.rudirect.android.data.model.BusStop stop = busStopsActivity.getBusStops()[0];\\n    mMap.animateCamera(com.google.android...   \n",
       "49996                                                                                                                                                             private static void readTimestampColumn(org.apache.flink.types.Row[] rows, int fieldIdx, org.apache.flink.orc.TimestampColumnVector vector) {\\n}   \n",
       "49997                                                                                                                                                                                                                                         @java.lang.Override\\npublic void run() {\\n    sendToServer(Data);\\n}   \n",
       "49998  com.android.server.am.ActivityRecord findTaskLocked(com.android.server.am.ActivityRecord r) {\\n    if (com.android.server.am.ActivityManagerService.DEBUG_TASKS)\\n        android.util.Slog.d(com.android.server.am.ActivityManagerService.TAG, (\"Looking for task of \" + r));\\n    \\n    com.android.in...   \n",
       "49999  @java.lang.Override\\npublic void run() {\\n    getLogger().LOGd(nl.dobots.bluenet.ble.extended.BleExt.TAG, \"Reading TrackedDevices value ...\");\\n    connectAndExecute(address, new nl.dobots.bluenet.ble.extended.callbacks.IExecuteCallback() {\\n        @java.lang.Override\\n        public void execu...   \n",
       "\n",
       "       res  \n",
       "49995  yes  \n",
       "49996  yes  \n",
       "49997  yes  \n",
       "49998  yes  \n",
       "49999  yes  "
      ]
     },
     "execution_count": 11,
     "metadata": {},
     "output_type": "execute_result"
    }
   ],
   "source": [
    "df.tail()"
   ]
  },
  {
   "cell_type": "code",
   "execution_count": 12,
   "metadata": {},
   "outputs": [],
   "source": [
    "df.to_csv(data_path/\"buggy/sm_trn.csv\", index=False)"
   ]
  },
  {
   "cell_type": "code",
   "execution_count": 13,
   "metadata": {},
   "outputs": [],
   "source": [
    "df = pd.read_csv(data_path/\"buggy/sm_valid.csv\", names = [\"query\", \"res\"])\n",
    "df[\"res\"] = df[\"res\"].map({\"after\": \"no\", \"before\": \"yes\"})\n",
    "df.to_csv(data_path/\"buggy/sm_val.csv\", index=False)"
   ]
  },
  {
   "cell_type": "code",
   "execution_count": 14,
   "metadata": {},
   "outputs": [],
   "source": [
    "df = pd.read_csv(data_path/\"buggy/sm_test.csv\", names = [\"query\", \"res\"])\n",
    "df[\"res\"] = df[\"res\"].map({\"after\": \"no\", \"before\": \"yes\"})\n",
    "df.to_csv(data_path/\"buggy/sm_tst.csv\", index=False)"
   ]
  },
  {
   "cell_type": "code",
   "execution_count": 15,
   "metadata": {},
   "outputs": [],
   "source": [
    "df = pd.read_csv(data_path/\"buggy/valid.csv\", names = [\"query\", \"res\"])\n",
    "df[\"res\"] = df[\"res\"].map({\"after\": \"no\", \"before\": \"yes\"})\n",
    "df.to_csv(data_path/\"buggy/val.csv\", index=False)"
   ]
  },
  {
   "cell_type": "code",
   "execution_count": 16,
   "metadata": {},
   "outputs": [],
   "source": [
    "df = pd.read_csv(data_path/\"buggy/test.csv\", names = [\"query\", \"res\"])\n",
    "df[\"res\"] = df[\"res\"].map({\"after\": \"no\", \"before\": \"yes\"})\n",
    "df.to_csv(data_path/\"buggy/tst.csv\", index=False)"
   ]
  },
  {
   "cell_type": "code",
   "execution_count": 17,
   "metadata": {},
   "outputs": [],
   "source": [
    "df = pd.read_csv(data_path/\"buggy/train.csv\", names = [\"query\", \"res\"])\n",
    "df[\"res\"] = df[\"res\"].map({\"after\": \"no\", \"before\": \"yes\"})\n",
    "df.to_csv(data_path/\"buggy/trn.csv\", index=False)"
   ]
  },
  {
   "cell_type": "code",
   "execution_count": 19,
   "metadata": {},
   "outputs": [
    {
     "data": {
      "text/html": [
       "<div>\n",
       "<style scoped>\n",
       "    .dataframe tbody tr th:only-of-type {\n",
       "        vertical-align: middle;\n",
       "    }\n",
       "\n",
       "    .dataframe tbody tr th {\n",
       "        vertical-align: top;\n",
       "    }\n",
       "\n",
       "    .dataframe thead th {\n",
       "        text-align: right;\n",
       "    }\n",
       "</style>\n",
       "<table border=\"1\" class=\"dataframe\">\n",
       "  <thead>\n",
       "    <tr style=\"text-align: right;\">\n",
       "      <th></th>\n",
       "      <th>query</th>\n",
       "      <th>res</th>\n",
       "    </tr>\n",
       "  </thead>\n",
       "  <tbody>\n",
       "    <tr>\n",
       "      <td>0</td>\n",
       "      <td>public void returnResults(java.util.ArrayList&lt;com.example.pitur.newtrackommender.TrackInfo&gt; queryResults) {\\n    if (queryResults != null) {\\n        this.queryResults = queryResults;\\n        adapter = new com.example.pitur.newtrackommender.TrackInfoAdapter(this, R.layout.list_item, queryResult...</td>\n",
       "      <td>no</td>\n",
       "    </tr>\n",
       "    <tr>\n",
       "      <td>1</td>\n",
       "      <td>public static synchronized JSONObject handlingExchange(java.util.ArrayList&lt;java.lang.String&gt; serverList, java.util.ArrayList&lt;java.lang.String&gt; serverList_exchange, java.util.ArrayList&lt;java.lang.String&gt; hostnameList_exchange, java.util.ArrayList&lt;java.lang.String&gt; portList_exchange) {\\n    JSONObj...</td>\n",
       "      <td>no</td>\n",
       "    </tr>\n",
       "    <tr>\n",
       "      <td>2</td>\n",
       "      <td>public static int convertTime(int time, int duration) {\\n    int temp = 0;\\n    if (((time % 100) + duration) &gt; 60) {\\n        temp = duration - 60;\\n        time += 100 + temp;\\n    }else\\n        if (((time % 100) + duration) == 60)\\n            time = ((time + 100) / 100) * 100;\\n        else...</td>\n",
       "      <td>no</td>\n",
       "    </tr>\n",
       "    <tr>\n",
       "      <td>3</td>\n",
       "      <td>public static float convertToDP(@android.support.annotation.NonNull\\nfinal android.content.Context c, final float px) {\\n    final android.util.DisplayMetrics m = c.getResources().getDisplayMetrics();\\n    final float dp = android.util.TypedValue.applyDimension(TypedValue.COMPLEX_UNIT_DIP, px, m...</td>\n",
       "      <td>no</td>\n",
       "    </tr>\n",
       "    <tr>\n",
       "      <td>4</td>\n",
       "      <td>@org.junit.Test\\npublic void testWorkflowPauseResume() throws java.lang.Exception {\\n    java.lang.String pauseResumeWorkflowApp = \"PauseResumeWorkflowApp\";\\n    java.lang.String pauseResumeWorkflow = \"PauseResumeWorkflow\";\\n    java.io.File firstSimpleActionFile = new java.io.File(((tmpFolder.n...</td>\n",
       "      <td>no</td>\n",
       "    </tr>\n",
       "  </tbody>\n",
       "</table>\n",
       "</div>"
      ],
      "text/plain": [
       "                                                                                                                                                                                                                                                                                                         query  \\\n",
       "0  public void returnResults(java.util.ArrayList<com.example.pitur.newtrackommender.TrackInfo> queryResults) {\\n    if (queryResults != null) {\\n        this.queryResults = queryResults;\\n        adapter = new com.example.pitur.newtrackommender.TrackInfoAdapter(this, R.layout.list_item, queryResult...   \n",
       "1  public static synchronized JSONObject handlingExchange(java.util.ArrayList<java.lang.String> serverList, java.util.ArrayList<java.lang.String> serverList_exchange, java.util.ArrayList<java.lang.String> hostnameList_exchange, java.util.ArrayList<java.lang.String> portList_exchange) {\\n    JSONObj...   \n",
       "2  public static int convertTime(int time, int duration) {\\n    int temp = 0;\\n    if (((time % 100) + duration) > 60) {\\n        temp = duration - 60;\\n        time += 100 + temp;\\n    }else\\n        if (((time % 100) + duration) == 60)\\n            time = ((time + 100) / 100) * 100;\\n        else...   \n",
       "3  public static float convertToDP(@android.support.annotation.NonNull\\nfinal android.content.Context c, final float px) {\\n    final android.util.DisplayMetrics m = c.getResources().getDisplayMetrics();\\n    final float dp = android.util.TypedValue.applyDimension(TypedValue.COMPLEX_UNIT_DIP, px, m...   \n",
       "4  @org.junit.Test\\npublic void testWorkflowPauseResume() throws java.lang.Exception {\\n    java.lang.String pauseResumeWorkflowApp = \"PauseResumeWorkflowApp\";\\n    java.lang.String pauseResumeWorkflow = \"PauseResumeWorkflow\";\\n    java.io.File firstSimpleActionFile = new java.io.File(((tmpFolder.n...   \n",
       "\n",
       "  res  \n",
       "0  no  \n",
       "1  no  \n",
       "2  no  \n",
       "3  no  \n",
       "4  no  "
      ]
     },
     "execution_count": 19,
     "metadata": {},
     "output_type": "execute_result"
    }
   ],
   "source": [
    "df = pd.read_csv(data_path/\"buggy/trn.csv\")\n",
    "df.head()"
   ]
  },
  {
   "cell_type": "code",
   "execution_count": null,
   "metadata": {},
   "outputs": [],
   "source": []
  }
 ],
 "metadata": {
  "kernelspec": {
   "display_name": "Python 3",
   "language": "python",
   "name": "python3"
  },
  "language_info": {
   "codemirror_mode": {
    "name": "ipython",
    "version": 3
   },
   "file_extension": ".py",
   "mimetype": "text/x-python",
   "name": "python",
   "nbconvert_exporter": "python",
   "pygments_lexer": "ipython3",
   "version": "3.6.8"
  }
 },
 "nbformat": 4,
 "nbformat_minor": 2
}
