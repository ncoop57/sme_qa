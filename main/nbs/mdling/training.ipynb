{
 "cells": [
  {
   "cell_type": "markdown",
   "metadata": {},
   "source": [
    "# Easily export jupyter cells to python module\n",
    "https://github.com/fastai/course-v3/blob/master/nbs/dl2/notebook2script.py"
   ]
  },
  {
   "cell_type": "code",
   "execution_count": 4,
   "metadata": {},
   "outputs": [
    {
     "name": "stdout",
     "output_type": "stream",
     "text": [
      "Converted proc.ipynb to exp/nb_proc.py\r\n"
     ]
    }
   ],
   "source": [
    "! python /tf/main/src/scripts/notebook2script.py training.ipynb"
   ]
  },
  {
   "cell_type": "code",
   "execution_count": 2,
   "metadata": {},
   "outputs": [],
   "source": [
    "#export\n",
    "import sys\n",
    "\n",
    "sys.path.append(\"../..\")\n",
    "from src.prep.exp.nb_prep import *\n",
    "from src.proc.exp.nb_proc import *\n",
    "from fastai.text import *\n",
    "\n",
    "import pandas as pd"
   ]
  },
  {
   "cell_type": "code",
   "execution_count": 3,
   "metadata": {},
   "outputs": [],
   "source": [
    "#export\n",
    "import warnings\n",
    "warnings.filterwarnings('ignore')"
   ]
  },
  {
   "cell_type": "code",
   "execution_count": 4,
   "metadata": {},
   "outputs": [],
   "source": [
    "TextList.from_df??"
   ]
  },
  {
   "cell_type": "code",
   "execution_count": 30,
   "metadata": {},
   "outputs": [],
   "source": [
    "data_path = Path(\"/tf/data/datasets\")\n",
    "so_df = pd.read_csv(data_path/\"so_posts/56942_10-3-19_formated.csv\")"
   ]
  },
  {
   "cell_type": "code",
   "execution_count": 31,
   "metadata": {},
   "outputs": [
    {
     "data": {
      "text/plain": [
       "56942"
      ]
     },
     "execution_count": 31,
     "metadata": {},
     "output_type": "execute_result"
    }
   ],
   "source": [
    "len(so_df)"
   ]
  },
  {
   "cell_type": "code",
   "execution_count": 21,
   "metadata": {},
   "outputs": [
    {
     "data": {
      "text/plain": [
       "'I have a Map that will hold one and only one Entry. I know it for sure since it holds the result of executing a query like this:\\n\\nSELECT MAX(COLUMN) FROM SOMETABLE \\n\\n\\nIn the worst case, it should return null.\\nNow I\\'m trying to get that result. I\\'m facing two approaches, but I think there should be a better solution.\\n\\nMy Test code:\\n\\nHashMap&lt;String, Object&gt; result = new HashMap&lt;String, Object&gt;();\\nresult.put(\"maxColumn\", new Integer(1));\\n\\n\\nSolution 1:\\n\\nInteger maxValue = (Integer) result.get(result.keySet().iterator().next());\\n\\n\\nSolution 2:\\n\\nInteger maxValue = (Integer) result.values().toArray()[0];\\n\\n\\nIs there a better way to do this? Which one do you find more declarative / less expensive?\\n\\nEdit: I\\'m not allowed to use any other data structure because Map&lt;String, Object&gt; is the result type returned from the persistence API I\\'m using.\\n\\n\\nhow to elegantly get the only element from a Map'"
      ]
     },
     "execution_count": 21,
     "metadata": {},
     "output_type": "execute_result"
    }
   ],
   "source": [
    "so_df[\"query\"][0]"
   ]
  },
  {
   "cell_type": "code",
   "execution_count": 22,
   "metadata": {},
   "outputs": [],
   "source": [
    "def merge_cols(df):\n",
    "    merged = ['<qa>'.join(x) for x in zip(df[\"query\"], df[\"res\"])]\n",
    "    new_df = pd.DataFrame({\"merge\": merged})\n",
    "    \n",
    "    return new_df"
   ]
  },
  {
   "cell_type": "code",
   "execution_count": 29,
   "metadata": {},
   "outputs": [],
   "source": [
    "TextList.from_df??"
   ]
  },
  {
   "cell_type": "code",
   "execution_count": 33,
   "metadata": {},
   "outputs": [],
   "source": [
    "def gen_lm_data(df, data_path):\n",
    "    df = merge_cols(df)\n",
    "    data = (TextList\n",
    "            .from_df(df, data_path, \n",
    "                     processor = SPProcessor(\n",
    "                         sp_model = data_path/\"merged/model.model\",\n",
    "                         sp_vocab = data_path/\"merged/model.vocab\"\n",
    "                     ))\n",
    "            .split_by_rand_pct()\n",
    "            .label_for_lm()\n",
    "            .databunch(bs=128)\n",
    "           )\n",
    "    \n",
    "    return data\n",
    "    \n",
    "#     data_lm = (TextList.from_folder(path, extensions={\".java\"},\n",
    "#                                 processor = [OpenFileProcessor(),\n",
    "#                                              SPProcessor(lang=\"en\")])\n",
    "#            #Inputs: all the text files in path\n",
    "#             .filter_by_folder(include=['sm_train', 'sm_valid', 'sm_test']) \n",
    "# #            #We may have other temp folders that contain text files so we only keep what's in train and test\n",
    "#             .split_by_folder(valid='sm_valid', train='sm_train')\n",
    "#            #We randomly split and keep 10% (10,000 reviews) for validation\n",
    "#             .label_for_lm()           \n",
    "#            #We want to do a language model so we label accordingly\n",
    "#             .databunch(bs=bs))"
   ]
  },
  {
   "cell_type": "code",
   "execution_count": null,
   "metadata": {},
   "outputs": [
    {
     "data": {
      "text/html": [
       "\n",
       "    <div>\n",
       "        <style>\n",
       "            /* Turns off some styling */\n",
       "            progress {\n",
       "                /* gets rid of default border in Firefox and Opera. */\n",
       "                border: none;\n",
       "                /* Needs to be in here for Safari polyfill so background images work as expected. */\n",
       "                background-size: auto;\n",
       "            }\n",
       "            .progress-bar-interrupted, .progress-bar-interrupted::-webkit-progress-bar {\n",
       "                background: #F44336;\n",
       "            }\n",
       "        </style>\n",
       "      <progress value='12059' class='' max='45554', style='width:300px; height:20px; vertical-align: middle;'></progress>\n",
       "      26.47% [12059/45554 00:05<00:14]\n",
       "    </div>\n",
       "    "
      ],
      "text/plain": [
       "<IPython.core.display.HTML object>"
      ]
     },
     "metadata": {},
     "output_type": "display_data"
    }
   ],
   "source": [
    "new_data = gen_lm_data(so_df, data_path)"
   ]
  },
  {
   "cell_type": "code",
   "execution_count": null,
   "metadata": {},
   "outputs": [],
   "source": [
    "new_data.show_batch()"
   ]
  },
  {
   "cell_type": "code",
   "execution_count": 23,
   "metadata": {},
   "outputs": [
    {
     "data": {
      "text/plain": [
       "'I have a Map that will hold one and only one Entry. I know it for sure since it holds the result of executing a query like this:\\n\\nSELECT MAX(COLUMN) FROM SOMETABLE \\n\\n\\nIn the worst case, it should return null.\\nNow I\\'m trying to get that result. I\\'m facing two approaches, but I think there should be a better solution.\\n\\nMy Test code:\\n\\nHashMap&lt;String, Object&gt; result = new HashMap&lt;String, Object&gt;();\\nresult.put(\"maxColumn\", new Integer(1));\\n\\n\\nSolution 1:\\n\\nInteger maxValue = (Integer) result.get(result.keySet().iterator().next());\\n\\n\\nSolution 2:\\n\\nInteger maxValue = (Integer) result.values().toArray()[0];\\n\\n\\nIs there a better way to do this? Which one do you find more declarative / less expensive?\\n\\nEdit: I\\'m not allowed to use any other data structure because Map&lt;String, Object&gt; is the result type returned from the persistence API I\\'m using.\\n\\n\\nhow to elegantly get the only element from a Map<qa>If you are absolutely sure there is one and only one element:\\n\\nInteger maxValue = map.values().iterator().next()\\n\\n\\nor\\n\\nList&lt;Integer&gt; integerList = new ArrayList&lt;Integer&gt;(map.values());\\nInteger maxValue = integerList.get(0);\\n\\n\\nor \\n\\nfor (Integer maxValue : map.values) {\\n    doStuffWithMaxValue(maxValue);           \\n}\\n\\n\\nCasting is not such a good idea.\\n'"
      ]
     },
     "execution_count": 23,
     "metadata": {},
     "output_type": "execute_result"
    }
   ],
   "source": [
    "merge_cols(so_df)[\"merge\"][0]"
   ]
  },
  {
   "cell_type": "code",
   "execution_count": null,
   "metadata": {},
   "outputs": [],
   "source": []
  }
 ],
 "metadata": {
  "kernelspec": {
   "display_name": "Python 3",
   "language": "python",
   "name": "python3"
  },
  "language_info": {
   "codemirror_mode": {
    "name": "ipython",
    "version": 3
   },
   "file_extension": ".py",
   "mimetype": "text/x-python",
   "name": "python",
   "nbconvert_exporter": "python",
   "pygments_lexer": "ipython3",
   "version": "3.6.8"
  }
 },
 "nbformat": 4,
 "nbformat_minor": 2
}
