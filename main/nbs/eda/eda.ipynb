{
 "cells": [
  {
   "cell_type": "code",
   "execution_count": 1,
   "metadata": {},
   "outputs": [],
   "source": [
    "%matplotlib inline"
   ]
  },
  {
   "cell_type": "code",
   "execution_count": null,
   "metadata": {
    "scrolled": true
   },
   "outputs": [],
   "source": [
    "! pip install seaborn"
   ]
  },
  {
   "cell_type": "code",
   "execution_count": 2,
   "metadata": {
    "scrolled": true
   },
   "outputs": [],
   "source": [
    "# imports\n",
    "\n",
    "import sys\n",
    "import statistics\n",
    "\n",
    "import matplotlib.pyplot as plt\n",
    "import numpy as np\n",
    "\n",
    "from collections import Counter\n",
    "\n",
    "sys.path.append(\"../..\")\n",
    "from src.prep.exp.nb_prep import *\n",
    "from src.proc.exp.nb_proc import *"
   ]
  },
  {
   "cell_type": "code",
   "execution_count": 3,
   "metadata": {},
   "outputs": [],
   "source": [
    "data_path = Path(\"/tf/data/datasets\")"
   ]
  },
  {
   "cell_type": "code",
   "execution_count": 4,
   "metadata": {},
   "outputs": [],
   "source": [
    "sp = SentencePiece(data_path/\"merged/model.model\")"
   ]
  },
  {
   "cell_type": "code",
   "execution_count": 5,
   "metadata": {},
   "outputs": [
    {
     "data": {
      "text/plain": [
       "(['▁this',\n",
       "  '▁is',\n",
       "  '▁a',\n",
       "  '▁test',\n",
       "  ':',\n",
       "  '▁here',\n",
       "  '▁is',\n",
       "  '▁some',\n",
       "  '▁code',\n",
       "  '▁class',\n",
       "  '▁Java',\n",
       "  'Class',\n",
       "  '▁{}'],\n",
       " 13)"
      ]
     },
     "execution_count": 5,
     "metadata": {},
     "output_type": "execute_result"
    }
   ],
   "source": [
    "toks = sp.tokenize(\"this is a test: here is some code class JavaClass {}\")\n",
    "toks, len(toks)"
   ]
  },
  {
   "cell_type": "code",
   "execution_count": 6,
   "metadata": {},
   "outputs": [],
   "source": [
    "#export\n",
    "def get_toks(data, sp):\n",
    "    return list(map(sp.tokenize, data))"
   ]
  },
  {
   "cell_type": "code",
   "execution_count": 7,
   "metadata": {},
   "outputs": [],
   "source": [
    "#export\n",
    "def get_stats(toks):\n",
    "    lens = list(map(len, toks))\n",
    "    return (\n",
    "        statistics.median(lens),\n",
    "        statistics.mean(lens),\n",
    "        statistics.stdev(lens),\n",
    "        min(lens),\n",
    "        max(lens),\n",
    "        np.percentile(lens, [25, 50, 75, 90]),\n",
    "        lens\n",
    "    )"
   ]
  },
  {
   "cell_type": "code",
   "execution_count": 19,
   "metadata": {},
   "outputs": [],
   "source": [
    "#export\n",
    "def plot_counts(counts, top_k = 30):\n",
    "    labels, values = zip(*counts.most_common()[:top_k])\n",
    "\n",
    "    indexes = np.arange(len(labels))\n",
    "    width = 1\n",
    "    plt.figure(num=None, figsize=(22, 4), dpi=60, facecolor='w', edgecolor='k')\n",
    "    plt.bar(indexes, values, width)\n",
    "    plt.xticks(indexes + width * 0.5, labels)\n",
    "    plt.show()"
   ]
  },
  {
   "cell_type": "code",
   "execution_count": 13,
   "metadata": {},
   "outputs": [],
   "source": [
    "#export\n",
    "def plot_hist(lens, n_bins = 50):\n",
    "    n, bins, patches = plt.hist(lens, n_bins, facecolor='blue', alpha=0.5)\n",
    "    plt.show()"
   ]
  },
  {
   "cell_type": "code",
   "execution_count": 14,
   "metadata": {},
   "outputs": [],
   "source": [
    "#export\n",
    "def eda(df, sp):\n",
    "    \n",
    "    # Tokenize DataFrame\n",
    "    q_toks = get_toks(list(df[\"query\"]), sp)\n",
    "    r_toks = get_toks(list(df[\"res\"]), sp)\n",
    "    flatten = lambda l: [item for sublist in l for item in sublist]\n",
    "    \n",
    "    flatten_q_toks = flatten(q_toks)\n",
    "    flatten_r_toks = flatten(r_toks)\n",
    "    \n",
    "    median, μ, σ, mn, mx, perc, lens = get_stats(q_toks)\n",
    "    print(\"Query:\")\n",
    "    print(\"Percentiles:\", perc)\n",
    "    print(f\"Median: {median}\\nMean: {μ}\\nStDev: {σ}\\nMin: {mn}\\nMax: {mx}\")\n",
    "    \n",
    "    plot_counts(Counter(flatten_q_toks))\n",
    "    plot_hist(lens)\n",
    "    \n",
    "    median, μ, σ, mn, mx, perc, lens = get_stats(r_toks)\n",
    "    print(\"Response:\")\n",
    "    print(\"Percentiles:\", perc)\n",
    "    print(f\"Median: {median}\\nMean: {μ}\\nStDev: {σ}\\nMin: {mn}\\nMax: {mx}\")\n",
    "    \n",
    "    plot_counts(Counter(flatten_r_toks))\n",
    "    plot_hist(lens)"
   ]
  },
  {
   "cell_type": "code",
   "execution_count": 5,
   "metadata": {},
   "outputs": [
    {
     "data": {
      "text/html": [
       "<div>\n",
       "<style scoped>\n",
       "    .dataframe tbody tr th:only-of-type {\n",
       "        vertical-align: middle;\n",
       "    }\n",
       "\n",
       "    .dataframe tbody tr th {\n",
       "        vertical-align: top;\n",
       "    }\n",
       "\n",
       "    .dataframe thead th {\n",
       "        text-align: right;\n",
       "    }\n",
       "</style>\n",
       "<table border=\"1\" class=\"dataframe\">\n",
       "  <thead>\n",
       "    <tr style=\"text-align: right;\">\n",
       "      <th></th>\n",
       "      <th>query</th>\n",
       "      <th>res</th>\n",
       "    </tr>\n",
       "  </thead>\n",
       "  <tbody>\n",
       "    <tr>\n",
       "      <td>0</td>\n",
       "      <td>protected final void fastPathOrderedEmit(U val...</td>\n",
       "      <td>Makes sure the fast-path emits in order.\\n@par...</td>\n",
       "    </tr>\n",
       "    <tr>\n",
       "      <td>1</td>\n",
       "      <td>@CheckReturnValue\\n    @NonNull\\n    @Schedule...</td>\n",
       "      <td>Mirrors the one ObservableSource in an Iterabl...</td>\n",
       "    </tr>\n",
       "    <tr>\n",
       "      <td>2</td>\n",
       "      <td>@SuppressWarnings(\"unchecked\")\\n    @CheckRetu...</td>\n",
       "      <td>Mirrors the one ObservableSource in an array o...</td>\n",
       "    </tr>\n",
       "    <tr>\n",
       "      <td>3</td>\n",
       "      <td>@SuppressWarnings({ \"unchecked\", \"rawtypes\" })...</td>\n",
       "      <td>Concatenates elements of each ObservableSource...</td>\n",
       "    </tr>\n",
       "    <tr>\n",
       "      <td>4</td>\n",
       "      <td>@SuppressWarnings({ \"unchecked\", \"rawtypes\" })...</td>\n",
       "      <td>Returns an Observable that emits the items emi...</td>\n",
       "    </tr>\n",
       "  </tbody>\n",
       "</table>\n",
       "</div>"
      ],
      "text/plain": [
       "                                               query  \\\n",
       "0  protected final void fastPathOrderedEmit(U val...   \n",
       "1  @CheckReturnValue\\n    @NonNull\\n    @Schedule...   \n",
       "2  @SuppressWarnings(\"unchecked\")\\n    @CheckRetu...   \n",
       "3  @SuppressWarnings({ \"unchecked\", \"rawtypes\" })...   \n",
       "4  @SuppressWarnings({ \"unchecked\", \"rawtypes\" })...   \n",
       "\n",
       "                                                 res  \n",
       "0  Makes sure the fast-path emits in order.\\n@par...  \n",
       "1  Mirrors the one ObservableSource in an Iterabl...  \n",
       "2  Mirrors the one ObservableSource in an array o...  \n",
       "3  Concatenates elements of each ObservableSource...  \n",
       "4  Returns an Observable that emits the items emi...  "
      ]
     },
     "execution_count": 5,
     "metadata": {},
     "output_type": "execute_result"
    }
   ],
   "source": [
    "mthds_cmts_df = pd.read_csv(data_path/\"mthds_cmts/mthds_cmts.csv\")\n",
    "mthds_cmts_df.head()"
   ]
  },
  {
   "cell_type": "code",
   "execution_count": 6,
   "metadata": {},
   "outputs": [
    {
     "data": {
      "text/plain": [
       "496688"
      ]
     },
     "execution_count": 6,
     "metadata": {},
     "output_type": "execute_result"
    }
   ],
   "source": [
    "len(mthds_cmts_df)"
   ]
  },
  {
   "cell_type": "code",
   "execution_count": 20,
   "metadata": {},
   "outputs": [
    {
     "name": "stdout",
     "output_type": "stream",
     "text": [
      "Query:\n",
      "Percentiles: [ 54.  87. 162. 315.]\n",
      "Median: 87.0\n",
      "Mean: 157.92236977740552\n",
      "StDev: 389.72365818821146\n",
      "Min: 21\n",
      "Max: 117727\n"
     ]
    },
    {
     "data": {
      "image/png": "[encoded data removed]",
      "text/plain": [
       "<Figure size 1320x240 with 1 Axes>"
      ]
     },
     "metadata": {},
     "output_type": "display_data"
    },
    {
     "data": {
      "image/png": "[encoded data removed]",
      "text/plain": [
       "<Figure size 432x288 with 1 Axes>"
      ]
     },
     "metadata": {
      "needs_background": "light"
     },
     "output_type": "display_data"
    },
    {
     "name": "stdout",
     "output_type": "stream",
     "text": [
      "Response:\n",
      "Percentiles: [ 18.  36.  67. 118.]\n",
      "Median: 36.0\n",
      "Mean: 56.64246166607609\n",
      "StDev: 85.5938832161176\n",
      "Min: 1\n",
      "Max: 7523\n"
     ]
    },
    {
     "data": {
      "image/png": "[encoded data removed]",
      "text/plain": [
       "<Figure size 1320x240 with 1 Axes>"
      ]
     },
     "metadata": {},
     "output_type": "display_data"
    },
    {
     "data": {
      "image/png": "[encoded data removed]",
      "text/plain": [
       "<Figure size 432x288 with 1 Axes>"
      ]
     },
     "metadata": {
      "needs_background": "light"
     },
     "output_type": "display_data"
    }
   ],
   "source": [
    "eda(mthds_cmts_df, sp)"
   ]
  },
  {
   "cell_type": "code",
   "execution_count": 21,
   "metadata": {},
   "outputs": [
    {
     "data": {
      "text/html": [
       "<div>\n",
       "<style scoped>\n",
       "    .dataframe tbody tr th:only-of-type {\n",
       "        vertical-align: middle;\n",
       "    }\n",
       "\n",
       "    .dataframe tbody tr th {\n",
       "        vertical-align: top;\n",
       "    }\n",
       "\n",
       "    .dataframe thead th {\n",
       "        text-align: right;\n",
       "    }\n",
       "</style>\n",
       "<table border=\"1\" class=\"dataframe\">\n",
       "  <thead>\n",
       "    <tr style=\"text-align: right;\">\n",
       "      <th></th>\n",
       "      <th>query</th>\n",
       "      <th>res</th>\n",
       "    </tr>\n",
       "  </thead>\n",
       "  <tbody>\n",
       "    <tr>\n",
       "      <td>0</td>\n",
       "      <td>I am calling a vendor's Java API, and on some ...</td>\n",
       "      <td>If you are using Java 5 or later, you can conn...</td>\n",
       "    </tr>\n",
       "    <tr>\n",
       "      <td>1</td>\n",
       "      <td>I am calling a vendor's Java API, and on some ...</td>\n",
       "      <td>If it's for professional purpose and you have ...</td>\n",
       "    </tr>\n",
       "    <tr>\n",
       "      <td>2</td>\n",
       "      <td>I am calling a vendor's Java API, and on some ...</td>\n",
       "      <td>Facing the same problem I used YourKit profile...</td>\n",
       "    </tr>\n",
       "    <tr>\n",
       "      <td>3</td>\n",
       "      <td>I am calling a vendor's Java API, and on some ...</td>\n",
       "      <td>Use a profiler. Yes they cost money, and using...</td>\n",
       "    </tr>\n",
       "    <tr>\n",
       "      <td>4</td>\n",
       "      <td>I am calling a vendor's Java API, and on some ...</td>\n",
       "      <td>If JConsole can't be used you can\\n\\n\\npress C...</td>\n",
       "    </tr>\n",
       "  </tbody>\n",
       "</table>\n",
       "</div>"
      ],
      "text/plain": [
       "                                               query  \\\n",
       "0  I am calling a vendor's Java API, and on some ...   \n",
       "1  I am calling a vendor's Java API, and on some ...   \n",
       "2  I am calling a vendor's Java API, and on some ...   \n",
       "3  I am calling a vendor's Java API, and on some ...   \n",
       "4  I am calling a vendor's Java API, and on some ...   \n",
       "\n",
       "                                                 res  \n",
       "0  If you are using Java 5 or later, you can conn...  \n",
       "1  If it's for professional purpose and you have ...  \n",
       "2  Facing the same problem I used YourKit profile...  \n",
       "3  Use a profiler. Yes they cost money, and using...  \n",
       "4  If JConsole can't be used you can\\n\\n\\npress C...  "
      ]
     },
     "execution_count": 21,
     "metadata": {},
     "output_type": "execute_result"
    }
   ],
   "source": [
    "so_df = pd.read_csv(data_path/\"so_posts/56942_10-3-19_formated.csv\")\n",
    "so_df.head()"
   ]
  },
  {
   "cell_type": "code",
   "execution_count": null,
   "metadata": {},
   "outputs": [],
   "source": [
    "len(so_df)"
   ]
  },
  {
   "cell_type": "code",
   "execution_count": 22,
   "metadata": {},
   "outputs": [
    {
     "name": "stdout",
     "output_type": "stream",
     "text": [
      "Query:\n",
      "Percentiles: [120. 215. 406. 793.]\n",
      "Median: 215.0\n",
      "Mean: 380.879333356749\n",
      "StDev: 575.3002851992665\n",
      "Min: 17\n",
      "Max: 19305\n"
     ]
    },
    {
     "data": {
      "image/png": "[encoded data removed]",
      "text/plain": [
       "<Figure size 1320x240 with 1 Axes>"
      ]
     },
     "metadata": {},
     "output_type": "display_data"
    },
    {
     "data": {
      "image/png": "[encoded data removed]",
      "text/plain": [
       "<Figure size 432x288 with 1 Axes>"
      ]
     },
     "metadata": {
      "needs_background": "light"
     },
     "output_type": "display_data"
    },
    {
     "name": "stdout",
     "output_type": "stream",
     "text": [
      "Response:\n",
      "Percentiles: [ 65. 119. 219. 393.]\n",
      "Median: 119.0\n",
      "Mean: 188.50414456815707\n",
      "StDev: 254.4335996328918\n",
      "Min: 1\n",
      "Max: 7599\n"
     ]
    },
    {
     "data": {
      "image/png": "[encoded data removed]",
      "text/plain": [
       "<Figure size 1320x240 with 1 Axes>"
      ]
     },
     "metadata": {},
     "output_type": "display_data"
    },
    {
     "data": {
      "image/png": "[encoded data removed]",
      "text/plain": [
       "<Figure size 432x288 with 1 Axes>"
      ]
     },
     "metadata": {
      "needs_background": "light"
     },
     "output_type": "display_data"
    }
   ],
   "source": [
    "eda(so_df, sp)"
   ]
  },
  {
   "cell_type": "code",
   "execution_count": null,
   "metadata": {},
   "outputs": [],
   "source": [
    "df.to_csv(data_path/\"mthds_cmts/mthds_cmts.csv\", index=False)"
   ]
  },
  {
   "cell_type": "code",
   "execution_count": null,
   "metadata": {},
   "outputs": [],
   "source": [
    "μ, σ, median = get_stats(list(df[\"query\"]), sp)\n",
    "μ, σ, median"
   ]
  },
  {
   "cell_type": "code",
   "execution_count": null,
   "metadata": {},
   "outputs": [],
   "source": [
    "toks = get_toks(list(df[\"query\"]), sp)"
   ]
  },
  {
   "cell_type": "code",
   "execution_count": null,
   "metadata": {},
   "outputs": [],
   "source": [
    "flatten = lambda l: [item for sublist in l for item in sublist]\n",
    "flatten_toks = flatten(toks)"
   ]
  },
  {
   "cell_type": "code",
   "execution_count": null,
   "metadata": {},
   "outputs": [],
   "source": [
    "counts = Counter(flatten_toks)"
   ]
  },
  {
   "cell_type": "code",
   "execution_count": null,
   "metadata": {},
   "outputs": [],
   "source": [
    "plot_counts(counts)"
   ]
  },
  {
   "cell_type": "code",
   "execution_count": null,
   "metadata": {},
   "outputs": [],
   "source": []
  }
 ],
 "metadata": {
  "kernelspec": {
   "display_name": "Python 3",
   "language": "python",
   "name": "python3"
  },
  "language_info": {
   "codemirror_mode": {
    "name": "ipython",
    "version": 3
   },
   "file_extension": ".py",
   "mimetype": "text/x-python",
   "name": "python",
   "nbconvert_exporter": "python",
   "pygments_lexer": "ipython3",
   "version": "3.6.8"
  }
 },
 "nbformat": 4,
 "nbformat_minor": 2
}
